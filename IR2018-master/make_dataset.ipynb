{
 "cells": [
  {
   "cell_type": "markdown",
   "metadata": {},
   "source": [
    "# Building the dataset of research papers"
   ]
  },
  {
   "cell_type": "markdown",
   "metadata": {},
   "source": [
    "The [Entrez](http://biopython.org/DIST/docs/api/Bio.Entrez-module.html) module, a part of the [Biopython](http://biopython.org/) library, will be used to interface with [PubMed](http://www.ncbi.nlm.nih.gov/pubmed).<br>\n",
    "You can download Biopython from [here](http://biopython.org/wiki/Download).\n",
    "\n",
    "In this notebook we will be covering several of the steps taken in the [Biopython Tutorial](http://biopython.org/DIST/docs/tutorial/Tutorial.html), specifically in [Chapter 9  Accessing NCBI’s Entrez databases](http://biopython.org/DIST/docs/tutorial/Tutorial.html#htoc109)."
   ]
  },
  {
   "cell_type": "code",
   "execution_count": 1,
   "metadata": {},
   "outputs": [],
   "source": [
    "from Bio import Entrez\n",
    "\n",
    "# NCBI requires you to set your email address to make use of NCBI's E-utilities\n",
    "Entrez.email = \"Your.Name.Here@example.org\""
   ]
  },
  {
   "cell_type": "markdown",
   "metadata": {},
   "source": [
    "The datasets will be saved as serialized Python objects, compressed with bzip2.\n",
    "Saving/loading them will therefore require the [pickle](http://docs.python.org/3/library/pickle.html) and [bz2](http://docs.python.org/3/library/bz2.html) modules."
   ]
  },
  {
   "cell_type": "code",
   "execution_count": 2,
   "metadata": {},
   "outputs": [],
   "source": [
    "import pickle, bz2, os"
   ]
  },
  {
   "cell_type": "markdown",
   "metadata": {},
   "source": [
    "## EInfo: Obtaining information about the Entrez databases"
   ]
  },
  {
   "cell_type": "code",
   "execution_count": 3,
   "metadata": {},
   "outputs": [],
   "source": [
    "# accessing extended information about the PubMed database\n",
    "pubmed = Entrez.read( Entrez.einfo(db=\"pubmed\"), validate=False )[u'DbInfo']\n",
    "\n",
    "# list of possible search fields for use with ESearch:\n",
    "search_fields = { f['Name']:f['Description'] for f in pubmed[\"FieldList\"] }"
   ]
  },
  {
   "cell_type": "markdown",
   "metadata": {},
   "source": [
    "In search_fields, we find 'TIAB' ('Free text associated with Abstract/Title') as a possible search field to use in searches."
   ]
  },
  {
   "cell_type": "code",
   "execution_count": 4,
   "metadata": {},
   "outputs": [
    {
     "data": {
      "text/plain": [
       "{'AFFL': \"Author's institutional affiliation and address\",\n",
       " 'ALL': 'All terms from all searchable fields',\n",
       " 'AUCL': 'Author Cluster ID',\n",
       " 'AUID': 'Author Identifier',\n",
       " 'AUTH': 'Author(s) of publication',\n",
       " 'BOOK': 'ID of the book that contains the document',\n",
       " 'CDAT': 'Date of completion',\n",
       " 'CNTY': 'Country of publication',\n",
       " 'COIS': 'Conflict of Interest Statements',\n",
       " 'COLN': 'Corporate Author of publication',\n",
       " 'CRDT': 'Date publication first accessible through Entrez',\n",
       " 'DSO': 'Additional text from the summary',\n",
       " 'ECNO': 'EC number for enzyme or CAS registry number',\n",
       " 'ED': \"Section's Editor\",\n",
       " 'EDAT': 'Date publication first accessible through Entrez',\n",
       " 'EID': 'Extended PMID',\n",
       " 'EPDT': 'Date of Electronic publication',\n",
       " 'FAUT': 'First Author of publication',\n",
       " 'FILT': 'Limits the records',\n",
       " 'FINV': 'Full name of investigator',\n",
       " 'FULL': 'Full Author Name(s) of publication',\n",
       " 'GRNT': 'NIH Grant Numbers',\n",
       " 'INVR': 'Investigator',\n",
       " 'ISBN': 'ISBN',\n",
       " 'ISS': 'Issue number of publication',\n",
       " 'JOUR': 'Journal abbreviation of publication',\n",
       " 'LANG': 'Language of publication',\n",
       " 'LAUT': 'Last Author of publication',\n",
       " 'LID': 'ELocation ID',\n",
       " 'MAJR': 'MeSH terms of major importance to publication',\n",
       " 'MDAT': 'Date of last modification',\n",
       " 'MESH': 'Medical Subject Headings assigned to publication',\n",
       " 'MHDA': 'Date publication was indexed with MeSH terms',\n",
       " 'OTRM': 'Other terms associated with publication',\n",
       " 'PAGE': 'Page number(s) of publication',\n",
       " 'PAPX': 'MeSH pharmacological action pre-explosions',\n",
       " 'PDAT': 'Date of publication',\n",
       " 'PID': 'Publisher ID',\n",
       " 'PPDT': 'Date of print publication',\n",
       " 'PS': 'Personal Name as Subject',\n",
       " 'PTYP': 'Type of publication (e.g., review)',\n",
       " 'PUBN': \"Publisher's name\",\n",
       " 'SI': 'Cross-reference from publication to other databases',\n",
       " 'SUBH': 'Additional specificity for MeSH term',\n",
       " 'SUBS': 'CAS chemical name or MEDLINE Substance Name',\n",
       " 'TIAB': 'Free text associated with Abstract/Title',\n",
       " 'TITL': 'Words in title of publication',\n",
       " 'TT': 'Words in transliterated title of publication',\n",
       " 'UID': 'Unique number assigned to publication',\n",
       " 'VOL': 'Volume number of publication',\n",
       " 'WORD': 'Free text associated with publication'}"
      ]
     },
     "execution_count": 4,
     "metadata": {},
     "output_type": "execute_result"
    }
   ],
   "source": [
    "search_fields"
   ]
  },
  {
   "cell_type": "markdown",
   "metadata": {},
   "source": [
    "## ESearch: Searching the Entrez databases"
   ]
  },
  {
   "cell_type": "markdown",
   "metadata": {},
   "source": [
    "To have a look at the kind of data we get when searching the database, we'll perform a search for papers authored by Haasdijk:"
   ]
  },
  {
   "cell_type": "code",
   "execution_count": 5,
   "metadata": {},
   "outputs": [
    {
     "data": {
      "text/plain": [
       "{'Count': '36', 'RetMax': '20', 'RetStart': '0', 'IdList': ['29311830', '28513205', '28513201', '28323435', '28140628', '26933487', '24977986', '24901702', '24852945', '24708899', '24252306', '23580075', '23144668', '22174697', '22154920', '21870131', '21760539', '20662596', '20602234', '20386726'], 'TranslationSet': [], 'TranslationStack': [{'Term': 'Haasdijk E[Author]', 'Field': 'Author', 'Count': '36', 'Explode': 'N'}, 'GROUP'], 'QueryTranslation': 'Haasdijk E[Author]'}"
      ]
     },
     "execution_count": 5,
     "metadata": {},
     "output_type": "execute_result"
    }
   ],
   "source": [
    "example_authors = ['Haasdijk E']\n",
    "example_search = Entrez.read( Entrez.esearch( db=\"pubmed\", term=' AND '.join([a+'[AUTH]' for a in example_authors]) ) )\n",
    "example_search"
   ]
  },
  {
   "cell_type": "markdown",
   "metadata": {},
   "source": [
    "Note how the result being produced is not in Python's native string format:"
   ]
  },
  {
   "cell_type": "code",
   "execution_count": 6,
   "metadata": {},
   "outputs": [
    {
     "data": {
      "text/plain": [
       "Bio.Entrez.Parser.StringElement"
      ]
     },
     "execution_count": 6,
     "metadata": {},
     "output_type": "execute_result"
    }
   ],
   "source": [
    "type( example_search['IdList'][0] )"
   ]
  },
  {
   "cell_type": "markdown",
   "metadata": {},
   "source": [
    "The part of the query's result we are most interested in is accessible through"
   ]
  },
  {
   "cell_type": "code",
   "execution_count": 7,
   "metadata": {},
   "outputs": [
    {
     "name": "stdout",
     "output_type": "stream",
     "text": [
      "[29311830, 28513205, 28513201, 28323435, 28140628, 26933487, 24977986, 24901702, 24852945, 24708899, 24252306, 23580075, 23144668, 22174697, 22154920, 21870131, 21760539, 20662596, 20602234, 20386726]\n"
     ]
    }
   ],
   "source": [
    "example_ids = [ int(id) for id in example_search['IdList'] ]\n",
    "print(example_ids)"
   ]
  },
  {
   "cell_type": "markdown",
   "metadata": {},
   "source": [
    "### PubMed IDs dataset"
   ]
  },
  {
   "cell_type": "markdown",
   "metadata": {},
   "source": [
    "We will now assemble a dataset comprised of research articles containing the given keyword, in either their titles or abstracts."
   ]
  },
  {
   "cell_type": "code",
   "execution_count": 8,
   "metadata": {},
   "outputs": [],
   "source": [
    "search_term = 'influenza'"
   ]
  },
  {
   "cell_type": "code",
   "execution_count": 9,
   "metadata": {},
   "outputs": [],
   "source": [
    "Ids_file = 'data/' + search_term + '_Ids.pkl.bz2'"
   ]
  },
  {
   "cell_type": "code",
   "execution_count": 10,
   "metadata": {},
   "outputs": [
    {
     "name": "stdout",
     "output_type": "stream",
     "text": [
      "87693 documents contain the search term \"influenza\".\n"
     ]
    }
   ],
   "source": [
    "if os.path.exists( Ids_file ):\n",
    "    Ids = pickle.load( bz2.BZ2File( Ids_file, 'rb' ) )\n",
    "else:\n",
    "    # determine the number of hits for the search term\n",
    "    search = Entrez.read( Entrez.esearch( db=\"pubmed\", term=search_term+'[TIAB]', retmax=0 ) )\n",
    "    total = int( search['Count'] )\n",
    "    \n",
    "    # `Ids` will be incrementally assembled, by performing multiple queries,\n",
    "    # each returning at most `retrieve_per_query` entries.\n",
    "    Ids_str = []\n",
    "    retrieve_per_query = 10000\n",
    "    \n",
    "    for start in range( 0, total, retrieve_per_query ):\n",
    "        print('Fetching IDs of results [%d,%d]' % ( start, start+retrieve_per_query ) )\n",
    "        s = Entrez.read( Entrez.esearch( db=\"pubmed\", term=search_term+'[TIAB]', retstart=start, retmax=retrieve_per_query ) )\n",
    "        Ids_str.extend( s[ u'IdList' ] )\n",
    "    \n",
    "    # convert Ids to integers (and ensure that the conversion is reversible)\n",
    "    Ids = [ int(id) for id in Ids_str ]\n",
    "    \n",
    "    for (id_str, id_int) in zip(Ids_str, Ids):\n",
    "        if str(id_int) != id_str:\n",
    "            raise Exception('Conversion of PubMed ID %s from string to integer it not reversible.' % id_str )\n",
    "    \n",
    "    # Remove IDs that would cause problems below:\n",
    "    Ids.remove(28078898)\n",
    "    Ids.remove(7467326)\n",
    "    Ids.remove(27319233)\n",
    "    Ids.remove(26084645)\n",
    "    \n",
    "    # Save list of Ids\n",
    "    pickle.dump( Ids, bz2.BZ2File( Ids_file, 'wb' ) )\n",
    "    \n",
    "total = len( Ids )\n",
    "print('%d documents contain the search term \"%s\".' % ( total, search_term ) )"
   ]
  },
  {
   "cell_type": "markdown",
   "metadata": {},
   "source": [
    "Taking a look at what we just retrieved, here are the last 5 elements of the `Ids` list:"
   ]
  },
  {
   "cell_type": "code",
   "execution_count": 11,
   "metadata": {},
   "outputs": [
    {
     "data": {
      "text/plain": [
       "[30248524, 30248474, 30248374, 30248373, 30248106]"
      ]
     },
     "execution_count": 11,
     "metadata": {},
     "output_type": "execute_result"
    }
   ],
   "source": [
    "Ids[:5]"
   ]
  },
  {
   "cell_type": "markdown",
   "metadata": {},
   "source": [
    "## ESummary: Retrieving summaries from primary IDs"
   ]
  },
  {
   "cell_type": "markdown",
   "metadata": {},
   "source": [
    "To have a look at the kind of metadata we get from a call to `Entrez.esummary()`, we now fetch the summary of one of Haasdijk's papers (using one of the PubMed IDs we obtained in the previous section:"
   ]
  },
  {
   "cell_type": "code",
   "execution_count": 12,
   "metadata": {},
   "outputs": [
    {
     "name": "stdout",
     "output_type": "stream",
     "text": [
      "Item\n",
      "\t []\n",
      "Id\n",
      "\t 30227210\n",
      "PubDate\n",
      "\t 2018 Sep 15\n",
      "EPubDate\n",
      "\t 2018 Sep 15\n",
      "Source\n",
      "\t Int J Biol Macromol\n",
      "AuthorList\n",
      "\t ['Li Q', 'Wang Q', 'Jin X', 'Chen Z', 'Xiong C', 'Li P', 'Zhao J', 'Huang W']\n",
      "LastAuthor\n",
      "\t Huang W\n",
      "Title\n",
      "\t The first complete mitochondrial genome from the family Hygrophoraceae (Hygrophorus russula) by next-generation sequencing and phylogenetic implications.\n",
      "Volume\n",
      "\t \n",
      "Issue\n",
      "\t \n",
      "Pages\n",
      "\t \n",
      "LangList\n",
      "\t ['English']\n",
      "NlmUniqueID\n",
      "\t 7909578\n",
      "ISSN\n",
      "\t 0141-8130\n",
      "ESSN\n",
      "\t 1879-0003\n",
      "PubTypeList\n",
      "\t ['Journal Article']\n",
      "RecordStatus\n",
      "\t PubMed - as supplied by publisher\n",
      "PubStatus\n",
      "\t aheadofprint\n",
      "ArticleIds\n",
      "\t {'pubmed': ['30227210'], 'medline': [], 'pii': 'S0141-8130(18)34352-6', 'doi': '10.1016/j.ijbiomac.2018.09.091', 'rid': '30227210', 'eid': '30227210'}\n",
      "DOI\n",
      "\t 10.1016/j.ijbiomac.2018.09.091\n",
      "History\n",
      "\t {'pubmed': ['2018/09/19 06:00'], 'medline': ['2018/09/19 06:00'], 'received': '2018/08/18 00:00', 'revised': '2018/09/13 00:00', 'accepted': '2018/09/14 00:00', 'entrez': '2018/09/19 06:00'}\n",
      "References\n",
      "\t []\n",
      "HasAbstract\n",
      "\t 1\n",
      "PmcRefCount\n",
      "\t 0\n",
      "FullJournalName\n",
      "\t International journal of biological macromolecules\n",
      "ELocationID\n",
      "\t pii: S0141-8130(18)34352-6. doi: 10.1016/j.ijbiomac.2018.09.091\n",
      "SO\n",
      "\t 2018 Sep 15;\n"
     ]
    }
   ],
   "source": [
    "example_paper = Entrez.read( Entrez.esummary(db=\"pubmed\", id='30227210') )[0]\n",
    "\n",
    "def print_dict( p ):\n",
    "    for k,v in p.items():\n",
    "        print(k)\n",
    "        print('\\t', v)\n",
    "\n",
    "print_dict(example_paper)"
   ]
  },
  {
   "cell_type": "markdown",
   "metadata": {},
   "source": [
    "For now, we'll keep just some basic information for each paper: title, list of authors, publication year, and [DOI](https://en.wikipedia.org/wiki/Digital_object_identifier).\n",
    "\n",
    "In case you are not familiar with the DOI system, know that the paper above can be accessed through the link  `https://www.doi.org/` followed by the paper's DOI."
   ]
  },
  {
   "cell_type": "code",
   "execution_count": 13,
   "metadata": {},
   "outputs": [
    {
     "data": {
      "text/plain": [
       "('The first complete mitochondrial genome from the family Hygrophoraceae (Hygrophorus russula) by next-generation sequencing and phylogenetic implications.',\n",
       " ['Li Q', 'Wang Q', 'Jin X', 'Chen Z', 'Xiong C', 'Li P', 'Zhao J', 'Huang W'],\n",
       " 2018,\n",
       " '10.1016/j.ijbiomac.2018.09.091')"
      ]
     },
     "execution_count": 13,
     "metadata": {},
     "output_type": "execute_result"
    }
   ],
   "source": [
    "( example_paper['Title'], example_paper['AuthorList'], int(example_paper['PubDate'][:4]), example_paper['DOI'] )"
   ]
  },
  {
   "cell_type": "markdown",
   "metadata": {},
   "source": [
    "### Summaries dataset"
   ]
  },
  {
   "cell_type": "markdown",
   "metadata": {},
   "source": [
    "We are now ready to assemble a dataset containing the summaries of all the paper `Ids` we previously fetched.\n",
    "\n",
    "To reduce the memory footprint, and to ensure the saved datasets won't depend on Biopython being installed to be properly loaded, values returned by `Entrez.read()` will be converted to their corresponding native Python types. We start by defining a function for helping with the conversion of strings:"
   ]
  },
  {
   "cell_type": "code",
   "execution_count": 14,
   "metadata": {},
   "outputs": [],
   "source": [
    "Summaries_file = 'data/' + search_term + '_Summaries.pkl.bz2'"
   ]
  },
  {
   "cell_type": "code",
   "execution_count": 15,
   "metadata": {},
   "outputs": [],
   "source": [
    "if os.path.exists( Summaries_file ):\n",
    "    Summaries = pickle.load( bz2.BZ2File( Summaries_file, 'rb' ) )\n",
    "else:\n",
    "    # `Summaries` will be incrementally assembled, by performing multiple queries,\n",
    "    # each returning at most `retrieve_per_query` entries.\n",
    "    Summaries = []\n",
    "    retrieve_per_query = 500\n",
    "    \n",
    "    print('Fetching Summaries of results: ')\n",
    "    for start in range( 0, len(Ids), retrieve_per_query ):\n",
    "        if (start % 10000 == 0):\n",
    "            print('')\n",
    "            print(start, end='')\n",
    "        else:\n",
    "            print('.', end='')\n",
    "        \n",
    "        # build comma separated string with the ids at indexes [start, start+retrieve_per_query)\n",
    "        query_ids = ','.join( [ str(id) for id in Ids[ start : start+retrieve_per_query ] ] )\n",
    "        \n",
    "        s = Entrez.read( Entrez.esummary( db=\"pubmed\", id=query_ids ) )\n",
    "        \n",
    "        # out of the retrieved data, we will keep only a tuple (title, authors, year, DOI), associated with the paper's id.\n",
    "        # (all values converted to native Python formats)\n",
    "        for p in s:\n",
    "            try:\n",
    "                f = [\n",
    "                    ( int( p['Id'] ), (\n",
    "                        str( p['Title'] ),\n",
    "                        [ str(a) for a in p['AuthorList'] ],\n",
    "                        int( p['PubDate'][:4] ),                # keeps just the publication year\n",
    "                        str( p.get('DOI', '') )            # papers for which no DOI is available get an empty string in their place\n",
    "                        ) )\n",
    "                    ]\n",
    "                Summaries.extend( f )\n",
    "            except ValueError as e:\n",
    "                print(\"\\nError with ID \" + p['Id'] + \": \" + str(e))\n",
    "                print(\"Manually remove this ID above and re-run code.\")\n",
    "    \n",
    "    # Save Summaries, as a dictionary indexed by Ids\n",
    "    Summaries = dict( Summaries )\n",
    "    \n",
    "    pickle.dump( Summaries, bz2.BZ2File( Summaries_file, 'wb' ) )"
   ]
  },
  {
   "cell_type": "markdown",
   "metadata": {},
   "source": [
    "Let us take a look at the first 3 retrieved summaries:"
   ]
  },
  {
   "cell_type": "code",
   "execution_count": 16,
   "metadata": {},
   "outputs": [
    {
     "data": {
      "text/plain": [
       "{30248374: ('Influenza virus replication raises the temperature of cells.',\n",
       "  ['Maruyama H',\n",
       "   'Kimura T',\n",
       "   'Liu H',\n",
       "   'Ohtsuki S',\n",
       "   'Miyake Y',\n",
       "   'Isogai M',\n",
       "   'Arai F',\n",
       "   'Honda A'],\n",
       "  2018,\n",
       "  '10.1016/j.virusres.2018.09.011'),\n",
       " 30248474: ('A family cluster of two fatal cases infected with influenza A (H7N9) virus in Kunming China, 2017.',\n",
       "  ['Guo L',\n",
       "   'Hou M',\n",
       "   'Ning R',\n",
       "   'Li W',\n",
       "   'Yang Z',\n",
       "   'Li H',\n",
       "   'Chu M',\n",
       "   'Yu L',\n",
       "   'Liu L'],\n",
       "  2018,\n",
       "  '10.1016/j.meegid.2018.09.022'),\n",
       " 30248524: ('Combined use of live-attenuated and inactivated influenza vaccines to enhance heterosubtypic protection.',\n",
       "  ['Yan LM',\n",
       "   'Li OTW',\n",
       "   'Poh CM',\n",
       "   'Perera RAPM',\n",
       "   'Valkenburg SA',\n",
       "   'Peiris M',\n",
       "   'Poon LLM'],\n",
       "  2018,\n",
       "  '10.1016/j.virol.2018.09.007')}"
      ]
     },
     "execution_count": 16,
     "metadata": {},
     "output_type": "execute_result"
    }
   ],
   "source": [
    "{ id : Summaries[id] for id in Ids[:3] }"
   ]
  },
  {
   "cell_type": "markdown",
   "metadata": {},
   "source": [
    "## EFetch: Downloading full records from Entrez"
   ]
  },
  {
   "cell_type": "markdown",
   "metadata": {},
   "source": [
    "`Entrez.efetch()` is the function that will allow us to obtain paper abstracts. Let us start by taking a look at the kind of data it returns when we query PubMed's database."
   ]
  },
  {
   "cell_type": "code",
   "execution_count": 17,
   "metadata": {},
   "outputs": [],
   "source": [
    "q = Entrez.read( Entrez.efetch(db=\"pubmed\", id='30227210', retmode=\"xml\") )['PubmedArticle']"
   ]
  },
  {
   "cell_type": "markdown",
   "metadata": {},
   "source": [
    "`q` is a list, with each member corresponding to a queried id. Because here we only queried for one id, its results are then in `q[0]`."
   ]
  },
  {
   "cell_type": "code",
   "execution_count": 18,
   "metadata": {},
   "outputs": [
    {
     "data": {
      "text/plain": [
       "(list, 1)"
      ]
     },
     "execution_count": 18,
     "metadata": {},
     "output_type": "execute_result"
    }
   ],
   "source": [
    "type(q), len(q)"
   ]
  },
  {
   "cell_type": "markdown",
   "metadata": {},
   "source": [
    "1\n",
    "At `q[0]` we find a dictionary containing two keys, the contents of which we print below."
   ]
  },
  {
   "cell_type": "code",
   "execution_count": 19,
   "metadata": {},
   "outputs": [
    {
     "data": {
      "text/plain": [
       "(Bio.Entrez.Parser.DictionaryElement,\n",
       " dict_keys(['MedlineCitation', 'PubmedData']))"
      ]
     },
     "execution_count": 19,
     "metadata": {},
     "output_type": "execute_result"
    }
   ],
   "source": [
    "type(q[0]), q[0].keys()"
   ]
  },
  {
   "cell_type": "code",
   "execution_count": 20,
   "metadata": {},
   "outputs": [
    {
     "name": "stdout",
     "output_type": "stream",
     "text": [
      "History\n",
      "\t [DictElement({'Year': '2018', 'Month': '08', 'Day': '18'}, attributes={'PubStatus': 'received'}), DictElement({'Year': '2018', 'Month': '09', 'Day': '13'}, attributes={'PubStatus': 'revised'}), DictElement({'Year': '2018', 'Month': '09', 'Day': '14'}, attributes={'PubStatus': 'accepted'}), DictElement({'Year': '2018', 'Month': '9', 'Day': '19', 'Hour': '6', 'Minute': '0'}, attributes={'PubStatus': 'pubmed'}), DictElement({'Year': '2018', 'Month': '9', 'Day': '19', 'Hour': '6', 'Minute': '0'}, attributes={'PubStatus': 'medline'}), DictElement({'Year': '2018', 'Month': '9', 'Day': '19', 'Hour': '6', 'Minute': '0'}, attributes={'PubStatus': 'entrez'})]\n",
      "PublicationStatus\n",
      "\t aheadofprint\n",
      "ArticleIdList\n",
      "\t [StringElement('30227210', attributes={'IdType': 'pubmed'}), StringElement('S0141-8130(18)34352-6', attributes={'IdType': 'pii'}), StringElement('10.1016/j.ijbiomac.2018.09.091', attributes={'IdType': 'doi'})]\n"
     ]
    }
   ],
   "source": [
    "print_dict( q[0][ 'PubmedData' ] )"
   ]
  },
  {
   "cell_type": "markdown",
   "metadata": {},
   "source": [
    "The key `'MedlineCitation'` maps into another dictionary. In that dictionary, most of the information is contained under the key `'Article'`. To minimize the clutter, below we show the contents of `'MedlineCitation'` excluding its `'Article'` member, and below that we then show the contents of `'Article'`."
   ]
  },
  {
   "cell_type": "code",
   "execution_count": 21,
   "metadata": {},
   "outputs": [
    {
     "name": "stdout",
     "output_type": "stream",
     "text": [
      "CitationSubset\n",
      "\t []\n",
      "OtherID\n",
      "\t []\n",
      "OtherAbstract\n",
      "\t []\n",
      "KeywordList\n",
      "\t [ListElement([StringElement('Gene rearrangement', attributes={'MajorTopicYN': 'N'}), StringElement('Hygrophorus', attributes={'MajorTopicYN': 'N'}), StringElement('Mitochondrial genome', attributes={'MajorTopicYN': 'N'}), StringElement('Phylogenetic analysis', attributes={'MajorTopicYN': 'N'}), StringElement('Protein-encoding gene', attributes={'MajorTopicYN': 'N'}), StringElement('Repeat sequence', attributes={'MajorTopicYN': 'N'})], attributes={'Owner': 'NOTNLM'})]\n",
      "SpaceFlightMission\n",
      "\t []\n",
      "GeneralNote\n",
      "\t []\n",
      "PMID\n",
      "\t 30227210\n",
      "DateRevised\n",
      "\t {'Year': '2018', 'Month': '09', 'Day': '21'}\n",
      "MedlineJournalInfo\n",
      "\t {'Country': 'Netherlands', 'MedlineTA': 'Int J Biol Macromol', 'NlmUniqueID': '7909578', 'ISSNLinking': '0141-8130'}\n"
     ]
    }
   ],
   "source": [
    "print_dict( { k:v for k,v in q[0][ 'MedlineCitation' ].items() if k!='Article' } )"
   ]
  },
  {
   "cell_type": "code",
   "execution_count": 22,
   "metadata": {},
   "outputs": [
    {
     "name": "stdout",
     "output_type": "stream",
     "text": [
      "ELocationID\n",
      "\t [StringElement('S0141-8130(18)34352-6', attributes={'EIdType': 'pii', 'ValidYN': 'Y'}), StringElement('10.1016/j.ijbiomac.2018.09.091', attributes={'EIdType': 'doi', 'ValidYN': 'Y'})]\n",
      "Language\n",
      "\t ['eng']\n",
      "ArticleDate\n",
      "\t [DictElement({'Year': '2018', 'Month': '09', 'Day': '15'}, attributes={'DateType': 'Electronic'})]\n",
      "Journal\n",
      "\t {'ISSN': StringElement('1879-0003', attributes={'IssnType': 'Electronic'}), 'JournalIssue': DictElement({'PubDate': {'Year': '2018', 'Month': 'Sep', 'Day': '15'}}, attributes={'CitedMedium': 'Internet'}), 'Title': 'International journal of biological macromolecules', 'ISOAbbreviation': 'Int. J. Biol. Macromol.'}\n",
      "ArticleTitle\n",
      "\t The first complete mitochondrial genome from the family Hygrophoraceae (Hygrophorus russula) by next-generation sequencing and phylogenetic implications.\n",
      "Abstract\n",
      "\t {'AbstractText': ['Hygrophorus russula (Schaeff.) Kauffman is an edible ectomycorrhizal fungus that is widely distributed in the world. In this study, the mitogenome of H. russula was sequenced and assembled. The mitogenome of H. russula is composed of circular DNA molecules, with a total size of 55,769\\u202fbp. Further analysis indicated that the frequent use of A and T in codons contributes to the high AT content (80.87%) in the H. russula mitogenome. Comparative analysis indicated that the length and base composition of the core protein-encoding genes, and the number of tRNA genes in the H. russula mitogenome varied from that of other Agaricales mitogenomes. Gene arrangement analysis revealed a novel gene order in the H. russula mitogenome. In addition, the expansion of the mitogenome in Agaricales was found to be closely related to the increase in the number of introns. Phylogenetic analysis of the combined mitochondrial gene set showed strong support for tree topologies, and H. russula was determined to be relatively distant from other Agaricales species. This study is the first report on the mitogenome of a member of genus Hygrophorus as well as family Hygrophoraceae, which improves our understanding of mitochondrial differentiation and evolution in the important ectomycorrhizal fungi Hygrophorus species.'], 'CopyrightInformation': 'Copyright © 2018. Published by Elsevier B.V.'}\n",
      "AuthorList\n",
      "\t ListElement([DictElement({'Identifier': [], 'AffiliationInfo': [{'Identifier': [], 'Affiliation': 'Biotechnology and Nuclear Technology Research Institute, Sichuan Academy of Agricultural Sciences, Chengdu 610061, Sichuan, PR China; Key Laboratory of Bio-Resource and Eco-Environment of Ministry of Education, College of Life Sciences, Sichuan University, Chengdu 610065, Sichuan, PR China.'}], 'LastName': 'Li', 'ForeName': 'Qiang', 'Initials': 'Q'}, attributes={'ValidYN': 'Y'}), DictElement({'Identifier': [], 'AffiliationInfo': [{'Identifier': [], 'Affiliation': 'Biotechnology and Nuclear Technology Research Institute, Sichuan Academy of Agricultural Sciences, Chengdu 610061, Sichuan, PR China.'}], 'LastName': 'Wang', 'ForeName': 'Qiangfeng', 'Initials': 'Q'}, attributes={'ValidYN': 'Y'}), DictElement({'Identifier': [], 'AffiliationInfo': [{'Identifier': [], 'Affiliation': 'Biotechnology and Nuclear Technology Research Institute, Sichuan Academy of Agricultural Sciences, Chengdu 610061, Sichuan, PR China.'}], 'LastName': 'Jin', 'ForeName': 'Xin', 'Initials': 'X'}, attributes={'ValidYN': 'Y'}), DictElement({'Identifier': [], 'AffiliationInfo': [{'Identifier': [], 'Affiliation': 'Biotechnology and Nuclear Technology Research Institute, Sichuan Academy of Agricultural Sciences, Chengdu 610061, Sichuan, PR China.'}], 'LastName': 'Chen', 'ForeName': 'Zuqin', 'Initials': 'Z'}, attributes={'ValidYN': 'Y'}), DictElement({'Identifier': [], 'AffiliationInfo': [{'Identifier': [], 'Affiliation': 'Biotechnology and Nuclear Technology Research Institute, Sichuan Academy of Agricultural Sciences, Chengdu 610061, Sichuan, PR China.'}], 'LastName': 'Xiong', 'ForeName': 'Chuan', 'Initials': 'C'}, attributes={'ValidYN': 'Y'}), DictElement({'Identifier': [], 'AffiliationInfo': [{'Identifier': [], 'Affiliation': 'Biotechnology and Nuclear Technology Research Institute, Sichuan Academy of Agricultural Sciences, Chengdu 610061, Sichuan, PR China.'}], 'LastName': 'Li', 'ForeName': 'Ping', 'Initials': 'P'}, attributes={'ValidYN': 'Y'}), DictElement({'Identifier': [], 'AffiliationInfo': [{'Identifier': [], 'Affiliation': 'Key Laboratory of Bio-Resource and Eco-Environment of Ministry of Education, College of Life Sciences, Sichuan University, Chengdu 610065, Sichuan, PR China. Electronic address: zj804@163.com.'}], 'LastName': 'Zhao', 'ForeName': 'Jian', 'Initials': 'J'}, attributes={'ValidYN': 'Y'}), DictElement({'Identifier': [], 'AffiliationInfo': [{'Identifier': [], 'Affiliation': 'Biotechnology and Nuclear Technology Research Institute, Sichuan Academy of Agricultural Sciences, Chengdu 610061, Sichuan, PR China. Electronic address: wenlih11@126.com.'}], 'LastName': 'Huang', 'ForeName': 'Wenli', 'Initials': 'W'}, attributes={'ValidYN': 'Y'})], attributes={'CompleteYN': 'Y'})\n",
      "PublicationTypeList\n",
      "\t [StringElement('Journal Article', attributes={'UI': 'D016428'})]\n"
     ]
    }
   ],
   "source": [
    "print_dict( q[0][ 'MedlineCitation' ][ 'Article' ] )"
   ]
  },
  {
   "cell_type": "markdown",
   "metadata": {},
   "source": [
    "A paper's abstract can therefore be accessed with:"
   ]
  },
  {
   "cell_type": "code",
   "execution_count": 23,
   "metadata": {},
   "outputs": [
    {
     "data": {
      "text/plain": [
       "{30227210: 'Hygrophorus russula (Schaeff.) Kauffman is an edible ectomycorrhizal fungus that is widely distributed in the world. In this study, the mitogenome of H. russula was sequenced and assembled. The mitogenome of H. russula is composed of circular DNA molecules, with a total size of 55,769\\u202fbp. Further analysis indicated that the frequent use of A and T in codons contributes to the high AT content (80.87%) in the H. russula mitogenome. Comparative analysis indicated that the length and base composition of the core protein-encoding genes, and the number of tRNA genes in the H. russula mitogenome varied from that of other Agaricales mitogenomes. Gene arrangement analysis revealed a novel gene order in the H. russula mitogenome. In addition, the expansion of the mitogenome in Agaricales was found to be closely related to the increase in the number of introns. Phylogenetic analysis of the combined mitochondrial gene set showed strong support for tree topologies, and H. russula was determined to be relatively distant from other Agaricales species. This study is the first report on the mitogenome of a member of genus Hygrophorus as well as family Hygrophoraceae, which improves our understanding of mitochondrial differentiation and evolution in the important ectomycorrhizal fungi Hygrophorus species.'}"
      ]
     },
     "execution_count": 23,
     "metadata": {},
     "output_type": "execute_result"
    }
   ],
   "source": [
    "{ int(q[0]['MedlineCitation']['PMID']) : str(q[0]['MedlineCitation']['Article']['Abstract']['AbstractText'][0]) }"
   ]
  },
  {
   "cell_type": "markdown",
   "metadata": {},
   "source": [
    "Some of the ids in our dataset refer to books from the [NCBI Bookshelf](http://www.ncbi.nlm.nih.gov/books/), a collection of freely available, downloadable, on-line versions of selected biomedical books. For such ids, `Entrez.efetch()` returns a slightly different structure, where the keys `[u'BookDocument', u'PubmedBookData']` take the place of the `[u'MedlineCitation', u'PubmedData']` keys we saw above."
   ]
  },
  {
   "cell_type": "markdown",
   "metadata": {},
   "source": [
    "### Abstracts dataset"
   ]
  },
  {
   "cell_type": "markdown",
   "metadata": {},
   "source": [
    "We can now assemble a dataset mapping paper ids to their abstracts."
   ]
  },
  {
   "cell_type": "code",
   "execution_count": 24,
   "metadata": {},
   "outputs": [],
   "source": [
    "Abstracts_file = 'data/' + search_term + '_Abstracts.pkl.bz2'"
   ]
  },
  {
   "cell_type": "code",
   "execution_count": 25,
   "metadata": {
    "scrolled": true
   },
   "outputs": [],
   "source": [
    "import http.client\n",
    "from collections import deque\n",
    "from xml.dom import minidom\n",
    "import re\n",
    "\n",
    "def ch(node, childtype):\n",
    "    return node.getElementsByTagName(childtype)[0]\n",
    "\n",
    "if os.path.exists( Abstracts_file ):\n",
    "    Abstracts = pickle.load( bz2.BZ2File( Abstracts_file, 'rb' ) )\n",
    "else:\n",
    "    # `Abstracts` will be incrementally assembled, by performing multiple queries,\n",
    "    # each returning at most `retrieve_per_query` entries.\n",
    "    Abstracts = deque()\n",
    "    retrieve_per_query = 500\n",
    "    \n",
    "    print('Fetching Abstracts of results: ')\n",
    "    for start in range( 0, len(Ids), retrieve_per_query ):\n",
    "        if (start % 10000 == 0):\n",
    "            print('')\n",
    "            print(start, end='')\n",
    "        else:\n",
    "            print('.', end='')\n",
    "        \n",
    "        # build comma separated string with the ids at indexes [start, start+retrieve_per_query)\n",
    "        query_ids = ','.join( [ str(id) for id in Ids[ start : start+retrieve_per_query ] ] )\n",
    "        \n",
    "        # issue requests to the server, until we get the full amount of data we expect\n",
    "        while True:\n",
    "            try:\n",
    "                #s = Entrez.read( Entrez.efetch(db=\"pubmed\", id=query_ids, retmode=\"xml\" ) )['PubmedArticle']\n",
    "                s = minidom.parse( Entrez.efetch(db=\"pubmed\", id=query_ids, retmode=\"xml\" ) ).getElementsByTagName(\"PubmedArticle\")\n",
    "            except http.client.IncompleteRead:\n",
    "                print('r', end='')\n",
    "                continue\n",
    "            break\n",
    "        \n",
    "        i = 0\n",
    "        for p in s:\n",
    "            abstr = ''\n",
    "            if (p.getElementsByTagName('MedlineCitation')):\n",
    "                citNode = ch(p,'MedlineCitation')\n",
    "                pmid = ch(citNode,'PMID').firstChild.data\n",
    "                articleNode = ch(citNode,'Article')\n",
    "                if (articleNode.getElementsByTagName('Abstract')):\n",
    "                    try:\n",
    "                        abstr = ch(ch(articleNode,'Abstract'),'AbstractText').firstChild.data\n",
    "                    except AttributeError:\n",
    "                        abstr = ch(ch(articleNode,'Abstract'),'AbstractText').toprettyxml(\"  \")\n",
    "                        abstr = re.sub(r\"\\s+\", \" \", re.sub(\"<[^>]*>\", \"\", abstr))\n",
    "            elif (p.getElementsByTagName('BookDocument')):\n",
    "                bookNode = ch(p,'BookDocument')\n",
    "                pmid = ch(bookNode,'PMID').firstChild.data\n",
    "                if (bookNode.getElementsByTagName('Abstract')):\n",
    "                    try:\n",
    "                        abstr = ch(ch(bookNode,'Abstract'),'AbstractText').firstChild.data\n",
    "                    except AttributeError:\n",
    "                        abstr = ch(ch(bookNode,'Abstract'),'AbstractText').toprettyxml(\"  \")\n",
    "                        abstr = re.sub(r\"\\s+\", \" \", re.sub(\"<[^>]*>\", \"\", abstr))\n",
    "            else:\n",
    "                raise Exception('Unrecognized record type, for id %d (keys: %s)' % (Ids[start+i], str(p.keys())) )\n",
    "            \n",
    "            Abstracts.append( (int(pmid), str(abstr)) )\n",
    "            i += 1\n",
    "    \n",
    "    # Save Abstracts, as a dictionary indexed by Ids\n",
    "    Abstracts = dict( Abstracts )\n",
    "    \n",
    "    pickle.dump( Abstracts, bz2.BZ2File( Abstracts_file, 'wb' ) )"
   ]
  },
  {
   "cell_type": "markdown",
   "metadata": {},
   "source": [
    "Taking a look at one paper's abstract:"
   ]
  },
  {
   "cell_type": "code",
   "execution_count": 26,
   "metadata": {},
   "outputs": [
    {
     "data": {
      "text/plain": [
       "'Influenza A virus (IAV) in swine is a pathogen that causes a threat to the health as well as to the production of swine. Moreover, swine can spread this virus to other species including humans. The virus persists in different types of swine farms as evident in a number of studies. The core objectives of this study are (i) to analyze the dynamics of influenza infection of a farrow-to-finish swine farm, (ii) to explore the reinfection at the farm level, and finally (iii) to examine the effectiveness of two control strategies: vaccination and reduction of indirect contact. The analyses are conducted using a deterministic Susceptible-Exposed-Infectious-Recovered (SEIR) model. Simulation results show that the disease is maintained in gilts and piglets because of new susceptible pigs entering the population on a weekly basis. A sensitivity analysis shows that the results are not sensitive to variation in the parameters. The results of the reinfection simulation indicate that the virus persists in the entire farm. The control strategies studied in this work are not successful in eliminating the virus within the farm.'"
      ]
     },
     "execution_count": 26,
     "metadata": {},
     "output_type": "execute_result"
    }
   ],
   "source": [
    "Abstracts[30248106]"
   ]
  },
  {
   "cell_type": "markdown",
   "metadata": {},
   "source": [
    "## ELink: Searching for related items in NCBI Entrez"
   ]
  },
  {
   "cell_type": "markdown",
   "metadata": {},
   "source": [
    "To understand how to obtain paper citations with Entrez, we will first assemble a small set of PubMed IDs, and then query for their citations.\n",
    "To that end, we search here for papers published in the Nature journal with our given keyword."
   ]
  },
  {
   "cell_type": "code",
   "execution_count": 27,
   "metadata": {},
   "outputs": [
    {
     "data": {
      "text/plain": [
       "['30232458', '30089927', '29925952', '29769722', '29618816', '29144466', '28953867', '28002402', '27749818', '26738596', '26503046', '26416728', '26123020', '26053121', '25762140', '25533958', '25519129', '25409151', '25409142', '25383540']"
      ]
     },
     "execution_count": 27,
     "metadata": {},
     "output_type": "execute_result"
    }
   ],
   "source": [
    "CA_search_term = search_term+'[TIAB] AND Nature[JOUR]'\n",
    "CA_ids = Entrez.read( Entrez.esearch( db=\"pubmed\", term=CA_search_term ) )['IdList']\n",
    "CA_ids"
   ]
  },
  {
   "cell_type": "code",
   "execution_count": 28,
   "metadata": {},
   "outputs": [
    {
     "data": {
      "text/plain": [
       "{'25383540': ('p63(+)Krt5(+) distal airway stem cells are essential for lung regeneration.',\n",
       "  ['Zuo W', 'Zhang T', 'Wu DZ', 'Guan SP', 'Liew AA', 'Yamamoto Y', 'Wang X', 'Lim SJ', 'Vincent M', 'Lessard M', 'Crum CP', 'Xian W', 'McKeon F'],\n",
       "  '2015',\n",
       "  'Nature',\n",
       "  '10.1038/nature13903'),\n",
       " '25409142': ('Structure of influenza A polymerase bound to the viral RNA promoter.',\n",
       "  ['Pflug A', 'Guilligay D', 'Reich S', 'Cusack S'],\n",
       "  '2014',\n",
       "  'Nature',\n",
       "  '10.1038/nature14008'),\n",
       " '25409151': ('Structural insight into cap-snatching and RNA synthesis by influenza polymerase.',\n",
       "  ['Reich S', 'Guilligay D', 'Pflug A', 'Malet H', 'Berger I', 'Crépin T', 'Hart D', 'Lunardi T', 'Nanao M', 'Ruigrok RW', 'Cusack S'],\n",
       "  '2014',\n",
       "  'Nature',\n",
       "  '10.1038/nature14009'),\n",
       " '25519129': ('Influenza: An RNA-synthesizing machine.',\n",
       "  ['Krug RM'],\n",
       "  '2014',\n",
       "  'Nature',\n",
       "  '10.1038/516338a'),\n",
       " '25533958': ('Lineage-negative progenitors mobilize to regenerate lung epithelium after major injury.',\n",
       "  ['Vaughan AE', 'Brumwell AN', 'Xi Y', 'Gotts JE', 'Brownfield DG', 'Treutlein B', 'Tan K', 'Tan V', 'Liu FC', 'Looney MR', 'Matthay MA', 'Rock JR', 'Chapman HA'],\n",
       "  '2015',\n",
       "  'Nature',\n",
       "  '10.1038/nature14112'),\n",
       " '25762140': ('Dissemination, divergence and establishment of H7N9 influenza viruses in China.',\n",
       "  ['Lam TT', 'Zhou B', 'Wang J', 'Chai Y', 'Shen Y', 'Chen X', 'Ma C', 'Hong W', 'Chen Y', 'Zhang Y', 'Duan L', 'Chen P', 'Jiang J', 'Zhang Y', 'Li L', 'Poon LL', 'Webby RJ', 'Smith DK', 'Leung GM', 'Peiris JS', 'Holmes EC', 'Guan Y', 'Zhu H'],\n",
       "  '2015',\n",
       "  'Nature',\n",
       "  '10.1038/nature14348'),\n",
       " '26053121': ('Global circulation patterns of seasonal influenza viruses vary with antigenic drift.',\n",
       "  ['Bedford T', 'Riley S', 'Barr IG', 'Broor S', 'Chadha M', 'Cox NJ', 'Daniels RS', 'Gunasekaran CP', 'Hurt AC', 'Kelso A', 'Klimov A', 'Lewis NS', 'Li X', 'McCauley JW', 'Odagiri T', 'Potdar V', 'Rambaut A', 'Shu Y', 'Skepner E', 'Smith DJ', 'Suchard MA', 'Tashiro M', 'Wang D', 'Xu X', 'Lemey P', 'Russell CA'],\n",
       "  '2015',\n",
       "  'Nature',\n",
       "  '10.1038/nature14460'),\n",
       " '26123020': ('T-cell exhaustion, co-stimulation and clinical outcome in autoimmunity and infection.',\n",
       "  ['McKinney EF', 'Lee JC', 'Jayne DR', 'Lyons PA', 'Smith KG'],\n",
       "  '2015',\n",
       "  'Nature',\n",
       "  '10.1038/nature14468'),\n",
       " '26416728': ('The soft palate is an important site of adaptation for transmissible influenza viruses.',\n",
       "  ['Lakdawala SS', 'Jayaraman A', 'Halpin RA', 'Lamirande EW', 'Shih AR', 'Stockwell TB', 'Lin X', 'Simenauer A', 'Hanson CT', 'Vogel L', 'Paskel M', 'Minai M', 'Moore I', 'Orandle M', 'Das SR', 'Wentworth DE', 'Sasisekharan R', 'Subbarao K'],\n",
       "  '2015',\n",
       "  'Nature',\n",
       "  '10.1038/nature15379'),\n",
       " '26503046': ('Crystal structure of the RNA-dependent RNA polymerase from influenza C virus.',\n",
       "  ['Hengrung N', 'El Omari K', 'Serna Martin I', 'Vreede FT', 'Cusack S', 'Rambo RP', 'Vonrhein C', 'Bricogne G', 'Stuart DI', 'Grimes JM', 'Fodor E'],\n",
       "  '2015',\n",
       "  'Nature',\n",
       "  '10.1038/nature15525'),\n",
       " '26738596': ('Species difference in ANP32A underlies influenza A virus polymerase host restriction.',\n",
       "  ['Long JS', 'Giotis ES', 'Moncorgé O', 'Frise R', 'Mistry B', 'James J', 'Morisson M', 'Iqbal M', 'Vignal A', 'Skinner MA', 'Barclay WS'],\n",
       "  '2016',\n",
       "  'Nature',\n",
       "  '10.1038/nature16474'),\n",
       " '27749818': ('Single-cell RNA-seq identifies a PD-1<sup>hi</sup> ILC progenitor and defines its development pathway.',\n",
       "  ['Yu Y', 'Tsang JC', 'Wang C', 'Clare S', 'Wang J', 'Chen X', 'Brandt C', 'Kane L', 'Campos LS', 'Lu L', 'Belz GT', 'McKenzie AN', 'Teichmann SA', 'Dougan G', 'Liu P'],\n",
       "  '2016',\n",
       "  'Nature',\n",
       "  '10.1038/nature20105'),\n",
       " '28002402': ('Structural basis of an essential interaction between influenza polymerase and Pol II CTD.',\n",
       "  ['Lukarska M', 'Fournier G', 'Pflug A', 'Resa-Infante P', 'Reich S', 'Naffakh N', 'Cusack S'],\n",
       "  '2017',\n",
       "  'Nature',\n",
       "  '10.1038/nature20594'),\n",
       " '28953867': ('Massively parallel de novo protein design for targeted therapeutics.',\n",
       "  ['Chevalier A', 'Silva DA', 'Rocklin GJ', 'Hicks DR', 'Vergara R', 'Murapa P', 'Bernard SM', 'Zhang L', 'Lam KH', 'Yao G', 'Bahl CD', 'Miyashita SI', 'Goreshnik I', 'Fuller JT', 'Koday MT', 'Jenkins CM', 'Colvin T', 'Carter L', 'Bohn A', 'Bryan CM', 'Fernández-Velasco DA', 'Stewart L', 'Dong M', 'Huang X', 'Jin R', 'Wilson IA', 'Fuller DH', 'Baker D'],\n",
       "  '2017',\n",
       "  'Nature',\n",
       "  '10.1038/nature23912'),\n",
       " '29144466': ('Influenza: A broadly protective antibody.',\n",
       "  ['Palese P'],\n",
       "  '2017',\n",
       "  'Nature',\n",
       "  '10.1038/551310a'),\n",
       " '29618816': ('The evolutionary history of vertebrate RNA viruses.',\n",
       "  ['Shi M', 'Lin XD', 'Chen X', 'Tian JH', 'Chen LJ', 'Li K', 'Wang W', 'Eden JS', 'Shen JJ', 'Liu L', 'Holmes EC', 'Zhang YZ'],\n",
       "  '2018',\n",
       "  'Nature',\n",
       "  '10.1038/s41586-018-0012-7'),\n",
       " '29769722': ('Bystander CD8<sup>+</sup> T cells are abundant and phenotypically distinct in human tumour infiltrates.',\n",
       "  ['Simoni Y', 'Becht E', 'Fehlings M', 'Loh CY', 'Koo SL', 'Teng KWW', 'Yeong JPS', 'Nahar R', 'Zhang T', 'Kared H', 'Duan K', 'Ang N', 'Poidinger M', 'Lee YY', 'Larbi A', 'Khng AJ', 'Tan E', 'Fu C', 'Mathew R', 'Teo M', 'Lim WT', 'Toh CK', 'Ong BH', 'Koh T', 'Hillmer AM', 'Takano A', 'Lim TKH', 'Tan EH', 'Zhai W', 'Tan DSW', 'Tan IB', 'Newell EW'],\n",
       "  '2018',\n",
       "  'Nature',\n",
       "  '10.1038/s41586-018-0130-2'),\n",
       " '29925952': ('A naturally occurring antiviral ribonucleotide encoded by the human genome.',\n",
       "  ['Gizzi AS', 'Grove TL', 'Arnold JJ', 'Jose J', 'Jangra RK', 'Garforth SJ', 'Du Q', 'Cahill SM', 'Dulyaninova NG', 'Love JD', 'Chandran K', 'Bresnick AR', 'Cameron CE', 'Almo SC'],\n",
       "  '2018',\n",
       "  'Nature',\n",
       "  '10.1038/s41586-018-0238-4'),\n",
       " '30089927': ('The ghost of influenza past and the hunt for a universal vaccine.',\n",
       "  ['Butler D'],\n",
       "  '2018',\n",
       "  'Nature',\n",
       "  '10.1038/d41586-018-05889-1'),\n",
       " '30232458': ('T cells in patients with\\xa0narcolepsy target self-antigens of hypocretin neurons.',\n",
       "  ['Latorre D', 'Kallweit U', 'Armentani E', 'Foglierini M', 'Mele F', 'Cassotta A', 'Jovic S', 'Jarrossay D', 'Mathis J', 'Zellini F', 'Becher B', 'Lanzavecchia A', 'Khatami R', 'Manconi M', 'Tafti M', 'Bassetti CL', 'Sallusto F'],\n",
       "  '2018',\n",
       "  'Nature',\n",
       "  '10.1038/s41586-018-0540-1')}"
      ]
     },
     "execution_count": 28,
     "metadata": {},
     "output_type": "execute_result"
    }
   ],
   "source": [
    "CA_summ = {\n",
    "    p['Id'] : ( p['Title'], p['AuthorList'], p['PubDate'][:4], p['FullJournalName'], p.get('DOI', '') )\n",
    "    for p in Entrez.read( Entrez.esummary(db=\"pubmed\", id=','.join( CA_ids )) )\n",
    "    }\n",
    "CA_summ"
   ]
  },
  {
   "cell_type": "markdown",
   "metadata": {},
   "source": [
    "Because we restricted our search to papers in an open-access journal, you can then follow their DOIs to freely access their PDFs at the journal's website."
   ]
  },
  {
   "cell_type": "markdown",
   "metadata": {},
   "source": [
    "We will now issue calls to `Entrez.elink()` using these PubMed IDs, to retrieve the IDs of papers that cite them.\n",
    "The database from which the IDs will be retrieved is [PubMed Central](http://www.ncbi.nlm.nih.gov/pmc/), a free digital database of full-text scientific literature in the biomedical and life sciences.\n",
    "\n",
    "A complete list of the kinds of links you can retrieve with `Entrez.elink()` can be found [here](http://eutils.ncbi.nlm.nih.gov/entrez/query/static/entrezlinks.html)."
   ]
  },
  {
   "cell_type": "code",
   "execution_count": 29,
   "metadata": {},
   "outputs": [],
   "source": [
    "CA_citing = {\n",
    "    id : Entrez.read( Entrez.elink(\n",
    "            cmd = \"neighbor\",               # ELink command mode: \"neighbor\", returns\n",
    "                                            #     a set of UIDs in `db` linked to the input UIDs in `dbfrom`.\n",
    "            dbfrom = \"pubmed\",              # Database containing the input UIDs: PubMed\n",
    "            db = \"pmc\",                     # Database from which to retrieve UIDs: PubMed Central\n",
    "            LinkName = \"pubmed_pmc_refs\",   # Name of the Entrez link to retrieve: \"pubmed_pmc_refs\", gets\n",
    "                                            #     \"Full-text articles in the PubMed Central Database that cite the current articles\"\n",
    "            from_uid = id                   # input UIDs\n",
    "            ) )\n",
    "    for id in CA_ids\n",
    "    }"
   ]
  },
  {
   "cell_type": "code",
   "execution_count": 30,
   "metadata": {},
   "outputs": [
    {
     "data": {
      "text/plain": [
       "[{'ERROR': [], 'LinkSetDb': [{'Link': [{'Id': '6147258'}, {'Id': '6127164'}, {'Id': '6126728'}, {'Id': '6078801'}, {'Id': '6003312'}, {'Id': '6002944'}, {'Id': '6001749'}, {'Id': '5980710'}, {'Id': '5930012'}, {'Id': '5911685'}, {'Id': '5899735'}, {'Id': '5899712'}], 'DbTo': 'pmc', 'LinkName': 'pubmed_pmc_refs'}], 'LinkSetDbHistory': [], 'DbFrom': 'pubmed', 'IdList': ['28953867']}]"
      ]
     },
     "execution_count": 30,
     "metadata": {},
     "output_type": "execute_result"
    }
   ],
   "source": [
    "CA_citing['28953867']"
   ]
  },
  {
   "cell_type": "markdown",
   "metadata": {},
   "source": [
    "We have in `CA_citing[paper_id][0]['LinkSetDb'][0]['Link']` the list of papers citing `paper_id`. To get it as just a list of ids, we can do"
   ]
  },
  {
   "cell_type": "code",
   "execution_count": 31,
   "metadata": {},
   "outputs": [
    {
     "data": {
      "text/plain": [
       "['6147258',\n",
       " '6127164',\n",
       " '6126728',\n",
       " '6078801',\n",
       " '6003312',\n",
       " '6002944',\n",
       " '6001749',\n",
       " '5980710',\n",
       " '5930012',\n",
       " '5911685',\n",
       " '5899735',\n",
       " '5899712']"
      ]
     },
     "execution_count": 31,
     "metadata": {},
     "output_type": "execute_result"
    }
   ],
   "source": [
    "cits = [ l['Id'] for l in CA_citing['28953867'][0]['LinkSetDb'][0]['Link'] ]\n",
    "cits"
   ]
  },
  {
   "cell_type": "markdown",
   "metadata": {},
   "source": [
    "However, one more step is needed, as what we have now are PubMed Central IDs, and not PubMed IDs. Their conversion can be achieved through an additional call to `Entrez.elink()`:"
   ]
  },
  {
   "cell_type": "code",
   "execution_count": 32,
   "metadata": {},
   "outputs": [
    {
     "data": {
      "text/plain": [
       "[{'ERROR': [], 'LinkSetDb': [{'Link': [{'Id': '30158186'}, {'Id': '29695210'}, {'Id': '29396418'}, {'Id': '29389072'}, {'Id': '29243094'}, {'Id': '29214605'}], 'DbTo': 'pubmed', 'LinkName': 'pmc_pubmed'}], 'LinkSetDbHistory': [], 'DbFrom': 'pmc', 'IdList': ['6147258', '6127164', '6126728', '6078801', '6003312', '6002944', '6001749', '5980710', '5930012', '5911685', '5899735', '5899712']}]"
      ]
     },
     "execution_count": 32,
     "metadata": {},
     "output_type": "execute_result"
    }
   ],
   "source": [
    "cits_pm = Entrez.read( Entrez.elink( dbfrom=\"pmc\", db=\"pubmed\", LinkName=\"pmc_pubmed\", from_uid=\",\".join(cits)) )\n",
    "cits_pm"
   ]
  },
  {
   "cell_type": "code",
   "execution_count": 33,
   "metadata": {},
   "outputs": [
    {
     "data": {
      "text/plain": [
       "{'6002944': '29214605',\n",
       " '6003312': '29243094',\n",
       " '6078801': '29389072',\n",
       " '6126728': '29396418',\n",
       " '6127164': '29695210',\n",
       " '6147258': '30158186'}"
      ]
     },
     "execution_count": 33,
     "metadata": {},
     "output_type": "execute_result"
    }
   ],
   "source": [
    "ids_map = { pmc_id : link['Id'] for (pmc_id,link) in zip(cits_pm[0]['IdList'], cits_pm[0]['LinkSetDb'][0]['Link']) }\n",
    "ids_map"
   ]
  },
  {
   "cell_type": "markdown",
   "metadata": {},
   "source": [
    "And to check these papers:"
   ]
  },
  {
   "cell_type": "code",
   "execution_count": 34,
   "metadata": {},
   "outputs": [
    {
     "data": {
      "text/plain": [
       "{'29214605': ('Creation of artificial protein-protein interactions using α-helices as interfaces.',\n",
       "  ['Yagi S', 'Akanuma S', 'Yamagishi A'],\n",
       "  '2018',\n",
       "  'Biophysical reviews',\n",
       "  '10.1007/s12551-017-0352-9'),\n",
       " '29243094': ('Hierarchical design of artificial proteins and complexes toward synthetic structural biology.',\n",
       "  ['Arai R'],\n",
       "  '2018',\n",
       "  'Biophysical reviews',\n",
       "  '10.1007/s12551-017-0376-1'),\n",
       " '29389072': ('Structures and disulfide cross-linking of de novo designed therapeutic mini-proteins.',\n",
       "  ['Silva DA', 'Stewart L', 'Lam KH', 'Jin R', 'Baker D'],\n",
       "  '2018',\n",
       "  'The FEBS journal',\n",
       "  '10.1111/febs.14394'),\n",
       " '29396418': ('Structural insights into the design of novel anti-influenza therapies.',\n",
       "  ['Wu NC', 'Wilson IA'],\n",
       "  '2018',\n",
       "  'Nature structural & molecular biology',\n",
       "  '10.1038/s41594-018-0025-9'),\n",
       " '29695210': ('Recent advances in automated protein design and its future challenges.',\n",
       "  ['Setiawan D', 'Brender J', 'Zhang Y'],\n",
       "  '2018',\n",
       "  'Expert opinion on drug discovery',\n",
       "  '10.1080/17460441.2018.1465922'),\n",
       " '30158186': ('Designed for life: biocompatible de novo designed proteins and components.',\n",
       "  ['Grayson KJ', 'Anderson JLR'],\n",
       "  '2018',\n",
       "  'Journal of the Royal Society, Interface',\n",
       "  '10.1098/rsif.2018.0472')}"
      ]
     },
     "execution_count": 34,
     "metadata": {},
     "output_type": "execute_result"
    }
   ],
   "source": [
    "{   p['Id'] : ( p['Title'], p['AuthorList'], p['PubDate'][:4], p['FullJournalName'], p.get('DOI', '') )\n",
    "    for p in Entrez.read( Entrez.esummary(db=\"pubmed\", id=','.join( ids_map.values() )) )\n",
    "    }"
   ]
  },
  {
   "cell_type": "markdown",
   "metadata": {},
   "source": [
    "### Citations dataset"
   ]
  },
  {
   "cell_type": "markdown",
   "metadata": {},
   "source": [
    "We have now seen all the steps required to assemble a dataset of citations to each of the papers in our dataset."
   ]
  },
  {
   "cell_type": "code",
   "execution_count": 35,
   "metadata": {},
   "outputs": [],
   "source": [
    "Citations_file = 'data/' + search_term + '_Citations.pkl.bz2'\n",
    "Citations = []"
   ]
  },
  {
   "cell_type": "markdown",
   "metadata": {},
   "source": [
    "At least one server query will be issued per paper in `Ids`. Because NCBI allows for at most 3 queries per second (see [here](http://biopython.org/DIST/docs/api/Bio.Entrez-pysrc.html#_open)), this dataset will take a long time to assemble. Should you need to interrupt it for some reason, or the connection fail at some point, it is safe to just rerun the cell below until all data is collected."
   ]
  },
  {
   "cell_type": "code",
   "execution_count": 38,
   "metadata": {},
   "outputs": [
    {
     "name": "stdout",
     "output_type": "stream",
     "text": [
      ".......\tsaving at checkpoint 75422\n",
      "........\tsaving at checkpoint 76299\n",
      ".........\tsaving at checkpoint 77176\n",
      ".........\tsaving at checkpoint 78053\n",
      ".........\tsaving at checkpoint 78930\n",
      ".........\tsaving at checkpoint 79807\n",
      ".\n",
      "80000.......\tsaving at checkpoint 80684\n",
      ".........\tsaving at checkpoint 81561\n",
      ".........\tsaving at checkpoint 82438\n",
      ".........\tsaving at checkpoint 83315\n",
      "........\tsaving at checkpoint 84192\n",
      ".........\tsaving at checkpoint 85069\n",
      ".........\tsaving at checkpoint 85946\n",
      ".........\tsaving at checkpoint 86823\n",
      "........\n",
      " done.\n"
     ]
    }
   ],
   "source": [
    "import http.client\n",
    "\n",
    "if Citations == [] and os.path.exists( Citations_file ):\n",
    "    Citations = pickle.load( bz2.BZ2File( Citations_file, 'rb' ) )\n",
    "\n",
    "if len(Citations) < len(Ids):\n",
    "    \n",
    "    i = len(Citations)\n",
    "    checkpoint = int(len(Ids) / 100) + 1      # save to hard drive at every 1% of Ids fetched\n",
    "    \n",
    "    for pm_id in Ids[i:]:               # either starts from index 0, or resumes from where we previously left off\n",
    "        \n",
    "        while True:\n",
    "            try:\n",
    "                # query for papers archived in PubMed Central that cite the paper with PubMed ID `pm_id`\n",
    "                c = Entrez.read( Entrez.elink( dbfrom = \"pubmed\", db=\"pmc\", LinkName = \"pubmed_pmc_refs\", id=str(pm_id) ) )\n",
    "                \n",
    "                c = c[0]['LinkSetDb']\n",
    "                if len(c) == 0:\n",
    "                    # no citations found for the current paper\n",
    "                    c = []\n",
    "                else:\n",
    "                    c = [ l['Id'] for l in c[0]['Link'] ]\n",
    "                    \n",
    "                    # convert citations from PubMed Central IDs to PubMed IDs\n",
    "                    p = []\n",
    "                    retrieve_per_query = 500\n",
    "                    for start in range( 0, len(c), retrieve_per_query ):\n",
    "                        query_ids = ','.join( c[start : start+retrieve_per_query] )\n",
    "                        r = Entrez.read( Entrez.elink( dbfrom=\"pmc\", db=\"pubmed\", LinkName=\"pmc_pubmed\", from_uid=query_ids ) )\n",
    "                        # select the IDs. If no matching PubMed ID was found, [] is returned instead\n",
    "                        p.extend( [] if r[0]['LinkSetDb']==[] else [ int(link['Id']) for link in r[0]['LinkSetDb'][0]['Link'] ] )\n",
    "                    c = p\n",
    "            \n",
    "            except http.client.BadStatusLine:\n",
    "                # Presumably, the server closed the connection before sending a valid response. Retry until we have the data.\n",
    "                print('r')\n",
    "                continue\n",
    "            except HTTPError:\n",
    "                print('r')\n",
    "                continue\n",
    "            break\n",
    "        \n",
    "        Citations.append( (pm_id, c) )\n",
    "        if (i % 10000 == 0):\n",
    "            print('')\n",
    "            print(i, end='')\n",
    "        if (i % 100 == 0):\n",
    "            print('.', end='')\n",
    "        i += 1\n",
    "        \n",
    "        if i % checkpoint == 0:\n",
    "            print('\\tsaving at checkpoint', i)\n",
    "            pickle.dump( Citations, bz2.BZ2File( Citations_file, 'wb' ) )\n",
    "    \n",
    "    print('\\n done.')\n",
    "    \n",
    "    # Save Citations, as a dictionary indexed by Ids\n",
    "    Citations = dict( Citations )\n",
    "    \n",
    "    pickle.dump( Citations, bz2.BZ2File( Citations_file, 'wb' ) )"
   ]
  },
  {
   "cell_type": "markdown",
   "metadata": {},
   "source": [
    "To see that we have indeed obtained the data we expected, you can match the ids below, with the ids listed at the end of last section."
   ]
  },
  {
   "cell_type": "code",
   "execution_count": 39,
   "metadata": {},
   "outputs": [
    {
     "data": {
      "text/plain": [
       "[30158186, 29695210, 29396418, 29389072, 29243094, 29214605]"
      ]
     },
     "execution_count": 39,
     "metadata": {},
     "output_type": "execute_result"
    }
   ],
   "source": [
    "Citations[28953867]"
   ]
  },
  {
   "cell_type": "markdown",
   "metadata": {},
   "source": [
    "## Where do we go from here?"
   ]
  },
  {
   "cell_type": "markdown",
   "metadata": {},
   "source": [
    "Running the code above generates multiple local files, containing the datasets we'll be working with. Loading them into memory is a matter of just issuing a call like<br>\n",
    "``data = pickle.load( bz2.BZ2File( data_file, 'rb' ) )``.\n",
    "\n",
    "The Entrez module will therefore no longer be needed, unless you wish to extend your data processing with additional information retrieved from PubMed.\n",
    "\n",
    "Should you be interested in looking at alternative ways to handle the data, have a look at the [sqlite3](http://docs.python.org/3/library/sqlite3.html) module included in Python's standard library, or [Pandas](http://pandas.pydata.org/), the Python Data Analysis Library."
   ]
  }
 ],
 "metadata": {
  "kernelspec": {
   "display_name": "Python 3",
   "language": "python",
   "name": "python3"
  },
  "language_info": {
   "codemirror_mode": {
    "name": "ipython",
    "version": 3
   },
   "file_extension": ".py",
   "mimetype": "text/x-python",
   "name": "python",
   "nbconvert_exporter": "python",
   "pygments_lexer": "ipython3",
   "version": "3.6.5"
  }
 },
 "nbformat": 4,
 "nbformat_minor": 1
}
