{
 "cells": [
  {
   "cell_type": "markdown",
   "metadata": {},
   "source": [
    "# Assignment 2: Building a Simple Index"
   ]
  },
  {
   "cell_type": "markdown",
   "metadata": {},
   "source": [
    "In this assignment, we will build a simple search index, which we will use later for Boolean retrieval. The assignment tasks are again at the bottom of this document."
   ]
  },
  {
   "cell_type": "markdown",
   "metadata": {},
   "source": [
    "## Loading the Data"
   ]
  },
  {
   "cell_type": "code",
   "execution_count": 1,
   "metadata": {},
   "outputs": [],
   "source": [
    "Summaries_file = 'data/influenza_Summaries.pkl.bz2'\n",
    "Abstracts_file = 'data/influenza_Abstracts.pkl.bz2'"
   ]
  },
  {
   "cell_type": "code",
   "execution_count": 2,
   "metadata": {},
   "outputs": [],
   "source": [
    "import pickle, bz2\n",
    "from collections import namedtuple\n",
    "\n",
    "Summaries = pickle.load( bz2.BZ2File( Summaries_file, 'rb' ) )\n",
    "\n",
    "paper = namedtuple( 'paper', ['title', 'authors', 'year', 'doi'] )\n",
    "\n",
    "for (id, paper_info) in Summaries.items():\n",
    "    Summaries[id] = paper( *paper_info )\n",
    "    \n",
    "Abstracts = pickle.load( bz2.BZ2File( Abstracts_file, 'rb' ) )"
   ]
  },
  {
   "cell_type": "markdown",
   "metadata": {},
   "source": [
    "Let's have a look at what the data looks like for our example paper:"
   ]
  },
  {
   "cell_type": "code",
   "execution_count": 3,
   "metadata": {},
   "outputs": [
    {
     "data": {
      "text/plain": [
       "paper(title='Massively parallel de novo protein design for targeted therapeutics.', authors=['Chevalier A', 'Silva DA', 'Rocklin GJ', 'Hicks DR', 'Vergara R', 'Murapa P', 'Bernard SM', 'Zhang L', 'Lam KH', 'Yao G', 'Bahl CD', 'Miyashita SI', 'Goreshnik I', 'Fuller JT', 'Koday MT', 'Jenkins CM', 'Colvin T', 'Carter L', 'Bohn A', 'Bryan CM', 'Fernández-Velasco DA', 'Stewart L', 'Dong M', 'Huang X', 'Jin R', 'Wilson IA', 'Fuller DH', 'Baker D'], year=2017, doi='10.1038/nature23912')"
      ]
     },
     "execution_count": 3,
     "metadata": {},
     "output_type": "execute_result"
    }
   ],
   "source": [
    "Summaries[28953867]"
   ]
  },
  {
   "cell_type": "code",
   "execution_count": 4,
   "metadata": {},
   "outputs": [
    {
     "data": {
      "text/plain": [
       "'De novo protein design holds promise for creating small stable proteins with shapes customized to bind therapeutic targets. We describe a massively parallel approach for designing, manufacturing and screening mini-protein binders, integrating large-scale computational design, oligonucleotide synthesis, yeast display screening and next-generation sequencing. We designed and tested 22,660 mini-proteins of 37-43 residues that target influenza haemagglutinin and botulinum neurotoxin B, along with 6,286 control sequences to probe contributions to folding and binding, and identified 2,618 high-affinity binders. Comparison of the binding and non-binding design sets, which are two orders of magnitude larger than any previously investigated, enabled the evaluation and improvement of the computational model. Biophysical characterization of a subset of the binder designs showed that they are extremely stable and, unlike antibodies, do not lose activity after exposure to high temperatures. The designs elicit little or no immune response and provide potent prophylactic and therapeutic protection against influenza, even after extensive repeated dosing.'"
      ]
     },
     "execution_count": 4,
     "metadata": {},
     "output_type": "execute_result"
    }
   ],
   "source": [
    "Abstracts[28953867]"
   ]
  },
  {
   "cell_type": "markdown",
   "metadata": {},
   "source": [
    "## Some Utility Functions"
   ]
  },
  {
   "cell_type": "markdown",
   "metadata": {},
   "source": [
    "We'll define some utility functions that allow us to tokenize a string into terms, perform linguistic preprocessing on a list of terms, as well as a function to display information about a paper in a nice way. Note that these tokenization and preprocessing functions are rather naive. We will improve them in a later assignment."
   ]
  },
  {
   "cell_type": "code",
   "execution_count": 5,
   "metadata": {},
   "outputs": [
    {
     "name": "stdout",
     "output_type": "stream",
     "text": [
      "['lorem', 'ipsum', 'dolor', 'sit', 'amet']\n"
     ]
    }
   ],
   "source": [
    "def tokenize(text):\n",
    "    \"\"\"\n",
    "    Function that tokenizes a string in a rather naive way. Can be extended later.\n",
    "    \"\"\"\n",
    "    return text.split(' ')\n",
    "\n",
    "def preprocess(tokens):\n",
    "    \"\"\"\n",
    "    Perform linguistic preprocessing on a list of tokens. Can be extended later.\n",
    "    \"\"\"\n",
    "    result = []\n",
    "    for token in tokens:\n",
    "        result.append(token.lower())\n",
    "    return result\n",
    "\n",
    "print(preprocess(tokenize(\"Lorem ipsum dolor sit AMET\")))"
   ]
  },
  {
   "cell_type": "code",
   "execution_count": 6,
   "metadata": {},
   "outputs": [
    {
     "data": {
      "text/html": [
       "<strong><a href=http://dx.doi.org/10.1038/nature23912>Massively parallel de novo protein design for targeted therapeutics.</a></strong><br>2017. Chevalier A, Silva DA, Rocklin GJ, Hicks DR, Vergara R, Murapa P, Bernard SM, Zhang L, Lam KH, Yao G, Bahl CD, Miyashita SI, Goreshnik I, Fuller JT, Koday MT, Jenkins CM, Colvin T, Carter L, Bohn A, Bryan CM, ...<br>[ID: 28953867]"
      ],
      "text/plain": [
       "<IPython.core.display.HTML object>"
      ]
     },
     "metadata": {},
     "output_type": "display_data"
    },
    {
     "data": {
      "text/html": [
       "<strong><a href=http://dx.doi.org/10.1038/nature23912>Massively parallel de novo protein design for targeted therapeutics.</a></strong><br>2017. Chevalier A, Silva DA, Rocklin GJ, Hicks DR, Vergara R, Murapa P, Bernard SM, Zhang L, Lam KH, Yao G, Bahl CD, Miyashita SI, Goreshnik I, Fuller JT, Koday MT, Jenkins CM, Colvin T, Carter L, Bohn A, Bryan CM, ...<br><small><strong>Abstract:</strong> <em>De novo protein design holds promise for creating small stable proteins with shapes customized to bind therapeutic targets. We describe a massively parallel approach for designing, manufacturing and screening mini-protein binders, integrating large-scale computational design, oligonucleotide synthesis, yeast display screening and next-generation sequencing. We designed and tested 22,660 mini-proteins of 37-43 residues that target influenza haemagglutinin and botulinum neurotoxin B, along with 6,286 control sequences to probe contributions to folding and binding, and identified 2,618 high-affinity binders. Comparison of the binding and non-binding design sets, which are two orders of magnitude larger than any previously investigated, enabled the evaluation and improvement of the computational model. Biophysical characterization of a subset of the binder designs showed that they are extremely stable and, unlike antibodies, do not lose activity after exposure to high temperatures. The designs elicit little or no immune response and provide potent prophylactic and therapeutic protection against influenza, even after extensive repeated dosing.</em></small><br>[ID: 28953867]"
      ],
      "text/plain": [
       "<IPython.core.display.HTML object>"
      ]
     },
     "metadata": {},
     "output_type": "display_data"
    }
   ],
   "source": [
    "from IPython.display import display, HTML\n",
    "import re\n",
    "\n",
    "def display_summary( id, show_abstract=False, show_id=True, extra_text='' ):\n",
    "    \"\"\"\n",
    "    Function for printing a paper's summary through IPython's Rich Display System.\n",
    "    Trims long author lists, and adds a link to the paper's DOI (when available).\n",
    "    \"\"\"\n",
    "    s = Summaries[id]\n",
    "    lines = []\n",
    "    title = s.title\n",
    "    if s.doi != '':\n",
    "        title = '<a href=http://dx.doi.org/{:s}>{:s}</a>'.format(s.doi, title)\n",
    "    title = '<strong>' + title + '</strong>'\n",
    "    lines.append(title)\n",
    "    authors = ', '.join( s.authors[:20] ) + ('' if len(s.authors) <= 20 else ', ...')\n",
    "    lines.append(str(s.year) + '. ' + authors)\n",
    "    if (show_abstract):\n",
    "        lines.append('<small><strong>Abstract:</strong> <em>{:s}</em></small>'.format(Abstracts[id]))\n",
    "    if (show_id):\n",
    "        lines.append('[ID: {:d}]'.format(id))\n",
    "    if (extra_text != ''):\n",
    "         lines.append(extra_text)\n",
    "    display( HTML('<br>'.join(lines)) )\n",
    "\n",
    "display_summary(28953867)\n",
    "display_summary(28953867, show_abstract=True)"
   ]
  },
  {
   "cell_type": "markdown",
   "metadata": {},
   "source": [
    "## Creating our first index"
   ]
  },
  {
   "cell_type": "markdown",
   "metadata": {},
   "source": [
    "We will now create an _inverted index_ based on the words in the abstracts of the papers in our dataset.\n",
    "\n",
    "We will implement our inverted index as a **Python dictionary with terms as keys and posting lists as values**. For the posting lists, instead of using Python lists and then implementing the different operations on them ourselves, we will use **Python sets** and use the predefined set operations to process these posting \"lists\". This will also ensure that each document is added at most once per term. The use of Python sets is not the most efficient solution but will work for our purposes. (As an optional additional exercise, you can try to implement the posting lists as Python lists for this and the following assignments.)\n",
    "\n",
    "Not every paper in our dataset has an abstract; we will only index papers for which an abstract is available."
   ]
  },
  {
   "cell_type": "code",
   "execution_count": 7,
   "metadata": {},
   "outputs": [],
   "source": [
    "from collections import defaultdict\n",
    "\n",
    "inverted_index = defaultdict(set)\n",
    "\n",
    "# This may take a while:\n",
    "for (id, abstract) in Abstracts.items():\n",
    "    for term in preprocess(tokenize(abstract)):\n",
    "        inverted_index[term].add(id)"
   ]
  },
  {
   "cell_type": "markdown",
   "metadata": {},
   "source": [
    "Let's see what's in the index for the example term 'madagascar':"
   ]
  },
  {
   "cell_type": "code",
   "execution_count": 8,
   "metadata": {},
   "outputs": [
    {
     "name": "stdout",
     "output_type": "stream",
     "text": [
      "{12458917, 23169961, 22814442, 12631982, 25842000, 20092624, 23169972, 21444983, 15678809, 15678810, 24893021}\n"
     ]
    }
   ],
   "source": [
    "print(inverted_index['madagascar'])"
   ]
  },
  {
   "cell_type": "markdown",
   "metadata": {},
   "source": [
    "We can now use this inverted index to answer simple one-word queries, for example to show all papers that contain the word 'rotterdam':"
   ]
  },
  {
   "cell_type": "code",
   "execution_count": 9,
   "metadata": {},
   "outputs": [
    {
     "data": {
      "text/html": [
       "<strong>Influenza B virus outbreak on a cruise ship--Northern Europe, 2000.</strong><br>2001. Centers for Disease Control and Prevention (CDC).<br>[ID: 11393483]"
      ],
      "text/plain": [
       "<IPython.core.display.HTML object>"
      ]
     },
     "metadata": {},
     "output_type": "display_data"
    },
    {
     "data": {
      "text/html": [
       "<strong><a href=http://dx.doi.org/10.1016/j.vaccine.2005.03.008>Prevalence and predictors of influenza vaccination among frail, community-living elderly patients: an international observational study.</a></strong><br>2005. Landi F, Onder G, Carpenter I, Garms-Homolova V, Bernabei R<br>[ID: 15917110]"
      ],
      "text/plain": [
       "<IPython.core.display.HTML object>"
      ]
     },
     "metadata": {},
     "output_type": "display_data"
    },
    {
     "data": {
      "text/html": [
       "<strong>Antibody response to immunization with influenza A/USSR/77 (H1N1) virus in young individuals primed or unprimed for A/New Jersey/76 (H1N1) virus.</strong><br>1981. Masurel N, Ophof P, de Jong P<br>[ID: 7288175]"
      ],
      "text/plain": [
       "<IPython.core.display.HTML object>"
      ]
     },
     "metadata": {},
     "output_type": "display_data"
    }
   ],
   "source": [
    "query_word = 'rotterdam'\n",
    "for i in inverted_index[query_word]:\n",
    "    display_summary(i)"
   ]
  },
  {
   "cell_type": "markdown",
   "metadata": {},
   "source": [
    "----------"
   ]
  },
  {
   "cell_type": "markdown",
   "metadata": {},
   "source": [
    "# Tasks"
   ]
  },
  {
   "cell_type": "markdown",
   "metadata": {},
   "source": [
    "**Your name:** David Rocker"
   ]
  },
  {
   "cell_type": "markdown",
   "metadata": {},
   "source": [
    "### Task 1\n",
    "\n",
    "Construct a function called `and_query` that takes as input a single string, consisting of one or more words, such that the function returns a list of matching documents. `and_query`, as its name suggests, should require that all query terms are present in the documents of the result list. Demonstrate the working of your function with an example (choose one that leads to fewer than 100 hits to not overblow this notebook file).\n",
    "\n",
    "(You can use the `tokenize` and `preprocess` functions we defined above to tokenize and preprocess your query. You can also exploit the fact that the posting lists are [sets](https://docs.python.org/3/library/stdtypes.html#set), which means you can easily perform set operations such as union, difference and intersect on them.)"
   ]
  },
  {
   "cell_type": "code",
   "execution_count": 10,
   "metadata": {
    "scrolled": true
   },
   "outputs": [
    {
     "data": {
      "text/html": [
       "<strong><a href=http://dx.doi.org/10.1016/j.jchf.2015.10.012>Influenza Vaccination in Patients With Chronic Heart Failure: The PARADIGM-HF Trial.</a></strong><br>2016. Vardeny O, Claggett B, Udell JA, Packer M, Zile M, Rouleau J, Swedberg K, Desai AS, Lefkowitz M, Shi V, McMurray JJV, Solomon SD, PARADIGM-HF Investigators.<br>[ID: 26746371]"
      ],
      "text/plain": [
       "<IPython.core.display.HTML object>"
      ]
     },
     "metadata": {},
     "output_type": "display_data"
    },
    {
     "data": {
      "text/html": [
       "<strong><a href=http://dx.doi.org/10.3109/03009742.2012.670729>Risk factors for reported influenza and influenza-like symptoms in patients with rheumatoid arthritis.</a></strong><br>2012. Dirven L, Huizinga TW, Allaart CF<br>[ID: 22813350]"
      ],
      "text/plain": [
       "<IPython.core.display.HTML object>"
      ]
     },
     "metadata": {},
     "output_type": "display_data"
    },
    {
     "data": {
      "text/html": [
       "<strong><a href=http://dx.doi.org/10.1136/bmjopen-2017-020282>Incidence and prevalence of cardiovascular disease in English primary care: a cross-sectional and follow-up study of the Royal College of General Practitioners (RCGP) Research and Surveillance Centre (RSC).</a></strong><br>2018. Hinton W, McGovern A, Coyle R, Han TS, Sharma P, Correa A, Ferreira F, de Lusignan S<br>[ID: 30127048]"
      ],
      "text/plain": [
       "<IPython.core.display.HTML object>"
      ]
     },
     "metadata": {},
     "output_type": "display_data"
    },
    {
     "data": {
      "text/html": [
       "<strong><a href=http://dx.doi.org/10.1371/currents.outbreaks.90b9ed0f59bae4ccaa683a39865d9117>Twitter improves influenza forecasting.</a></strong><br>2014. Paul MJ, Dredze M, Broniatowski D<br>[ID: 25642377]"
      ],
      "text/plain": [
       "<IPython.core.display.HTML object>"
      ]
     },
     "metadata": {},
     "output_type": "display_data"
    },
    {
     "data": {
      "text/html": [
       "<strong><a href=http://dx.doi.org/10.1080/08870446.2011.554833>Who got vaccinated against H1N1 pandemic influenza? A longitudinal study in four U.S. cities.</a></strong><br>2012. Li M, Chapman GB, Ibuka Y, Meyers LA, Galvani A<br>[ID: 21736427]"
      ],
      "text/plain": [
       "<IPython.core.display.HTML object>"
      ]
     },
     "metadata": {},
     "output_type": "display_data"
    },
    {
     "data": {
      "text/html": [
       "<strong><a href=http://dx.doi.org/10.1371/journal.pone.0087164>Free-riding behavior in vaccination decisions: an experimental study.</a></strong><br>2014. Ibuka Y, Li M, Vietri J, Chapman GB, Galvani AP<br>[ID: 24475246]"
      ],
      "text/plain": [
       "<IPython.core.display.HTML object>"
      ]
     },
     "metadata": {},
     "output_type": "display_data"
    },
    {
     "data": {
      "text/html": [
       "<strong><a href=http://dx.doi.org/10.1007/s00296-016-3516-1>Influenza and pneumococcal vaccination in patients with rheumatoid arthritis in comparison with age- and sex-matched controls: results of a claims data analysis.</a></strong><br>2016. Luque Ramos A, Hoffmann F, Callhoff J, Zink A, Albrecht K<br>[ID: 27372078]"
      ],
      "text/plain": [
       "<IPython.core.display.HTML object>"
      ]
     },
     "metadata": {},
     "output_type": "display_data"
    },
    {
     "data": {
      "text/html": [
       "<strong>Chronic disease and hospitalisation for pandemic (H1N1) 2009 influenza in Indigenous and non-Indigenous Western Australians.</strong><br>2011. Goggin LS, Carcione D, Mak DB, Dowse GK, Giele CM, Smith DW, Effler PV<br>[ID: 22010511]"
      ],
      "text/plain": [
       "<IPython.core.display.HTML object>"
      ]
     },
     "metadata": {},
     "output_type": "display_data"
    },
    {
     "data": {
      "text/html": [
       "<strong><a href=http://dx.doi.org/10.1016/j.vaccine.2013.08.063>Prevalence and predictors of maternal seasonal influenza vaccination in Hong Kong.</a></strong><br>2013. Yuet Sheung Yuen C, Yee Tak Fong D, Lai Yin Lee I, Chu S, Sau-mei Siu E, Tarrant M<br>[ID: 24016814]"
      ],
      "text/plain": [
       "<IPython.core.display.HTML object>"
      ]
     },
     "metadata": {},
     "output_type": "display_data"
    },
    {
     "data": {
      "text/html": [
       "<strong><a href=http://dx.doi.org/10.1097/MD.0000000000001952>Predictive Symptoms and Signs of Laboratory-confirmed Influenza: A Prospective Surveillance Study of Two Metropolitan Areas in Taiwan.</a></strong><br>2015. Yang JH, Huang PY, Shie SS, Yang S, Tsao KC, Wu TL, Leu HS, Huang CT<br>[ID: 26554802]"
      ],
      "text/plain": [
       "<IPython.core.display.HTML object>"
      ]
     },
     "metadata": {},
     "output_type": "display_data"
    },
    {
     "data": {
      "text/html": [
       "<strong><a href=http://dx.doi.org/10.1016/j.vaccine.2005.03.008>Prevalence and predictors of influenza vaccination among frail, community-living elderly patients: an international observational study.</a></strong><br>2005. Landi F, Onder G, Carpenter I, Garms-Homolova V, Bernabei R<br>[ID: 15917110]"
      ],
      "text/plain": [
       "<IPython.core.display.HTML object>"
      ]
     },
     "metadata": {},
     "output_type": "display_data"
    },
    {
     "data": {
      "text/html": [
       "<strong><a href=http://dx.doi.org/10.1016/j.vaccine.2015.06.012>Attitude, knowledge and factors associated with influenza and pneumococcal vaccine uptake in a large cohort of patients with secondary immune deficiency.</a></strong><br>2015. Loubet P, Kernéis S, Groh M, Loulergue P, Blanche P, Verger P, Launay O<br>[ID: 26073016]"
      ],
      "text/plain": [
       "<IPython.core.display.HTML object>"
      ]
     },
     "metadata": {},
     "output_type": "display_data"
    },
    {
     "data": {
      "text/html": [
       "<strong>Seroprevalence and Risk Factors for Exposure of Free-Range Poultry to Avian Influenza Viruses in Important Bird Areas in Uganda.</strong><br>2015. Kirunda H, Kabi F, Muwereza N, Kabuuka T, Kerfua SD, Kasaija PD, Byarugaba DK, Wabwire-Mangen F<br>[ID: 26292536]"
      ],
      "text/plain": [
       "<IPython.core.display.HTML object>"
      ]
     },
     "metadata": {},
     "output_type": "display_data"
    },
    {
     "data": {
      "text/html": [
       "<strong><a href=http://dx.doi.org/10.1371/journal.pone.0056157>Anticipating the prevalence of avian influenza subtypes H9 and H5 in live-bird markets.</a></strong><br>2013. Pepin KM, Wang J, Webb CT, Hoeting JA, Poss M, Hudson PJ, Hong W, Zhu H, Guan Y, Riley S<br>[ID: 23409145]"
      ],
      "text/plain": [
       "<IPython.core.display.HTML object>"
      ]
     },
     "metadata": {},
     "output_type": "display_data"
    },
    {
     "data": {
      "text/html": [
       "<strong><a href=http://dx.doi.org/10.1016/j.vaccine.2017.02.001>Factors affecting the willingness of nursing students to receive annual seasonal influenza vaccination: A large-scale cross-sectional study.</a></strong><br>2017. Cheung K, Ho SMS, Lam W<br>[ID: 28214045]"
      ],
      "text/plain": [
       "<IPython.core.display.HTML object>"
      ]
     },
     "metadata": {},
     "output_type": "display_data"
    },
    {
     "data": {
      "text/html": [
       "<strong><a href=http://dx.doi.org/10.3390/ijerph120810133>A Population-Based, Nationwide Cross-Sectional Study on Influenza Vaccination Status among Cancer Survivors in Korea.</a></strong><br>2015. Oh MG, Han MA, Yun NR, Park J, Ryu SY, Kim DM, Choi SW<br>[ID: 26308031]"
      ],
      "text/plain": [
       "<IPython.core.display.HTML object>"
      ]
     },
     "metadata": {},
     "output_type": "display_data"
    }
   ],
   "source": [
    "def and_query(searchString):\n",
    "    searchWords = preprocess(tokenize(searchString)) \n",
    "    results = set()\n",
    "    for word in searchWords:\n",
    "        currWordDocuments = inverted_index[word]\n",
    "        if len(results) == 0:\n",
    "            results = currWordDocuments\n",
    "        else:\n",
    "            results = results & currWordDocuments\n",
    "    return results\n",
    "\n",
    "for i in and_query(\"Prevalence and Predictors\"):\n",
    "        display_summary(i)\n"
   ]
  },
  {
   "cell_type": "markdown",
   "metadata": {},
   "source": [
    "### Task 2\n",
    "\n",
    "Construct a second function called `or_query` that works in the same way as `and_query` you just implemented, but returns as function value the documents that contain _at least one_ of the words in the query. Demonstrate the working of this second function also with an example (again, choose one that leads to fewer than 100 hits)."
   ]
  },
  {
   "cell_type": "code",
   "execution_count": 11,
   "metadata": {},
   "outputs": [
    {
     "data": {
      "text/html": [
       "<strong><a href=http://dx.doi.org/10.1128/JCM.00220-10>Comparison of the Eragen Multi-Code Respiratory Virus Panel with conventional viral testing and real-time multiplex PCR assays for detection of respiratory viruses.</a></strong><br>2010. Arens MQ, Buller RS, Rankin A, Mason S, Whetsell A, Agapov E, Lee WM, Storch GA<br>[ID: 20484608]"
      ],
      "text/plain": [
       "<IPython.core.display.HTML object>"
      ]
     },
     "metadata": {},
     "output_type": "display_data"
    },
    {
     "data": {
      "text/html": [
       "<strong><a href=http://dx.doi.org/10.1080/03079450400013196>A cross-sectional serological survey of the Dutch commercial poultry population for the presence of low pathogenic avian influenza virus infections.</a></strong><br>2004. de Wit JJ, Koch G, Fabri TH, Elbers AR<br>[ID: 15763723]"
      ],
      "text/plain": [
       "<IPython.core.display.HTML object>"
      ]
     },
     "metadata": {},
     "output_type": "display_data"
    },
    {
     "data": {
      "text/html": [
       "<strong><a href=http://dx.doi.org/10.4049/jimmunol.1600497>A Novel R848-Conjugated Inactivated Influenza Virus Vaccine Is Efficacious and Safe in a Neonate Nonhuman Primate Model.</a></strong><br>2016. Holbrook BC, Kim JR, Blevins LK, Jorgensen MJ, Kock ND, D'Agostino RB Jr, Aycock ST, Hadimani MB, King SB, Parks GD, Alexander-Miller MA<br>[ID: 27279374]"
      ],
      "text/plain": [
       "<IPython.core.display.HTML object>"
      ]
     },
     "metadata": {},
     "output_type": "display_data"
    },
    {
     "data": {
      "text/html": [
       "<strong><a href=http://dx.doi.org/10.1007/s00253-015-6636-8>Production of canine adenovirus type 2 in serum-free suspension cultures of MDCK cells.</a></strong><br>2015. Castro R, Fernandes P, Laske T, Sousa MF, Genzel Y, Scharfenberg K, Alves PM, Coroadinha AS<br>[ID: 25994255]"
      ],
      "text/plain": [
       "<IPython.core.display.HTML object>"
      ]
     },
     "metadata": {},
     "output_type": "display_data"
    },
    {
     "data": {
      "text/html": [
       "<strong><a href=http://dx.doi.org/10.1016/j.chom.2014.10.016>Barcoding influenza virus to decode transmission.</a></strong><br>2014. Wu G, Webby RJ<br>[ID: 25525788]"
      ],
      "text/plain": [
       "<IPython.core.display.HTML object>"
      ]
     },
     "metadata": {},
     "output_type": "display_data"
    },
    {
     "data": {
      "text/html": [
       "<strong><a href=http://dx.doi.org/10.1111/irv.12570>65 years of influenza surveillance by a World Health Organization-coordinated global network.</a></strong><br>2018. Ziegler T, Mamahit A, Cox NJ<br>[ID: 29727518]"
      ],
      "text/plain": [
       "<IPython.core.display.HTML object>"
      ]
     },
     "metadata": {},
     "output_type": "display_data"
    },
    {
     "data": {
      "text/html": [
       "<strong><a href=http://dx.doi.org/10.1080/14760584.2017.1299576>Strategies to induce broadly protective antibody responses to viral glycoproteins.</a></strong><br>2017. Krammer F<br>[ID: 28277797]"
      ],
      "text/plain": [
       "<IPython.core.display.HTML object>"
      ]
     },
     "metadata": {},
     "output_type": "display_data"
    },
    {
     "data": {
      "text/html": [
       "<strong><a href=http://dx.doi.org/10.1637/7658-060206R.1>Effect of vaccination on transmission of HPAI H5N1: the effect of a single vaccination dose on transmission of highly pathogenic avian influenza H5N1 in Peking ducks.</a></strong><br>2007. van der Goot JA, van Boven M, de Jong MC, Koch G<br>[ID: 17494575]"
      ],
      "text/plain": [
       "<IPython.core.display.HTML object>"
      ]
     },
     "metadata": {},
     "output_type": "display_data"
    },
    {
     "data": {
      "text/html": [
       "<strong><a href=http://dx.doi.org/10.1016/bs.mcb.2016.10.005>Infectious disease models in zebrafish.</a></strong><br>2017. Sullivan C, Matty MA, Jurczyszak D, Gabor KA, Millard PJ, Tobin DM, Kim CH<br>[ID: 28129840]"
      ],
      "text/plain": [
       "<IPython.core.display.HTML object>"
      ]
     },
     "metadata": {},
     "output_type": "display_data"
    },
    {
     "data": {
      "text/html": [
       "<strong><a href=http://dx.doi.org/10.1586/erv.11.153>Vaccine-preventable diseases and their impact on Latin American children.</a></strong><br>2011. Ulloa-Gutierrez R, Miño G, Odio C, Avila-Aguero ML, Brea J<br>[ID: 22085169]"
      ],
      "text/plain": [
       "<IPython.core.display.HTML object>"
      ]
     },
     "metadata": {},
     "output_type": "display_data"
    },
    {
     "data": {
      "text/html": [
       "<strong>Method for estimating the order of influenza infection between adults and children.</strong><br>2006. Ijuin K, Matsuda R, Hayashi Y<br>[ID: 16596023]"
      ],
      "text/plain": [
       "<IPython.core.display.HTML object>"
      ]
     },
     "metadata": {},
     "output_type": "display_data"
    },
    {
     "data": {
      "text/html": [
       "<strong><a href=http://dx.doi.org/10.1016/j.vaccine.2014.03.035>Role of viral RNA and lipid in the adverse events associated with the 2010 Southern Hemisphere trivalent influenza vaccine.</a></strong><br>2014. Rockman S, Becher D, Dyson A, Koernig S, Morelli AB, Barnden M, Camuglia S, Soupourmas P, Pearse M, Maraskovsky E<br>[ID: 24681272]"
      ],
      "text/plain": [
       "<IPython.core.display.HTML object>"
      ]
     },
     "metadata": {},
     "output_type": "display_data"
    },
    {
     "data": {
      "text/html": [
       "<strong><a href=http://dx.doi.org/10.1016/j.vaccine.2014.02.021>Systematic evaluation of in vitro and in vivo adventitious virus assays for the detection of viral contamination of cell banks and biological products.</a></strong><br>2014. Gombold J, Karakasidis S, Niksa P, Podczasy J, Neumann K, Richardson J, Sane N, Johnson-Leva R, Randolph V, Sadoff J, Minor P, Schmidt A, Duncan P, Sheets RL<br>[ID: 24681273]"
      ],
      "text/plain": [
       "<IPython.core.display.HTML object>"
      ]
     },
     "metadata": {},
     "output_type": "display_data"
    },
    {
     "data": {
      "text/html": [
       "<strong>Respiratory syncytial virus (RSV) vaccines--two steps back for one leap forward.</strong><br>2008. Power UF<br>[ID: 18340669]"
      ],
      "text/plain": [
       "<IPython.core.display.HTML object>"
      ]
     },
     "metadata": {},
     "output_type": "display_data"
    },
    {
     "data": {
      "text/html": [
       "<strong><a href=http://dx.doi.org/10.1128/mBio.00354-12>The lessons of Asilomar and the H5N1 \"affair\".</a></strong><br>2012. Falkow S<br>[ID: 23047749]"
      ],
      "text/plain": [
       "<IPython.core.display.HTML object>"
      ]
     },
     "metadata": {},
     "output_type": "display_data"
    },
    {
     "data": {
      "text/html": [
       "<strong><a href=http://dx.doi.org/10.1371/journal.pone.0027989>Impact of host cell line adaptation on quasispecies composition and glycosylation of influenza A virus hemagglutinin.</a></strong><br>2011. Roedig JV, Rapp E, Höper D, Genzel Y, Reichl U<br>[ID: 22163276]"
      ],
      "text/plain": [
       "<IPython.core.display.HTML object>"
      ]
     },
     "metadata": {},
     "output_type": "display_data"
    },
    {
     "data": {
      "text/html": [
       "<strong><a href=http://dx.doi.org/10.1016/j.jviromet.2010.12.014>Strand-specific real-time RT-PCR for distinguishing influenza vRNA, cRNA, and mRNA.</a></strong><br>2011. Kawakami E, Watanabe T, Fujii K, Goto H, Watanabe S, Noda T, Kawaoka Y<br>[ID: 21185869]"
      ],
      "text/plain": [
       "<IPython.core.display.HTML object>"
      ]
     },
     "metadata": {},
     "output_type": "display_data"
    },
    {
     "data": {
      "text/html": [
       "<strong>[Capacity of anti-influenza subunit vaccines to elicit the formation of heterologous antibodies].</strong><br>1981. Profeta ML, Ferrante P<br>[ID: 6895694]"
      ],
      "text/plain": [
       "<IPython.core.display.HTML object>"
      ]
     },
     "metadata": {},
     "output_type": "display_data"
    },
    {
     "data": {
      "text/html": [
       "<strong>Method for estimating infection route and speed of influenza.</strong><br>2006. Ijuin K, Matsuda R, Hayashi Y<br>[ID: 16508239]"
      ],
      "text/plain": [
       "<IPython.core.display.HTML object>"
      ]
     },
     "metadata": {},
     "output_type": "display_data"
    },
    {
     "data": {
      "text/html": [
       "<strong><a href=http://dx.doi.org/10.1128/AAC.01419-10>Identification of high-affinity PB1-derived peptides with enhanced affinity to the PA protein of influenza A virus polymerase.</a></strong><br>2011. Wunderlich K, Juozapaitis M, Ranadheera C, Kessler U, Martin A, Eisel J, Beutling U, Frank R, Schwemmle M<br>[ID: 21135188]"
      ],
      "text/plain": [
       "<IPython.core.display.HTML object>"
      ]
     },
     "metadata": {},
     "output_type": "display_data"
    },
    {
     "data": {
      "text/html": [
       "<strong><a href=http://dx.doi.org/10.3791/51112>Expression of functional recombinant hemagglutinin and neuraminidase proteins from the novel H7N9 influenza virus using the baculovirus expression system.</a></strong><br>2013. Margine I, Palese P, Krammer F<br>[ID: 24300384]"
      ],
      "text/plain": [
       "<IPython.core.display.HTML object>"
      ]
     },
     "metadata": {},
     "output_type": "display_data"
    },
    {
     "data": {
      "text/html": [
       "<strong>Genic amplification of the entire coding region of the HEF RNA segment of influenza C virus.</strong><br>1993. Manuguerra JC, Hannoun C, Nicolson C, Robertson JS<br>[ID: 8381795]"
      ],
      "text/plain": [
       "<IPython.core.display.HTML object>"
      ]
     },
     "metadata": {},
     "output_type": "display_data"
    },
    {
     "data": {
      "text/html": [
       "<strong><a href=http://dx.doi.org/10.1016/j.cell.2018.05.050>Direct Visualization of the Conformational Dynamics of Single Influenza Hemagglutinin Trimers.</a></strong><br>2018. Das DK, Govindan R, Nikić-Spiegel I, Krammer F, Lemke EA, Munro JB<br>[ID: 29961575]"
      ],
      "text/plain": [
       "<IPython.core.display.HTML object>"
      ]
     },
     "metadata": {},
     "output_type": "display_data"
    },
    {
     "data": {
      "text/html": [
       "<strong><a href=http://dx.doi.org/10.1016/j.ijid.2016.06.012>Taking forward a 'One Health' approach for turning the tide against the Middle East respiratory syndrome coronavirus and other zoonotic pathogens with epidemic potential.</a></strong><br>2016. Zumla A, Dar O, Kock R, Muturi M, Ntoumi F, Kaleebu P, Eusebio M, Mfinanga S, Bates M, Mwaba P, Ansumana R, Khan M, Alagaili AN, Cotten M, Azhar EI, Maeurer M, Ippolito G, Petersen E<br>[ID: 27321961]"
      ],
      "text/plain": [
       "<IPython.core.display.HTML object>"
      ]
     },
     "metadata": {},
     "output_type": "display_data"
    },
    {
     "data": {
      "text/html": [
       "<strong><a href=http://dx.doi.org/10.1186/s13326-016-0100-2>The Ontology of Biological and Clinical Statistics (OBCS) for standardized and reproducible statistical analysis.</a></strong><br>2016. Zheng J, Harris MR, Masci AM, Lin Y, Hero A, Smith B, He Y<br>[ID: 27627881]"
      ],
      "text/plain": [
       "<IPython.core.display.HTML object>"
      ]
     },
     "metadata": {},
     "output_type": "display_data"
    },
    {
     "data": {
      "text/html": [
       "<strong><a href=http://dx.doi.org/10.1111/j.1751-1097.2008.00416.x>A note on the inactivation of influenza A viruses by solar radiation, relative humidity and temperature.</a></strong><br>2008. Weber TP, Stilianakis NI<br>[ID: 18764908]"
      ],
      "text/plain": [
       "<IPython.core.display.HTML object>"
      ]
     },
     "metadata": {},
     "output_type": "display_data"
    },
    {
     "data": {
      "text/html": [
       "<strong><a href=http://dx.doi.org/10.1016/S0006-3495(92)81641-7>Computer detection of the rapid diffusion of fluorescent membrane fusion markers in images observed with video microscopy.</a></strong><br>1992. Niles WD, Li Q, Cohen FS<br>[ID: 1420909]"
      ],
      "text/plain": [
       "<IPython.core.display.HTML object>"
      ]
     },
     "metadata": {},
     "output_type": "display_data"
    },
    {
     "data": {
      "text/html": [
       "<strong><a href=http://dx.doi.org/10.1111/j.1750-2659.2009.00088.x>H1N1 swine origin influenza infection in the United States and Europe in 2009 may be similar to H1N1 seasonal influenza infection in two Australian states in 2007 and 2008.</a></strong><br>2009. Kelly H, Grant K, Williams S, Smith D<br>[ID: 19627376]"
      ],
      "text/plain": [
       "<IPython.core.display.HTML object>"
      ]
     },
     "metadata": {},
     "output_type": "display_data"
    },
    {
     "data": {
      "text/html": [
       "<strong>Virus retention by a hydrophilic triple-layer PVDF microporous membrane filter.</strong><br>1997. Aranha-Creado H, Oshima K, Jafari S, Howard G Jr, Brandwein H<br>[ID: 9203825]"
      ],
      "text/plain": [
       "<IPython.core.display.HTML object>"
      ]
     },
     "metadata": {},
     "output_type": "display_data"
    },
    {
     "data": {
      "text/html": [
       "<strong><a href=http://dx.doi.org/10.1371/journal.pcbi.1006236>Optimal multi-source forecasting of seasonal influenza.</a></strong><br>2018. Ertem Z, Raymond D, Meyers LA<br>[ID: 30180212]"
      ],
      "text/plain": [
       "<IPython.core.display.HTML object>"
      ]
     },
     "metadata": {},
     "output_type": "display_data"
    },
    {
     "data": {
      "text/html": [
       "<strong><a href=http://dx.doi.org/10.1016/j.respe.2016.06.333>[The seasonal flu vaccination among caregivers in geriatric units: Up-to-date].</a></strong><br>2016. Contal E, Putot A, Dipanda M, Perrin S, Asgassou S, Sordet-Guépet H, Manckoundia P<br>[ID: 27816309]"
      ],
      "text/plain": [
       "<IPython.core.display.HTML object>"
      ]
     },
     "metadata": {},
     "output_type": "display_data"
    },
    {
     "data": {
      "text/html": [
       "<strong><a href=http://dx.doi.org/10.1128/JCM.00639-06>Development of an internal positive control for rapid diagnosis of avian influenza virus infections by real-time reverse transcription-PCR with lyophilized reagents.</a></strong><br>2006. Das A, Spackman E, Senne D, Pedersen J, Suarez DL<br>[ID: 16954228]"
      ],
      "text/plain": [
       "<IPython.core.display.HTML object>"
      ]
     },
     "metadata": {},
     "output_type": "display_data"
    },
    {
     "data": {
      "text/html": [
       "<strong><a href=http://dx.doi.org/10.1038/nbt.1638>Identification of influenza A nucleoprotein as an antiviral target.</a></strong><br>2010. Kao RY, Yang D, Lau LS, Tsui WH, Hu L, Dai J, Chan MP, Chan CM, Wang P, Zheng BJ, Sun J, Huang JD, Madar J, Chen G, Chen H, Guan Y, Yuen KY<br>[ID: 20512121]"
      ],
      "text/plain": [
       "<IPython.core.display.HTML object>"
      ]
     },
     "metadata": {},
     "output_type": "display_data"
    },
    {
     "data": {
      "text/html": [
       "<strong><a href=http://dx.doi.org/10.1002/jssc.201600087>Rapid screening, identification, and purification of neuraminidase inhibitors from Lithospermum erythrorhizon Sieb.et Zucc. by ultrafiltration with HPLC-ESI-TOF-MS combined with semipreparative HPLC.</a></strong><br>2016. Zhang M, Zhao H, Zhao Z, Yan H, Lv R, Cui L, Yuan J, Wang D, Geng Y, Liu D, Wang X<br>[ID: 27061885]"
      ],
      "text/plain": [
       "<IPython.core.display.HTML object>"
      ]
     },
     "metadata": {},
     "output_type": "display_data"
    },
    {
     "data": {
      "text/html": [
       "<strong><a href=http://dx.doi.org/10.1063/1.4977841>Characterization and analysis of real-time capillary convective PCR toward commercialization.</a></strong><br>2017. Qiu X, Zhang S, Mei L, Wu D, Guo Q, Li K, Ge S, Ye X, Xia N, Mauk MG<br>[ID: 28798846]"
      ],
      "text/plain": [
       "<IPython.core.display.HTML object>"
      ]
     },
     "metadata": {},
     "output_type": "display_data"
    },
    {
     "data": {
      "text/html": [
       "<strong><a href=http://dx.doi.org/10.1074/jbc.M115.710533>Synchrotron Infrared and Deep UV Fluorescent Microspectroscopy Study of PB1-F2 β-Aggregated Structures in Influenza A Virus-infected Cells.</a></strong><br>2016. Chevalier C, Le Goffic R, Jamme F, Leymarie O, Réfrégiers M, Delmas B<br>[ID: 26896002]"
      ],
      "text/plain": [
       "<IPython.core.display.HTML object>"
      ]
     },
     "metadata": {},
     "output_type": "display_data"
    },
    {
     "data": {
      "text/html": [
       "<strong><a href=http://dx.doi.org/10.1016/j.coviro.2016.03.003>Vaccinology in the third millennium: scientific and social challenges.</a></strong><br>2016. Poland GA, Whitaker JA, Poland CM, Ovsyannikova IG, Kennedy RB<br>[ID: 27039875]"
      ],
      "text/plain": [
       "<IPython.core.display.HTML object>"
      ]
     },
     "metadata": {},
     "output_type": "display_data"
    },
    {
     "data": {
      "text/html": [
       "<strong>The impact of the 2009 influenza A(H1N1) pandemic on attitudes of healthcare workers toward seasonal influenza vaccination 2010/11.</strong><br>2011. Brandt C, Rabenau HF, Bornmann S, Gottschalk R, Wicker S<br>[ID: 21543044]"
      ],
      "text/plain": [
       "<IPython.core.display.HTML object>"
      ]
     },
     "metadata": {},
     "output_type": "display_data"
    },
    {
     "data": {
      "text/html": [
       "<strong><a href=http://dx.doi.org/10.1002/0471142956.cy1313s69>Application of the PrimRglo assay chemistry to multiplexed bead assays.</a></strong><br>2014. Fang L, Weis A, Wong LK, Yeh DC, Lai R, Corrie S, Barnard RT<br>[ID: 24984964]"
      ],
      "text/plain": [
       "<IPython.core.display.HTML object>"
      ]
     },
     "metadata": {},
     "output_type": "display_data"
    },
    {
     "data": {
      "text/html": [
       "<strong><a href=http://dx.doi.org/10.1128/AAC.02438-12>Population pharmacokinetics of oseltamivir: pediatrics through geriatrics.</a></strong><br>2013. Kamal MA, Van Wart SA, Rayner CR, Subramoney V, Reynolds DK, Bulik CC, Smith PF, Bhavnani SM, Ambrose PG, Forrest A<br>[ID: 23669384]"
      ],
      "text/plain": [
       "<IPython.core.display.HTML object>"
      ]
     },
     "metadata": {},
     "output_type": "display_data"
    },
    {
     "data": {
      "text/html": [
       "<strong><a href=http://dx.doi.org/10.1111/tbed.12071>Risk factors for highly pathogenic avian influenza in commercial layer chicken farms in bangladesh during 2011.</a></strong><br>2014. Osmani MG, Thornton RN, Dhand NK, Hoque MA, Milon SM, Kalam MA, Hossain M, Yamage M<br>[ID: 23480200]"
      ],
      "text/plain": [
       "<IPython.core.display.HTML object>"
      ]
     },
     "metadata": {},
     "output_type": "display_data"
    },
    {
     "data": {
      "text/html": [
       "<strong><a href=http://dx.doi.org/10.1177/000992287601500408>Influenzavirus A2 infections presenting with febril convulsions and gastrointestinal symptoms in young children.</a></strong><br>1976. Price DA, Postlethwaite RJ, Longson M<br>[ID: 1253516]"
      ],
      "text/plain": [
       "<IPython.core.display.HTML object>"
      ]
     },
     "metadata": {},
     "output_type": "display_data"
    },
    {
     "data": {
      "text/html": [
       "<strong><a href=http://dx.doi.org/10.1089/adt.2015.0003.drrr>Repurposing Kinase Inhibitors as Antiviral Agents to Control Influenza A Virus Replication.</a></strong><br>2015. Perwitasari O, Yan X, O'Donnell J, Johnson S, Tripp RA<br>[ID: 26192013]"
      ],
      "text/plain": [
       "<IPython.core.display.HTML object>"
      ]
     },
     "metadata": {},
     "output_type": "display_data"
    },
    {
     "data": {
      "text/html": [
       "<strong>When insurance is not enough: racial and ethnic disparities in immunizations for the Medicare population.</strong><br>2005. Farris JR<br>[ID: 15945360]"
      ],
      "text/plain": [
       "<IPython.core.display.HTML object>"
      ]
     },
     "metadata": {},
     "output_type": "display_data"
    },
    {
     "data": {
      "text/html": [
       "<strong>[The relationship between integrated fish farming and human influenza pandemic].</strong><br>1996. Gu HX, Hu SL, Yang ZG<br>[ID: 8758416]"
      ],
      "text/plain": [
       "<IPython.core.display.HTML object>"
      ]
     },
     "metadata": {},
     "output_type": "display_data"
    },
    {
     "data": {
      "text/html": [
       "<strong><a href=http://dx.doi.org/10.1371/journal.ppat.1003392>Activation of the NLRP3 inflammasome by IAV virulence protein PB1-F2 contributes to severe pathophysiology and disease.</a></strong><br>2013. McAuley JL, Tate MD, MacKenzie-Kludas CJ, Pinar A, Zeng W, Stutz A, Latz E, Brown LE, Mansell A<br>[ID: 23737748]"
      ],
      "text/plain": [
       "<IPython.core.display.HTML object>"
      ]
     },
     "metadata": {},
     "output_type": "display_data"
    },
    {
     "data": {
      "text/html": [
       "<strong><a href=http://dx.doi.org/10.1128/mBio.00455-16>Directed Binding of Gliding Bacterium, Mycoplasma mobile, Shown by Detachment Force and Bond Lifetime.</a></strong><br>2016. Tanaka A, Nakane D, Mizutani M, Nishizaka T, Miyata M<br>[ID: 27353751]"
      ],
      "text/plain": [
       "<IPython.core.display.HTML object>"
      ]
     },
     "metadata": {},
     "output_type": "display_data"
    },
    {
     "data": {
      "text/html": [
       "<strong><a href=http://dx.doi.org/10.1016/j.vaccine.2009.07.008>Influenza vaccination and mortality benefits: new insights, new opportunities.</a></strong><br>2009. Simonsen L, Viboud C, Taylor RJ, Miller MA, Jackson L<br>[ID: 19840664]"
      ],
      "text/plain": [
       "<IPython.core.display.HTML object>"
      ]
     },
     "metadata": {},
     "output_type": "display_data"
    },
    {
     "data": {
      "text/html": [
       "<strong><a href=http://dx.doi.org/10.1039/c0em00365d>Optofluidic device monitoring and fluid dynamics simulation for the spread of viral pathogens in a livestock environment.</a></strong><br>2010. Kwon HJ, Lee CH, Choi EJ, Song JY, Heinze BC, Yoon JY<br>[ID: 20886169]"
      ],
      "text/plain": [
       "<IPython.core.display.HTML object>"
      ]
     },
     "metadata": {},
     "output_type": "display_data"
    },
    {
     "data": {
      "text/html": [
       "<strong><a href=http://dx.doi.org/10.1098/rstb.2012.0204>The evolutionary dynamics of receptor binding avidity in influenza A: a mathematical model for a new antigenic drift hypothesis.</a></strong><br>2013. Yuan HY, Koelle K<br>[ID: 23382426]"
      ],
      "text/plain": [
       "<IPython.core.display.HTML object>"
      ]
     },
     "metadata": {},
     "output_type": "display_data"
    },
    {
     "data": {
      "text/html": [
       "<strong>[Emperor Nikolas I of Russia: the definitive diagnosis].</strong><br>2012. Molin IuA, Vorontsov GA<br>[ID: 23405474]"
      ],
      "text/plain": [
       "<IPython.core.display.HTML object>"
      ]
     },
     "metadata": {},
     "output_type": "display_data"
    },
    {
     "data": {
      "text/html": [
       "<strong>Scientific triumphalism and learning from facts: bacteriology and the \"Spanish flu\" challenge of 1918.</strong><br>2003. Tognotti E<br>[ID: 14598819]"
      ],
      "text/plain": [
       "<IPython.core.display.HTML object>"
      ]
     },
     "metadata": {},
     "output_type": "display_data"
    },
    {
     "data": {
      "text/html": [
       "<strong><a href=http://dx.doi.org/10.1007/978-1-4939-8678-1_28>The Silver Lining in Gain-of-Function Experiments with Pathogens of Pandemic Potential.</a></strong><br>2018. Imperiale MJ, Howard D, Casadevall A<br>[ID: 30151593]"
      ],
      "text/plain": [
       "<IPython.core.display.HTML object>"
      ]
     },
     "metadata": {},
     "output_type": "display_data"
    },
    {
     "data": {
      "text/html": [
       "<strong>Influenza vaccination: do the aged reap the benefit?</strong><br>1995. Morgan R, King D, Turnbull CJ<br>[ID: 7708586]"
      ],
      "text/plain": [
       "<IPython.core.display.HTML object>"
      ]
     },
     "metadata": {},
     "output_type": "display_data"
    },
    {
     "data": {
      "text/html": [
       "<strong><a href=http://dx.doi.org/10.1016/j.vaccine.2015.03.026>The narcolepsy-pandemic influenza story: can the truth ever be unraveled?</a></strong><br>2015. Sturkenboom MC<br>[ID: 26022571]"
      ],
      "text/plain": [
       "<IPython.core.display.HTML object>"
      ]
     },
     "metadata": {},
     "output_type": "display_data"
    },
    {
     "data": {
      "text/html": [
       "<strong><a href=http://dx.doi.org/10.1016/j.mbs.2013.09.001>Forward hysteresis and backward bifurcation caused by culling in an avian influenza model.</a></strong><br>2013. Gulbudak H, Martcheva M<br>[ID: 24056242]"
      ],
      "text/plain": [
       "<IPython.core.display.HTML object>"
      ]
     },
     "metadata": {},
     "output_type": "display_data"
    },
    {
     "data": {
      "text/html": [
       "<strong><a href=http://dx.doi.org/10.1080/01459740903070519>Influenza, anthropology, and global uncertainties.</a></strong><br>2009. Atlani-Duault L, Kendall C<br>[ID: 20182962]"
      ],
      "text/plain": [
       "<IPython.core.display.HTML object>"
      ]
     },
     "metadata": {},
     "output_type": "display_data"
    },
    {
     "data": {
      "text/html": [
       "<strong><a href=http://dx.doi.org/10.1186/s12889-015-1825-z>Motives of Dutch persons aged 50 years and older to accept vaccination: a qualitative study.</a></strong><br>2015. Eilers R, Krabbe PF, de Melker HE<br>[ID: 25981624]"
      ],
      "text/plain": [
       "<IPython.core.display.HTML object>"
      ]
     },
     "metadata": {},
     "output_type": "display_data"
    },
    {
     "data": {
      "text/html": [
       "<strong><a href=http://dx.doi.org/10.1016/j.jmb.2017.05.015>Structural Basis for Asymmetric Conductance of the Influenza M2 Proton Channel Investigated by Solid-State NMR Spectroscopy.</a></strong><br>2017. Mandala VS, Liao SY, Kwon B, Hong M<br>[ID: 28535993]"
      ],
      "text/plain": [
       "<IPython.core.display.HTML object>"
      ]
     },
     "metadata": {},
     "output_type": "display_data"
    },
    {
     "data": {
      "text/html": [
       "<strong><a href=http://dx.doi.org/10.1016/j.coi.2015.12.002>Host genetics of severe influenza: from mouse Mx1 to human IRF7.</a></strong><br>2016. Ciancanelli MJ, Abel L, Zhang SY, Casanova JL<br>[ID: 26761402]"
      ],
      "text/plain": [
       "<IPython.core.display.HTML object>"
      ]
     },
     "metadata": {},
     "output_type": "display_data"
    },
    {
     "data": {
      "text/html": [
       "<strong><a href=http://dx.doi.org/10.1128/JCM.00985-18>Subpopulation Primers Essential for Exhaustive Detection of Diverse Hemagglutinin Genes of H5 Subtype Avian Influenza Viruses by Loop-Mediated Isothermal Amplification Method.</a></strong><br>2018. Furuyama Y, Takahashi Y, Noguchi K, Murakami H, Sakaguchi M, Hisamatsu S, Usui T, Yamaguchi T, Ito T, Tsukamoto K<br>[ID: 30021821]"
      ],
      "text/plain": [
       "<IPython.core.display.HTML object>"
      ]
     },
     "metadata": {},
     "output_type": "display_data"
    },
    {
     "data": {
      "text/html": [
       "<strong><a href=http://dx.doi.org/10.1111/irv.12088>Healthcare worker compliance with seasonal and pandemic influenza vaccination.</a></strong><br>2013. Bellia C, Setbon M, Zylberman P, Flahault A<br>[ID: 24034493]"
      ],
      "text/plain": [
       "<IPython.core.display.HTML object>"
      ]
     },
     "metadata": {},
     "output_type": "display_data"
    },
    {
     "data": {
      "text/html": [
       "<strong><a href=http://dx.doi.org/10.1038/s41598-017-19017-y>Population-Wide Genetic Risk Prediction of Complex Diseases: A Pilot Feasibility Study in Macau Population for Precision Public Healthcare Planning.</a></strong><br>2018. Tsui NBY, Cheng G, Chung T, Lam CWK, Yee A, Chung PKC, Kwan TK, Ko E, He D, Wong WT, Lau JYN, Lau LT, Fok M<br>[ID: 29382849]"
      ],
      "text/plain": [
       "<IPython.core.display.HTML object>"
      ]
     },
     "metadata": {},
     "output_type": "display_data"
    },
    {
     "data": {
      "text/html": [
       "<strong><a href=http://dx.doi.org/10.1016/j.jviromet.2010.09.006>Degenerate primers for PCR amplification and sequencing of the avian influenza A neuraminidase gene.</a></strong><br>2010. Orozovic G, Latorre-Margalef N, Wahlgren J, Muradrasoli S, Olsen B<br>[ID: 20837063]"
      ],
      "text/plain": [
       "<IPython.core.display.HTML object>"
      ]
     },
     "metadata": {},
     "output_type": "display_data"
    },
    {
     "data": {
      "text/html": [
       "<strong>[Antibodies for DNA and RNA viruses in the serum of myasthenia patients. Preliminary report].</strong><br>1981. Rościszewska D, Bluszcz M, Kurek H<br>[ID: 6281675]"
      ],
      "text/plain": [
       "<IPython.core.display.HTML object>"
      ]
     },
     "metadata": {},
     "output_type": "display_data"
    },
    {
     "data": {
      "text/html": [
       "<strong>Influenza viruses, 1957-60.</strong><br>1962. Isaacs A, Hart RJ, Law VG<br>[ID: 20604108]"
      ],
      "text/plain": [
       "<IPython.core.display.HTML object>"
      ]
     },
     "metadata": {},
     "output_type": "display_data"
    },
    {
     "data": {
      "text/html": [
       "<strong><a href=http://dx.doi.org/10.1016/j.jtbi.2015.12.008>Modelling the role of immunity in reversion of viral antigenic sites.</a></strong><br>2016. Chan CH, Sanders LP, Tanaka MM<br>[ID: 26723535]"
      ],
      "text/plain": [
       "<IPython.core.display.HTML object>"
      ]
     },
     "metadata": {},
     "output_type": "display_data"
    },
    {
     "data": {
      "text/html": [
       "<strong>A thymic epithelial cell line induces both positive and negative selection in the thymus.</strong><br>1994. Vukmanović S, Jameson SC, Bevan MJ<br>[ID: 8155600]"
      ],
      "text/plain": [
       "<IPython.core.display.HTML object>"
      ]
     },
     "metadata": {},
     "output_type": "display_data"
    },
    {
     "data": {
      "text/html": [
       "<strong><a href=http://dx.doi.org/10.1371/journal.pone.0196010>Practical spectrophotometric assay for the dapE-encoded N-succinyl-L,L-diaminopimelic acid desuccinylase, a potential antibiotic target.</a></strong><br>2018. Heath TK, Lutz MR Jr, Reidl CT, Guzman ER, Herbert CA, Nocek BP, Holz RC, Olsen KW, Ballicora MA, Becker DP<br>[ID: 29698518]"
      ],
      "text/plain": [
       "<IPython.core.display.HTML object>"
      ]
     },
     "metadata": {},
     "output_type": "display_data"
    },
    {
     "data": {
      "text/html": [
       "<strong>[Immunosuppression at pregnancy and flu].</strong><br>2012. Kiselev OI<br>[ID: 23477246]"
      ],
      "text/plain": [
       "<IPython.core.display.HTML object>"
      ]
     },
     "metadata": {},
     "output_type": "display_data"
    },
    {
     "data": {
      "text/html": [
       "<strong><a href=http://dx.doi.org/10.1002/rmv.1856>Toward antiviral therapy/prophylaxis for rhinovirus-induced exacerbations of chronic obstructive pulmonary disease: challenges, opportunities, and strategies.</a></strong><br>2016. Thibaut HJ, Lacroix C, De Palma AM, Franco D, Decramer M, Neyts J<br>[ID: 26388447]"
      ],
      "text/plain": [
       "<IPython.core.display.HTML object>"
      ]
     },
     "metadata": {},
     "output_type": "display_data"
    },
    {
     "data": {
      "text/html": [
       "<strong>A sialic acid-derived phosphonate analog inhibits different strains of influenza virus neuraminidase with different efficiencies.</strong><br>1995. White CL, Janakiraman MN, Laver WG, Philippon C, Vasella A, Air GM, Luo M<br>[ID: 7844831]"
      ],
      "text/plain": [
       "<IPython.core.display.HTML object>"
      ]
     },
     "metadata": {},
     "output_type": "display_data"
    },
    {
     "data": {
      "text/html": [
       "<strong><a href=http://dx.doi.org/10.1128/JVI.01001-16>Flow Cytometric and Cytokine ELISpot Approaches To Characterize the Cell-Mediated Immune Response in Ferrets following Influenza Virus Infection.</a></strong><br>2016. DiPiazza A, Richards K, Batarse F, Lockard L, Zeng H, García-Sastre A, Albrecht RA, Sant AJ<br>[ID: 27356897]"
      ],
      "text/plain": [
       "<IPython.core.display.HTML object>"
      ]
     },
     "metadata": {},
     "output_type": "display_data"
    },
    {
     "data": {
      "text/html": [
       "<strong><a href=http://dx.doi.org/10.1007/s00216-010-4201-y>Microfluidic immunosensor with integrated liquid core waveguides for sensitive Mie scattering detection of avian influenza antigens in a real biological matrix.</a></strong><br>2010. Heinze BC, Gamboa JR, Kim K, Song JY, Yoon JY<br>[ID: 20859619]"
      ],
      "text/plain": [
       "<IPython.core.display.HTML object>"
      ]
     },
     "metadata": {},
     "output_type": "display_data"
    },
    {
     "data": {
      "text/html": [
       "<strong><a href=http://dx.doi.org/10.1371/journal.pcbi.1005838>fluEvidenceSynthesis: An R package for evidence synthesis based analysis of epidemiological outbreaks.</a></strong><br>2017. van Leeuwen E, Klepac P, Thorrington D, Pebody R, Baguelin M<br>[ID: 29155812]"
      ],
      "text/plain": [
       "<IPython.core.display.HTML object>"
      ]
     },
     "metadata": {},
     "output_type": "display_data"
    },
    {
     "data": {
      "text/html": [
       "<strong><a href=http://dx.doi.org/10.1038/nature07151>Drosophila RNAi screen identifies host genes important for influenza virus replication.</a></strong><br>2008. Hao L, Sakurai A, Watanabe T, Sorensen E, Nidom CA, Newton MA, Ahlquist P, Kawaoka Y<br>[ID: 18615016]"
      ],
      "text/plain": [
       "<IPython.core.display.HTML object>"
      ]
     },
     "metadata": {},
     "output_type": "display_data"
    },
    {
     "data": {
      "text/html": [
       "<strong><a href=http://dx.doi.org/10.1637/8734-032509-ResNote.1>Rapid detection of Eurasian and American H7 subtype influenza A viruses using a single TaqManMGB real-time RT-PCR.</a></strong><br>2010. Van Borm S, Suarez DL, Boschmans M, Ozhelvaci O, Marché S, van den Berg TP<br>[ID: 20521706]"
      ],
      "text/plain": [
       "<IPython.core.display.HTML object>"
      ]
     },
     "metadata": {},
     "output_type": "display_data"
    },
    {
     "data": {
      "text/html": [
       "<strong><a href=http://dx.doi.org/10.1098/rsif.2009.0311.focus>Personalized ventilation as a control measure for airborne transmissible disease spread.</a></strong><br>2009. Pantelic J, Sze-To GN, Tham KW, Chao CY, Khoo YC<br>[ID: 19812074]"
      ],
      "text/plain": [
       "<IPython.core.display.HTML object>"
      ]
     },
     "metadata": {},
     "output_type": "display_data"
    },
    {
     "data": {
      "text/html": [
       "<strong><a href=http://dx.doi.org/10.1186/cc6918>Clinical review: influenza pandemic - physicians and their obligations.</a></strong><br>2008. Anantham D, McHugh W, O'Neill S, Forrow L<br>[ID: 18598380]"
      ],
      "text/plain": [
       "<IPython.core.display.HTML object>"
      ]
     },
     "metadata": {},
     "output_type": "display_data"
    },
    {
     "data": {
      "text/html": [
       "<strong>Mediators of immediate hypersensitivity in nasal secretions during natural colds and rhinovirus infection.</strong><br>1984. Eggleston PA, Hendley JO, Gwaltney JM Jr<br>[ID: 6099951]"
      ],
      "text/plain": [
       "<IPython.core.display.HTML object>"
      ]
     },
     "metadata": {},
     "output_type": "display_data"
    },
    {
     "data": {
      "text/html": [
       "<strong>[Role of vaccination in chronic disease prevention and control].</strong><br>2015. Wang Z, Huang S, Zhao Y, Zhao W, Liang X<br>[ID: 26733040]"
      ],
      "text/plain": [
       "<IPython.core.display.HTML object>"
      ]
     },
     "metadata": {},
     "output_type": "display_data"
    },
    {
     "data": {
      "text/html": [
       "<strong>Molecular evolution of influenza viruses.</strong><br>1995. Scholtissek C<br>[ID: 8828147]"
      ],
      "text/plain": [
       "<IPython.core.display.HTML object>"
      ]
     },
     "metadata": {},
     "output_type": "display_data"
    },
    {
     "data": {
      "text/html": [
       "<strong><a href=http://dx.doi.org/10.1016/j.ab.2012.09.017>Multiplex-microsphere-quantitative polymerase chain reaction: nucleic acid amplification and detection on microspheres.</a></strong><br>2013. Liang F, Lai R, Arora N, Zhang KL, Yeh CC, Barnett GR, Voigt P, Corrie SR, Barnard RT<br>[ID: 23000310]"
      ],
      "text/plain": [
       "<IPython.core.display.HTML object>"
      ]
     },
     "metadata": {},
     "output_type": "display_data"
    },
    {
     "data": {
      "text/html": [
       "<strong><a href=http://dx.doi.org/10.1016/j.bone.2013.10.017>Efficacy, tolerability and safety of once-monthly administration of 75mg risedronate in Japanese patients with involutional osteoporosis: a comparison with a 2.5mg once-daily dosage regimen.</a></strong><br>2014. Hagino H, Kishimoto H, Ohishi H, Horii S, Nakamura T<br>[ID: 24184313]"
      ],
      "text/plain": [
       "<IPython.core.display.HTML object>"
      ]
     },
     "metadata": {},
     "output_type": "display_data"
    },
    {
     "data": {
      "text/html": [
       "<strong><a href=http://dx.doi.org/10.1016/j.compbiolchem.2013.03.003>A combination of epitope prediction and molecular docking allows for good identification of MHC class I restricted T-cell epitopes.</a></strong><br>2013. Zhang XW<br>[ID: 23666426]"
      ],
      "text/plain": [
       "<IPython.core.display.HTML object>"
      ]
     },
     "metadata": {},
     "output_type": "display_data"
    },
    {
     "data": {
      "text/html": [
       "<strong>Protective CD8+ T cell responses against the pre-erythrocytic stages of malaria parasites: an overview.</strong><br>2001. Oliveira-Ferreira J, Daniel-Ribeiro C<br>[ID: 11285500]"
      ],
      "text/plain": [
       "<IPython.core.display.HTML object>"
      ]
     },
     "metadata": {},
     "output_type": "display_data"
    },
    {
     "data": {
      "text/html": [
       "<strong><a href=http://dx.doi.org/10.1016/j.puhe.2009.12.001>Experience and lessons from surveillance and studies of the 2009 pandemic in Europe.</a></strong><br>2010. Nicoll A, Ammon A, Amato Gauci A, Ciancio B, Zucs P, Devaux I, Plata F, Mazick A, Mølbak K, Asikainen T, Kramarz P<br>[ID: 20141821]"
      ],
      "text/plain": [
       "<IPython.core.display.HTML object>"
      ]
     },
     "metadata": {},
     "output_type": "display_data"
    },
    {
     "data": {
      "text/html": [
       "<strong><a href=http://dx.doi.org/10.1093/jmcb/mjq046>Learning from the 2009 H1N1 pandemic: prospects for more broadly effective influenza vaccines.</a></strong><br>2011. Settembre EC, Dormitzer PR, Rappuoli R<br>[ID: 21430014]"
      ],
      "text/plain": [
       "<IPython.core.display.HTML object>"
      ]
     },
     "metadata": {},
     "output_type": "display_data"
    },
    {
     "data": {
      "text/html": [
       "<strong><a href=http://dx.doi.org/10.1007/s12026-018-8991-x>Matrix-M™ adjuvant enhances immunogenicity of both protein- and modified vaccinia virus Ankara-based influenza vaccines in mice.</a></strong><br>2018. Magnusson SE, Altenburg AF, Bengtsson KL, Bosman F, de Vries RD, Rimmelzwaan GF, Stertman L<br>[ID: 29594879]"
      ],
      "text/plain": [
       "<IPython.core.display.HTML object>"
      ]
     },
     "metadata": {},
     "output_type": "display_data"
    }
   ],
   "source": [
    "def or_query(searchString):\n",
    "    searchWords = preprocess(tokenize(searchString)) \n",
    "    results = set()\n",
    "    for word in searchWords:\n",
    "        currWordDocuments = inverted_index[word]\n",
    "        if len(results) == 0:\n",
    "            results = currWordDocuments\n",
    "        else:\n",
    "            results = results | currWordDocuments\n",
    "    return results\n",
    "\n",
    "for i in or_query(\"Forward Blown\"):\n",
    "        display_summary(i)\n"
   ]
  },
  {
   "cell_type": "markdown",
   "metadata": {},
   "source": [
    "### Task 3\n",
    "\n",
    "Show how many hits the query \"to be or not to be\" returns for your two query functions (`and_query` and `or_query`)."
   ]
  },
  {
   "cell_type": "code",
   "execution_count": 12,
   "metadata": {},
   "outputs": [
    {
     "name": "stdout",
     "output_type": "stream",
     "text": [
      "Or:\n",
      "62070\n",
      "\n",
      "And:\n",
      "4267\n"
     ]
    }
   ],
   "source": [
    "query_string = \"to be or not to be\"\n",
    "print(\"Or:\")\n",
    "print(len(or_query(query_string)))\n",
    "print(\"\\nAnd:\")\n",
    "print(len(and_query(query_string)))"
   ]
  },
  {
   "cell_type": "markdown",
   "metadata": {},
   "source": [
    "### Task 4\n",
    "\n",
    "Given the nature of our dataset, how many of the documents from task 3 do you think are actually about the [Shakespeare quote](https://en.wikipedia.org/wiki/To_be%2C_or_not_to_be)? What could you do to better handle such queries? (You don't have to implement this yet!)"
   ]
  },
  {
   "cell_type": "markdown",
   "metadata": {},
   "source": [
    "**Answer:** I do not think any of the documents are about the Shakespeare quote. To better handle such queries you could implement biword queries, which is susceptible to false positives, or use positional indexes to find the quote in its entirety. "
   ]
  },
  {
   "cell_type": "markdown",
   "metadata": {},
   "source": [
    "### Task 5\n",
    "\n",
    "Why does `and_query('therapeutic protections antibodies')` not return our example paper 28953867, even though it mentions antibodies and therapeutic protections in the abstract? (You do not have to implement anything to fix this yet!)"
   ]
  },
  {
   "cell_type": "markdown",
   "metadata": {},
   "source": [
    "**Answer:** It is a false negative due to the lack of lemmatization"
   ]
  },
  {
   "cell_type": "markdown",
   "metadata": {},
   "source": [
    "# Submission"
   ]
  },
  {
   "cell_type": "markdown",
   "metadata": {},
   "source": [
    "Submit the answers to the assignment via Canvas as a modified version of this Notebook file (file with `.ipynb` extension) that includes your code and your answers.\n",
    "\n",
    "Before submitting, restart the kernel and re-run the complete code (**Kernel > Restart & Run All**), and then check whether your assignment code still works as expected.\n",
    "\n",
    "Don't forget to add your name, and remember that the assignments have to be done individually and group submissions are **not allowed**."
   ]
  }
 ],
 "metadata": {
  "kernelspec": {
   "display_name": "Python 3",
   "language": "python",
   "name": "python3"
  },
  "language_info": {
   "codemirror_mode": {
    "name": "ipython",
    "version": 3
   },
   "file_extension": ".py",
   "mimetype": "text/x-python",
   "name": "python",
   "nbconvert_exporter": "python",
   "pygments_lexer": "ipython3",
   "version": "3.6.6"
  }
 },
 "nbformat": 4,
 "nbformat_minor": 1
}
