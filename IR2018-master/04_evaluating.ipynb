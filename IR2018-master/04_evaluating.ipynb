{
 "cells": [
  {
   "cell_type": "markdown",
   "metadata": {},
   "source": [
    "# Assignment 4: Evaluating Search Engines"
   ]
  },
  {
   "cell_type": "markdown",
   "metadata": {},
   "source": [
    "For this assignment, we leave aside the code we developed so far, and look into the more general issue of how to evaluate and compare different search engines. The ultimate test for any Information Retrieval system is how well it is able to satisfy the information needs of users."
   ]
  },
  {
   "cell_type": "markdown",
   "metadata": {},
   "source": [
    "# Cohen's Kappa"
   ]
  },
  {
   "cell_type": "markdown",
   "metadata": {},
   "source": [
    "Our evaluation will involve the calculation of [Cohen's Kappa](https://en.wikipedia.org/wiki/Cohen's_kappa) to quantify the degree to which two human assessors agree or disagree on whether results are considered relevant or not. To calculate Cohen's Kappa, we are going to use the [scikit-learn library](http://scikit-learn.org/stable/):"
   ]
  },
  {
   "cell_type": "code",
   "execution_count": 1,
   "metadata": {},
   "outputs": [
    {
     "name": "stdout",
     "output_type": "stream",
     "text": [
      "/bin/sh: 1: pip: not found\r\n"
     ]
    }
   ],
   "source": [
    "! pip install --user scikit-learn"
   ]
  },
  {
   "cell_type": "code",
   "execution_count": 2,
   "metadata": {},
   "outputs": [],
   "source": [
    "from sklearn.metrics import cohen_kappa_score"
   ]
  },
  {
   "cell_type": "markdown",
   "metadata": {},
   "source": [
    "This library expects relevance assessments as lists of elements where `1` stands for _relevant_ and `0` stands for _not relevant_, for example like this:"
   ]
  },
  {
   "cell_type": "code",
   "execution_count": 3,
   "metadata": {},
   "outputs": [],
   "source": [
    "a1=[1,0,1,0,1,0,1,0]"
   ]
  },
  {
   "cell_type": "markdown",
   "metadata": {},
   "source": [
    "This list means that the first document was assessed to be relevant, the second to be not relevant, the third to be relevant etc.\n",
    "\n",
    "We need two assessments in order to calculate Cohen's Kappa, so let's make another exemplary list that only differs on the last element:"
   ]
  },
  {
   "cell_type": "code",
   "execution_count": 4,
   "metadata": {},
   "outputs": [],
   "source": [
    "a2=[1,0,1,0,1,0,1,1]"
   ]
  },
  {
   "cell_type": "markdown",
   "metadata": {},
   "source": [
    "We can now invoke the library as follows to calculate the agreement between the two:"
   ]
  },
  {
   "cell_type": "code",
   "execution_count": 5,
   "metadata": {},
   "outputs": [
    {
     "data": {
      "text/plain": [
       "0.75"
      ]
     },
     "execution_count": 5,
     "metadata": {},
     "output_type": "execute_result"
    }
   ],
   "source": [
    "cohen_kappa_score(a1, a2)"
   ]
  },
  {
   "cell_type": "markdown",
   "metadata": {},
   "source": [
    "This value represents high agreement. We can reach maximal agreement if the two assessments are identical:"
   ]
  },
  {
   "cell_type": "code",
   "execution_count": 6,
   "metadata": {},
   "outputs": [
    {
     "data": {
      "text/plain": [
       "1.0"
      ]
     },
     "execution_count": 6,
     "metadata": {},
     "output_type": "execute_result"
    }
   ],
   "source": [
    "cohen_kappa_score(a1, a1)"
   ]
  },
  {
   "cell_type": "markdown",
   "metadata": {},
   "source": [
    "Now, let's see what happens for a third assessment that differs on three positions with the first one (the three last positions):"
   ]
  },
  {
   "cell_type": "code",
   "execution_count": 7,
   "metadata": {},
   "outputs": [
    {
     "data": {
      "text/plain": [
       "0.25"
      ]
     },
     "execution_count": 7,
     "metadata": {},
     "output_type": "execute_result"
    }
   ],
   "source": [
    "a3=[1,0,1,0,1,1,0,1]\n",
    "\n",
    "cohen_kappa_score(a1, a3)"
   ]
  },
  {
   "cell_type": "markdown",
   "metadata": {},
   "source": [
    "We get a smaller but still positive value, because these two assessments still mostly agree. If we make a further example that differs on 6 of the 8 positions, we get the following result:"
   ]
  },
  {
   "cell_type": "code",
   "execution_count": 8,
   "metadata": {},
   "outputs": [
    {
     "data": {
      "text/plain": [
       "-0.5"
      ]
     },
     "execution_count": 8,
     "metadata": {},
     "output_type": "execute_result"
    }
   ],
   "source": [
    "a4=[1,0,0,1,0,1,0,1]\n",
    "\n",
    "cohen_kappa_score(a1, a4)"
   ]
  },
  {
   "cell_type": "markdown",
   "metadata": {},
   "source": [
    "The score is now negative, because the two differ on more positions than they agree. The agreement is in fact less than what you would expect to occur just by chance. We get the maximal disagreement if we define a fifth example that disagrees on all positions:"
   ]
  },
  {
   "cell_type": "code",
   "execution_count": 9,
   "metadata": {},
   "outputs": [
    {
     "data": {
      "text/plain": [
       "-1.0"
      ]
     },
     "execution_count": 9,
     "metadata": {},
     "output_type": "execute_result"
    }
   ],
   "source": [
    "a5=[0,1,0,1,0,1,0,1]\n",
    "\n",
    "cohen_kappa_score(a1, a5)"
   ]
  },
  {
   "cell_type": "markdown",
   "metadata": {},
   "source": [
    "Now that we understand how this function works, we will apply it below for our specific evaluation."
   ]
  },
  {
   "cell_type": "markdown",
   "metadata": {},
   "source": [
    "# Results and Assessments\n",
    "\n",
    "Next, we will define some auxilary code to deal with lists of URLs from search engines and associated relevance assessments. We will encode result lists like this:"
   ]
  },
  {
   "cell_type": "code",
   "execution_count": 10,
   "metadata": {},
   "outputs": [],
   "source": [
    "urls = [\n",
    "    'https://en.wikipedia.org/wiki/Information_retrieval/',  # 1st result\n",
    "    'http://www.dictionary.com/browse/information',          # 2nd result\n",
    "    'https://nlp.stanford.edu/IR-book/'                      # ...\n",
    "]"
   ]
  },
  {
   "cell_type": "markdown",
   "metadata": {},
   "source": [
    "And we represent corresponding assessments, as above, as lists of the same size containing relevance values:"
   ]
  },
  {
   "cell_type": "code",
   "execution_count": 11,
   "metadata": {},
   "outputs": [],
   "source": [
    "my_assessment = [1, 0, 1]\n",
    "another_assessment = [0, 0, 1]"
   ]
  },
  {
   "cell_type": "markdown",
   "metadata": {},
   "source": [
    "In order to nicely display URL lists, with or without related assessments, we define a function called `display_results`:"
   ]
  },
  {
   "cell_type": "code",
   "execution_count": 12,
   "metadata": {},
   "outputs": [],
   "source": [
    "from IPython.display import display, HTML\n",
    "\n",
    "def display_results(urls, assessment1=None, assessment2=None):\n",
    "    lines = []\n",
    "    lines.append('<table>')\n",
    "    header = '<tr><th>#</th><th>Result URL</th>'\n",
    "    if (assessment1):\n",
    "        header += '<th>Assessment 1</th>'\n",
    "    if (assessment2):\n",
    "        header += '<th>Assessment 2</th>'\n",
    "    header += '</tr>'\n",
    "    lines.append(header)\n",
    "    i = 0\n",
    "    for url in urls:\n",
    "        show_url = url\n",
    "        if (len(url) > 80):\n",
    "            show_url = url[:75] + '...'\n",
    "        line = '<tr><td>{}</td><td><a href=\"{:s}\">{:s}</a></td>'.format(i+1, url, show_url)\n",
    "        if (assessment1):\n",
    "            if (assessment1[i] == 0):\n",
    "                line += '<td><em>Not relevant</em></td>'\n",
    "            else:\n",
    "                line += '<td><strong>Relevant</strong></td>'\n",
    "        if (assessment2):\n",
    "            if (assessment2[i] == 0):\n",
    "                line += '<td><em>Not relevant</em></td>'\n",
    "            else:\n",
    "                line += '<td><strong>Relevant</strong></td>'\n",
    "        line += '</tr>'\n",
    "        lines.append(line)\n",
    "        i = i+1\n",
    "    lines.append('</table>')\n",
    "    display( HTML(''.join(lines)) )"
   ]
  },
  {
   "cell_type": "markdown",
   "metadata": {},
   "source": [
    "We can use this function to display a list of URLs, optionally together with one or two assessment lists:"
   ]
  },
  {
   "cell_type": "code",
   "execution_count": 13,
   "metadata": {},
   "outputs": [
    {
     "name": "stdout",
     "output_type": "stream",
     "text": [
      "Just a list of URLs:\n"
     ]
    },
    {
     "data": {
      "text/html": [
       "<table><tr><th>#</th><th>Result URL</th></tr><tr><td>1</td><td><a href=\"https://en.wikipedia.org/wiki/Information_retrieval/\">https://en.wikipedia.org/wiki/Information_retrieval/</a></td></tr><tr><td>2</td><td><a href=\"http://www.dictionary.com/browse/information\">http://www.dictionary.com/browse/information</a></td></tr><tr><td>3</td><td><a href=\"https://nlp.stanford.edu/IR-book/\">https://nlp.stanford.edu/IR-book/</a></td></tr></table>"
      ],
      "text/plain": [
       "<IPython.core.display.HTML object>"
      ]
     },
     "metadata": {},
     "output_type": "display_data"
    },
    {
     "name": "stdout",
     "output_type": "stream",
     "text": [
      "With one assessment:\n"
     ]
    },
    {
     "data": {
      "text/html": [
       "<table><tr><th>#</th><th>Result URL</th><th>Assessment 1</th></tr><tr><td>1</td><td><a href=\"https://en.wikipedia.org/wiki/Information_retrieval/\">https://en.wikipedia.org/wiki/Information_retrieval/</a></td><td><strong>Relevant</strong></td></tr><tr><td>2</td><td><a href=\"http://www.dictionary.com/browse/information\">http://www.dictionary.com/browse/information</a></td><td><em>Not relevant</em></td></tr><tr><td>3</td><td><a href=\"https://nlp.stanford.edu/IR-book/\">https://nlp.stanford.edu/IR-book/</a></td><td><strong>Relevant</strong></td></tr></table>"
      ],
      "text/plain": [
       "<IPython.core.display.HTML object>"
      ]
     },
     "metadata": {},
     "output_type": "display_data"
    },
    {
     "name": "stdout",
     "output_type": "stream",
     "text": [
      "With two assessments:\n"
     ]
    },
    {
     "data": {
      "text/html": [
       "<table><tr><th>#</th><th>Result URL</th><th>Assessment 1</th><th>Assessment 2</th></tr><tr><td>1</td><td><a href=\"https://en.wikipedia.org/wiki/Information_retrieval/\">https://en.wikipedia.org/wiki/Information_retrieval/</a></td><td><strong>Relevant</strong></td><td><em>Not relevant</em></td></tr><tr><td>2</td><td><a href=\"http://www.dictionary.com/browse/information\">http://www.dictionary.com/browse/information</a></td><td><em>Not relevant</em></td><td><em>Not relevant</em></td></tr><tr><td>3</td><td><a href=\"https://nlp.stanford.edu/IR-book/\">https://nlp.stanford.edu/IR-book/</a></td><td><strong>Relevant</strong></td><td><strong>Relevant</strong></td></tr></table>"
      ],
      "text/plain": [
       "<IPython.core.display.HTML object>"
      ]
     },
     "metadata": {},
     "output_type": "display_data"
    }
   ],
   "source": [
    "print(\"Just a list of URLs:\")\n",
    "display_results(urls)\n",
    "\n",
    "print(\"With one assessment:\")\n",
    "display_results(urls, my_assessment)\n",
    "\n",
    "print(\"With two assessments:\")\n",
    "display_results(urls, my_assessment, another_assessment)"
   ]
  },
  {
   "cell_type": "markdown",
   "metadata": {},
   "source": [
    "Now we are ready to perform an actual evaluation, which will involve a substantial amount of manual work."
   ]
  },
  {
   "cell_type": "markdown",
   "metadata": {},
   "source": [
    "---"
   ]
  },
  {
   "cell_type": "markdown",
   "metadata": {},
   "source": [
    "# Tasks"
   ]
  },
  {
   "cell_type": "markdown",
   "metadata": {},
   "source": [
    "**Your name:** David Rocker"
   ]
  },
  {
   "cell_type": "markdown",
   "metadata": {},
   "source": [
    "### Task 1\n",
    "\n",
    "Think up and formulate an information need in the areas of Computer Science or the Life Sciences (medicine, biology, etc.) for which you think the answer can be found in scientific publications. On page 152 in the book an example of such an information need is shown: \"Information on whether drinking red wine is more effective at reducing your risk of heart attacks than white wine.\""
   ]
  },
  {
   "cell_type": "markdown",
   "metadata": {},
   "source": [
    "**Answer:** Information on whether socioeconomic status impacts health and diet choices in life"
   ]
  },
  {
   "cell_type": "markdown",
   "metadata": {},
   "source": [
    "Next, write down specifically what documents have to look like to satisfy your information need. For example if your information need is about finding an overview of different cancer types, you could state that a document would need to list at least ten types of cancer to satisfy your information need (among other criteria). Write this down as a protocol with rules and examples. For example, such a protocol could state that at least three out of five given criteria have to be fulfilled for a document to be considered relevant for the information need, and then specify the criteria. Or your protocol could have the form of a sequence of rules, where each rule lets you either label the document as relevant or not relevant, or proceed with the next rule. Such rules and criteria can, for example, be about the general topic of the paper, the concepts mentioned in it, the covered relations between concepts, the type of publication (research paper, overview paper, etc.), the number of references, the types of contained diagrams, and so on, depending on your specified information need."
   ]
  },
  {
   "cell_type": "markdown",
   "metadata": {},
   "source": [
    "**Answer:** In order to be relevant the document must contain at least 3 out of 5 of these criteria:\n",
    "1. Must compare different socioeconomic class's diets\n",
    "2. Must compare different socioeconomic class's health habits(doctors checkups, exercise, injury compensation at work, etc)\n",
    "3. Must provide statistics with references to back up said comparisons\n",
    "4. Must contain a description of studies done\n",
    "5. Studies done must contain at least 500 people from each class"
   ]
  },
  {
   "cell_type": "markdown",
   "metadata": {},
   "source": [
    "### Task 2\n",
    "\n",
    "Formulate a keyword query that represents the information need. For the example on page 152 in the book (see above), the example query \"wine AND red AND white AND heart AND attack AND effective\" is given. (You don't need to use connectors like \"AND\", but if you do, make first sure your chosen search engines below actually support them.)"
   ]
  },
  {
   "cell_type": "markdown",
   "metadata": {},
   "source": [
    "**Answer:** socioeconomic status relating to health"
   ]
  },
  {
   "cell_type": "markdown",
   "metadata": {},
   "source": [
    "Then submit your query to **two** of the following academic search engines:\n",
    "\n",
    "- [Google Scholar](https://scholar.google.com) (all science disciplines)\n",
    "- [Semantic Scholar](https://www.semanticscholar.org) (computer science and biomedicine)\n",
    "- [PubMed Search](https://www.ncbi.nlm.nih.gov/pubmed) (Life Sciences / biomedicine)\n",
    "\n",
    "The right choice of two from the three search engine depends on the topic of your information need. If your information need is in Computer Science, for example, you should use Google Scholar and Semantic Scholar.\n",
    "\n",
    "Extract a list of the top 10 URLs of the lists of each of the search engines\n",
    "given the query. Try to access the resulting publications. For the publications\n",
    "where that is not possible (because of dead links or because the publication is\n",
    "pay-walled even within the VU network), exclude them from the list and add more publications to the end of\n",
    "your list (that is, append results number 11, then 12, etc. to ensure you have\n",
    "two lists of 10 publications each). In order to deal with paywalls, you should try accessing the articles from the VU network, use\n",
    "[UBVU Off-Campus\n",
    "Access](http://www.ub.vu.nl.vu-nl.idm.oclc.org/nl/faciliteiten/toegang-buiten-de-campus/index.aspx), or try to find the respective documents from alternative sources (Google Scholar, for example, is very good at finding free PDFs of articles). If you get fewer than 10 results for one of the search engines, modify the keyword query above to make it more inclusive, and then redo the steps of this task.\n",
    "\n",
    "Store your two lists of URLs in the form of Python lists as introduced above. Then, use the `display_results` function to nicely display them."
   ]
  },
  {
   "cell_type": "code",
   "execution_count": 14,
   "metadata": {},
   "outputs": [
    {
     "data": {
      "text/html": [
       "<table><tr><th>#</th><th>Result URL</th></tr><tr><td>1</td><td><a href=\"http://psycnet.apa.org/record/1994-29613-001\">http://psycnet.apa.org/record/1994-29613-001</a></td></tr><tr><td>2</td><td><a href=\"https://www.ncbi.nlm.nih.gov/pubmed/22812021\">https://www.ncbi.nlm.nih.gov/pubmed/22812021</a></td></tr><tr><td>3</td><td><a href=\"http://aldricharchive.com/cuttings/1984/july%201984.pdf\">http://aldricharchive.com/cuttings/1984/july%201984.pdf</a></td></tr><tr><td>4</td><td><a href=\"https://inequality.stanford.edu/sites/default/files/media/_media/pdf/Reference%20Media/Currie_2008_Health%20and%20Mental%20Health.pdf\">https://inequality.stanford.edu/sites/default/files/media/_media/pdf/Refere...</a></td></tr><tr><td>5</td><td><a href=\"http://citeseerx.ist.psu.edu/viewdoc/download?doi=10.1.1.1021.8087&rep=rep1&type=pdf\">http://citeseerx.ist.psu.edu/viewdoc/download?doi=10.1.1.1021.8087&rep=rep1...</a></td></tr><tr><td>6</td><td><a href=\"https://www.annualreviews.org/doi/full/10.1146/annurev.publhealth.23.112001.112349\">https://www.annualreviews.org/doi/full/10.1146/annurev.publhealth.23.112001...</a></td></tr><tr><td>7</td><td><a href=\"https://ajph.aphapublications.org/doi/pdfplus/10.2105/AJPH.92.7.1151\">https://ajph.aphapublications.org/doi/pdfplus/10.2105/AJPH.92.7.1151</a></td></tr><tr><td>8</td><td><a href=\"https://deepblue.lib.umich.edu/bitstream/handle/2027.42/71908/j.1749-6632.1999.tb08114.x.pdf?sequence=1&isAllowed=y\">https://deepblue.lib.umich.edu/bitstream/handle/2027.42/71908/j.1749-6632.1...</a></td></tr><tr><td>9</td><td><a href=\"https://www.researchgate.net/profile/Catherine_Cubbin/publication/7416827_Socioeconomic_Status_in_Health_Research_One_Size_Does_Not_Fit_All/links/09e4150b63d937d03a000000/Socioeconomic-Status-in-Health-Research-One-Size-Does-Not-Fit-All.pdf\">https://www.researchgate.net/profile/Catherine_Cubbin/publication/7416827_S...</a></td></tr><tr><td>10</td><td><a href=\"https://www.ncbi.nlm.nih.gov/pmc/articles/PMC4499872/\">https://www.ncbi.nlm.nih.gov/pmc/articles/PMC4499872/</a></td></tr></table>"
      ],
      "text/plain": [
       "<IPython.core.display.HTML object>"
      ]
     },
     "metadata": {},
     "output_type": "display_data"
    },
    {
     "data": {
      "text/html": [
       "<table><tr><th>#</th><th>Result URL</th></tr><tr><td>1</td><td><a href=\"https://academic.oup.com/abm/advance-article/doi/10.1093/abm/kay089/5161001\">https://academic.oup.com/abm/advance-article/doi/10.1093/abm/kay089/5161001</a></td></tr><tr><td>2</td><td><a href=\"https://www.sciencedirect.com/science/article/pii/S0163834318300720?via%3Dihub\">https://www.sciencedirect.com/science/article/pii/S0163834318300720?via%3Dihub</a></td></tr><tr><td>3</td><td><a href=\"https://www.liebertpub.com/doi/full/10.1089/bfm.2018.0132?url_ver=Z39.88-2003&rfr_id=ori%3Arid%3Acrossref.org&rfr_dat=cr_pub%3Dpubmed&\">https://www.liebertpub.com/doi/full/10.1089/bfm.2018.0132?url_ver=Z39.88-20...</a></td></tr><tr><td>4</td><td><a href=\"https://www.ncbi.nlm.nih.gov/books/NBK525234/\">https://www.ncbi.nlm.nih.gov/books/NBK525234/</a></td></tr><tr><td>5</td><td><a href=\"https://onlinelibrary.wiley.com/doi/full/10.1111/hsc.12645\">https://onlinelibrary.wiley.com/doi/full/10.1111/hsc.12645</a></td></tr><tr><td>6</td><td><a href=\"https://www.ncbi.nlm.nih.gov/pmc/articles/PMC6097401/\">https://www.ncbi.nlm.nih.gov/pmc/articles/PMC6097401/</a></td></tr><tr><td>7</td><td><a href=\"http://www.scielo.br/scielo.php?script=sci_arttext&pid=S1516-31802018005012103&lng=en&nrm=iso&tlng=en\">http://www.scielo.br/scielo.php?script=sci_arttext&pid=S1516-31802018005012...</a></td></tr><tr><td>8</td><td><a href=\"https://www.ncbi.nlm.nih.gov/pmc/articles/PMC6067362/\">https://www.ncbi.nlm.nih.gov/pmc/articles/PMC6067362/</a></td></tr><tr><td>9</td><td><a href=\"https://www.ncbi.nlm.nih.gov/pmc/articles/PMC6006943/\">https://www.ncbi.nlm.nih.gov/pmc/articles/PMC6006943/</a></td></tr><tr><td>10</td><td><a href=\"https://www.ncbi.nlm.nih.gov/pmc/articles/PMC6016129/\">https://www.ncbi.nlm.nih.gov/pmc/articles/PMC6016129/</a></td></tr></table>"
      ],
      "text/plain": [
       "<IPython.core.display.HTML object>"
      ]
     },
     "metadata": {},
     "output_type": "display_data"
    }
   ],
   "source": [
    "# Create two of the lists below, depending on your chosen engines:\n",
    "\n",
    "urls_google = ['http://psycnet.apa.org/record/1994-29613-001', \n",
    "              'https://www.ncbi.nlm.nih.gov/pubmed/22812021',\n",
    "              'http://aldricharchive.com/cuttings/1984/july%201984.pdf',\n",
    "              'https://inequality.stanford.edu/sites/default/files/media/_media/pdf/Reference%20Media/Currie_2008_Health%20and%20Mental%20Health.pdf',\n",
    "              'http://citeseerx.ist.psu.edu/viewdoc/download?doi=10.1.1.1021.8087&rep=rep1&type=pdf',\n",
    "              'https://www.annualreviews.org/doi/full/10.1146/annurev.publhealth.23.112001.112349',\n",
    "              'https://ajph.aphapublications.org/doi/pdfplus/10.2105/AJPH.92.7.1151',\n",
    "              'https://deepblue.lib.umich.edu/bitstream/handle/2027.42/71908/j.1749-6632.1999.tb08114.x.pdf?sequence=1&isAllowed=y',\n",
    "              'https://www.researchgate.net/profile/Catherine_Cubbin/publication/7416827_Socioeconomic_Status_in_Health_Research_One_Size_Does_Not_Fit_All/links/09e4150b63d937d03a000000/Socioeconomic-Status-in-Health-Research-One-Size-Does-Not-Fit-All.pdf',\n",
    "              'https://www.ncbi.nlm.nih.gov/pmc/articles/PMC4499872/']\n",
    "#urls_semantic = ...\n",
    "urls_pubmed = ['https://academic.oup.com/abm/advance-article/doi/10.1093/abm/kay089/5161001',\n",
    "              'https://www.sciencedirect.com/science/article/pii/S0163834318300720?via%3Dihub',\n",
    "              'https://www.liebertpub.com/doi/full/10.1089/bfm.2018.0132?url_ver=Z39.88-2003&rfr_id=ori%3Arid%3Acrossref.org&rfr_dat=cr_pub%3Dpubmed&',\n",
    "              'https://www.ncbi.nlm.nih.gov/books/NBK525234/',\n",
    "              'https://onlinelibrary.wiley.com/doi/full/10.1111/hsc.12645',\n",
    "              'https://www.ncbi.nlm.nih.gov/pmc/articles/PMC6097401/',\n",
    "              'http://www.scielo.br/scielo.php?script=sci_arttext&pid=S1516-31802018005012103&lng=en&nrm=iso&tlng=en',\n",
    "              'https://www.ncbi.nlm.nih.gov/pmc/articles/PMC6067362/',\n",
    "              'https://www.ncbi.nlm.nih.gov/pmc/articles/PMC6006943/',\n",
    "              'https://www.ncbi.nlm.nih.gov/pmc/articles/PMC6016129/']\n",
    "\n",
    "# Call display_results here\n",
    "display_results(urls_google)\n",
    "display_results(urls_pubmed)"
   ]
  },
  {
   "cell_type": "markdown",
   "metadata": {},
   "source": [
    "### Task 3\n",
    "\n",
    "Then, find a fellow student who will **independently**\n",
    "assess the results as \"relevant\" or \"not relevant\" using the protocol that you\n",
    "have defined above, and also help (at least) one other student for his/her\n",
    "assessment. Write down their names here:"
   ]
  },
  {
   "cell_type": "markdown",
   "metadata": {},
   "source": [
    "**Name of the student who assesses my results:** Hannah Zucker\n",
    "\n",
    "**Name of the student who I help to assess his/her results:** Hannah Zucker"
   ]
  },
  {
   "cell_type": "markdown",
   "metadata": {},
   "source": [
    "Show to the other assessor everything you have written down above for Tasks 1 and 2 (and you might also want to give him/her the PDFs you got for these papers to simplify the process).\n",
    "\n",
    "You as assessors need to stick to the protocol you made in Task 1 and should not discuss with each other, especially when you doubt whether a result is relevant or not. Write down your assessments as lists of relevance values, as introduced above, and make sure they correctly map to the URLs by displaying them together with the `display_results` function.\n",
    "\n",
    "To avoid problems with extreme results, mark in each list at least one paper as 'relevant' and at least one paper as 'not relevant'. That is, if all papers seem relevant, mark the one that seems least relevant 'not relevant', and conversely, if none of the papers seem relevant, mark the one that seems a bit more relevant than the others as 'relevant'."
   ]
  },
  {
   "cell_type": "code",
   "execution_count": 15,
   "metadata": {},
   "outputs": [
    {
     "data": {
      "text/html": [
       "<table><tr><th>#</th><th>Result URL</th><th>Assessment 1</th><th>Assessment 2</th></tr><tr><td>1</td><td><a href=\"http://psycnet.apa.org/record/1994-29613-001\">http://psycnet.apa.org/record/1994-29613-001</a></td><td><strong>Relevant</strong></td><td><strong>Relevant</strong></td></tr><tr><td>2</td><td><a href=\"https://www.ncbi.nlm.nih.gov/pubmed/22812021\">https://www.ncbi.nlm.nih.gov/pubmed/22812021</a></td><td><strong>Relevant</strong></td><td><strong>Relevant</strong></td></tr><tr><td>3</td><td><a href=\"http://aldricharchive.com/cuttings/1984/july%201984.pdf\">http://aldricharchive.com/cuttings/1984/july%201984.pdf</a></td><td><strong>Relevant</strong></td><td><em>Not relevant</em></td></tr><tr><td>4</td><td><a href=\"https://inequality.stanford.edu/sites/default/files/media/_media/pdf/Reference%20Media/Currie_2008_Health%20and%20Mental%20Health.pdf\">https://inequality.stanford.edu/sites/default/files/media/_media/pdf/Refere...</a></td><td><strong>Relevant</strong></td><td><strong>Relevant</strong></td></tr><tr><td>5</td><td><a href=\"http://citeseerx.ist.psu.edu/viewdoc/download?doi=10.1.1.1021.8087&rep=rep1&type=pdf\">http://citeseerx.ist.psu.edu/viewdoc/download?doi=10.1.1.1021.8087&rep=rep1...</a></td><td><em>Not relevant</em></td><td><strong>Relevant</strong></td></tr><tr><td>6</td><td><a href=\"https://www.annualreviews.org/doi/full/10.1146/annurev.publhealth.23.112001.112349\">https://www.annualreviews.org/doi/full/10.1146/annurev.publhealth.23.112001...</a></td><td><strong>Relevant</strong></td><td><strong>Relevant</strong></td></tr><tr><td>7</td><td><a href=\"https://ajph.aphapublications.org/doi/pdfplus/10.2105/AJPH.92.7.1151\">https://ajph.aphapublications.org/doi/pdfplus/10.2105/AJPH.92.7.1151</a></td><td><strong>Relevant</strong></td><td><strong>Relevant</strong></td></tr><tr><td>8</td><td><a href=\"https://deepblue.lib.umich.edu/bitstream/handle/2027.42/71908/j.1749-6632.1999.tb08114.x.pdf?sequence=1&isAllowed=y\">https://deepblue.lib.umich.edu/bitstream/handle/2027.42/71908/j.1749-6632.1...</a></td><td><strong>Relevant</strong></td><td><strong>Relevant</strong></td></tr><tr><td>9</td><td><a href=\"https://www.researchgate.net/profile/Catherine_Cubbin/publication/7416827_Socioeconomic_Status_in_Health_Research_One_Size_Does_Not_Fit_All/links/09e4150b63d937d03a000000/Socioeconomic-Status-in-Health-Research-One-Size-Does-Not-Fit-All.pdf\">https://www.researchgate.net/profile/Catherine_Cubbin/publication/7416827_S...</a></td><td><em>Not relevant</em></td><td><em>Not relevant</em></td></tr><tr><td>10</td><td><a href=\"https://www.ncbi.nlm.nih.gov/pmc/articles/PMC4499872/\">https://www.ncbi.nlm.nih.gov/pmc/articles/PMC4499872/</a></td><td><em>Not relevant</em></td><td><em>Not relevant</em></td></tr></table>"
      ],
      "text/plain": [
       "<IPython.core.display.HTML object>"
      ]
     },
     "metadata": {},
     "output_type": "display_data"
    },
    {
     "data": {
      "text/html": [
       "<table><tr><th>#</th><th>Result URL</th><th>Assessment 1</th><th>Assessment 2</th></tr><tr><td>1</td><td><a href=\"https://academic.oup.com/abm/advance-article/doi/10.1093/abm/kay089/5161001\">https://academic.oup.com/abm/advance-article/doi/10.1093/abm/kay089/5161001</a></td><td><em>Not relevant</em></td><td><em>Not relevant</em></td></tr><tr><td>2</td><td><a href=\"https://www.sciencedirect.com/science/article/pii/S0163834318300720?via%3Dihub\">https://www.sciencedirect.com/science/article/pii/S0163834318300720?via%3Dihub</a></td><td><em>Not relevant</em></td><td><em>Not relevant</em></td></tr><tr><td>3</td><td><a href=\"https://www.liebertpub.com/doi/full/10.1089/bfm.2018.0132?url_ver=Z39.88-2003&rfr_id=ori%3Arid%3Acrossref.org&rfr_dat=cr_pub%3Dpubmed&\">https://www.liebertpub.com/doi/full/10.1089/bfm.2018.0132?url_ver=Z39.88-20...</a></td><td><strong>Relevant</strong></td><td><em>Not relevant</em></td></tr><tr><td>4</td><td><a href=\"https://www.ncbi.nlm.nih.gov/books/NBK525234/\">https://www.ncbi.nlm.nih.gov/books/NBK525234/</a></td><td><em>Not relevant</em></td><td><em>Not relevant</em></td></tr><tr><td>5</td><td><a href=\"https://onlinelibrary.wiley.com/doi/full/10.1111/hsc.12645\">https://onlinelibrary.wiley.com/doi/full/10.1111/hsc.12645</a></td><td><strong>Relevant</strong></td><td><strong>Relevant</strong></td></tr><tr><td>6</td><td><a href=\"https://www.ncbi.nlm.nih.gov/pmc/articles/PMC6097401/\">https://www.ncbi.nlm.nih.gov/pmc/articles/PMC6097401/</a></td><td><em>Not relevant</em></td><td><em>Not relevant</em></td></tr><tr><td>7</td><td><a href=\"http://www.scielo.br/scielo.php?script=sci_arttext&pid=S1516-31802018005012103&lng=en&nrm=iso&tlng=en\">http://www.scielo.br/scielo.php?script=sci_arttext&pid=S1516-31802018005012...</a></td><td><strong>Relevant</strong></td><td><strong>Relevant</strong></td></tr><tr><td>8</td><td><a href=\"https://www.ncbi.nlm.nih.gov/pmc/articles/PMC6067362/\">https://www.ncbi.nlm.nih.gov/pmc/articles/PMC6067362/</a></td><td><em>Not relevant</em></td><td><em>Not relevant</em></td></tr><tr><td>9</td><td><a href=\"https://www.ncbi.nlm.nih.gov/pmc/articles/PMC6006943/\">https://www.ncbi.nlm.nih.gov/pmc/articles/PMC6006943/</a></td><td><em>Not relevant</em></td><td><em>Not relevant</em></td></tr><tr><td>10</td><td><a href=\"https://www.ncbi.nlm.nih.gov/pmc/articles/PMC6016129/\">https://www.ncbi.nlm.nih.gov/pmc/articles/PMC6016129/</a></td><td><strong>Relevant</strong></td><td><strong>Relevant</strong></td></tr></table>"
      ],
      "text/plain": [
       "<IPython.core.display.HTML object>"
      ]
     },
     "metadata": {},
     "output_type": "display_data"
    }
   ],
   "source": [
    "# 0 = not relevant; 1 = relevant\n",
    "\n",
    "# You only need to create 4 of the following 6 lists, again depending on which search engines you chose.\n",
    "\n",
    "# Assessment 1 is from you:\n",
    "\n",
    "assessment1_google = [1, 1, 1, 1, 0, 1, 1, 1, 0, 0]\n",
    "#assessment1_semantic = ...\n",
    "assessment1_pubmed = [0, 0, 1, 0, 1, 0, 1, 0, 0, 1]\n",
    "\n",
    "# Assessment 2 is from your fellow student (don't show him/her your own assessment!):\n",
    "\n",
    "assessment2_google = [1, 1, 0, 1, 1, 1, 1, 1, 0, 0]\n",
    "#assessment2_semantic = ...\n",
    "assessment2_pubmed =[0, 0, 0, 0, 1, 0, 1, 0, 0, 1]\n",
    "\n",
    "# Call display_results here\n",
    "display_results(urls_google, assessment1_google, assessment2_google)\n",
    "display_results(urls_pubmed, assessment1_pubmed, assessment2_pubmed)"
   ]
  },
  {
   "cell_type": "markdown",
   "metadata": {},
   "source": [
    "### Task 4\n",
    "\n",
    "Compute Cohen's kappa to quantify how much the two assessors agreed. Use the function `cohen_kappa_score` demonstrated above to calculate two times the inter-annotator agreement (once for each of the two search engines), and print out the results."
   ]
  },
  {
   "cell_type": "code",
   "execution_count": 16,
   "metadata": {},
   "outputs": [
    {
     "name": "stdout",
     "output_type": "stream",
     "text": [
      "Kappa for Google Scholar: 0.5238095238095238\n",
      "Kappa for PubMed: 0.7826086956521738\n"
     ]
    }
   ],
   "source": [
    "# Add your code here:\n",
    "\n",
    "kappa_google = cohen_kappa_score(assessment1_google, assessment2_google)\n",
    "#kappa_semantic = ...\n",
    "kappa_pubmed = cohen_kappa_score(assessment1_pubmed, assessment2_pubmed)\n",
    "\n",
    "print(\"Kappa for Google Scholar:\", kappa_google)\n",
    "#print(\"Kappa for Semantic Scholar:\", kappa_semantic)\n",
    "print(\"Kappa for PubMed:\", kappa_pubmed)"
   ]
  },
  {
   "cell_type": "markdown",
   "metadata": {},
   "source": [
    "Explain whether the agreement can be considered high or not, based on the interpretation table on [this Wikipedia page](https://en.wikipedia.org/wiki/Fleiss'_kappa#Interpretation) (this Wikipedia page is about a different type of kappa but the interpretation table can also be used for Cohen's kappa)."
   ]
  },
  {
   "cell_type": "markdown",
   "metadata": {},
   "source": [
    "**Answer:** The agreement for the kappa_google would be considered moderate according to the table because there are a couple differences. The agreement for PubMed would be considered high since there is only one difference its score falls in the substantial agreement category."
   ]
  },
  {
   "cell_type": "markdown",
   "metadata": {},
   "source": [
    "### Task 5\n",
    "\n",
    "Define a function called `precision_at_n` that calculates Precision@n as described in the lecture slides, which takes as input an assessment list and a value for _n_ and returns the respective Precision@n value. Run this function to calculate Precision@10 (that is, n=10) on all four assessments (two assessors and two search engines)."
   ]
  },
  {
   "cell_type": "code",
   "execution_count": 18,
   "metadata": {},
   "outputs": [
    {
     "name": "stdout",
     "output_type": "stream",
     "text": [
      "Assessment1 Google:\n",
      "0.7\n",
      "Assessment2 Google:\n",
      "0.7\n",
      "Assessment1 PubMed:\n",
      "0.4\n",
      "Assessment2 PubMed:\n",
      "0.3\n"
     ]
    }
   ],
   "source": [
    "# Add your code here:\n",
    "\n",
    "def precision_at_n(assessment_list, n):\n",
    "    tp = 0;\n",
    "    fp = 0;\n",
    "    for item in range(0, n):\n",
    "        if(assessment_list[item] == 1):\n",
    "            tp+=1\n",
    "        else:\n",
    "            fp+=1\n",
    "            \n",
    "    return (tp/(tp+fp))\n",
    "        \n",
    "\n",
    "# Print out Precision@10 for all assessments here.\n",
    "print(\"Assessment1 Google:\")\n",
    "print(precision_at_n(assessment1_google, 10))\n",
    "print(\"Assessment2 Google:\")\n",
    "print(precision_at_n(assessment2_google, 10))\n",
    "print(\"Assessment1 PubMed:\")\n",
    "print(precision_at_n(assessment1_pubmed, 10))\n",
    "print(\"Assessment2 PubMed:\")\n",
    "print(precision_at_n(assessment2_pubmed, 10))"
   ]
  },
  {
   "cell_type": "markdown",
   "metadata": {},
   "source": [
    "Explain what these specific Precision@10 results tell us (or don't tell us) about the quality of the two search engines for your particular information need. You can also refer to the results of Task 4 if necessary."
   ]
  },
  {
   "cell_type": "markdown",
   "metadata": {},
   "source": [
    "**Answer:** These results tell us that on average, google is a better search engine then pubmed. Google returned way more relevant results then pubmed did according to both of our assessments, in Hannah's it was even more then double."
   ]
  },
  {
   "cell_type": "markdown",
   "metadata": {},
   "source": [
    "# Submission"
   ]
  },
  {
   "cell_type": "markdown",
   "metadata": {},
   "source": [
    "Submit the answers to the assignment via Canvas as a modified version of this Notebook file (file with `.ipynb` extension) that includes your code and your answers.\n",
    "\n",
    "Before submitting, restart the kernel and re-run the complete code (**Kernel > Restart & Run All**), and then check whether your assignment code still works as expected.\n",
    "\n",
    "Don't forget to add your name, and remember that the assignments have to be done individually and group submissions are **not allowed**."
   ]
  }
 ],
 "metadata": {
  "kernelspec": {
   "display_name": "Python 3",
   "language": "python",
   "name": "python3"
  },
  "language_info": {
   "codemirror_mode": {
    "name": "ipython",
    "version": 3
   },
   "file_extension": ".py",
   "mimetype": "text/x-python",
   "name": "python",
   "nbconvert_exporter": "python",
   "pygments_lexer": "ipython3",
   "version": "3.6.6"
  }
 },
 "nbformat": 4,
 "nbformat_minor": 1
}
