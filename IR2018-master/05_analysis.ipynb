{
 "cells": [
  {
   "cell_type": "markdown",
   "metadata": {},
   "source": [
    "# Assignment 5: Link Analysis"
   ]
  },
  {
   "cell_type": "code",
   "execution_count": null,
   "metadata": {},
   "outputs": [],
   "source": []
  },
  {
   "cell_type": "markdown",
   "metadata": {},
   "source": [
    "In this assignment, we will use network-based algorithms, such as PageRank, to improve our search results. After the last assignment on evaluating IR systems, we go back to our PubMed dataset of scientific papers. In this dataset, we look at two graphs in particular: the co-authorship network and the citation network.\n",
    "\n",
    "The citation network is similar to the link network of the web: Citations are like web links pointing to other documents. We can therefore apply the same network-based ranking methods."
   ]
  },
  {
   "cell_type": "markdown",
   "metadata": {},
   "source": [
    "## Code from previous assignments"
   ]
  },
  {
   "cell_type": "code",
   "execution_count": 1,
   "metadata": {},
   "outputs": [],
   "source": [
    "import pickle, bz2\n",
    "from collections import defaultdict, namedtuple, Counter\n",
    "from math import log10, sqrt\n",
    "from IPython.display import display, HTML\n",
    "import matplotlib.pyplot as plt\n",
    "\n",
    "# show plots inline within the notebook\n",
    "%matplotlib inline\n",
    "# set plots' resolution\n",
    "plt.rcParams['savefig.dpi'] = 100"
   ]
  },
  {
   "cell_type": "code",
   "execution_count": 2,
   "metadata": {},
   "outputs": [],
   "source": [
    "Ids_file = 'data/influenza_Ids.pkl.bz2'\n",
    "Summaries_file = 'data/influenza_Summaries.pkl.bz2'\n",
    "Citations_file = 'data/influenza_Citations.pkl.bz2'\n",
    "Abstracts_file = 'data/influenza_Abstracts.pkl.bz2'\n",
    "\n",
    "Ids = pickle.load( bz2.BZ2File( Ids_file, 'rb' ) )\n",
    "Summaries = pickle.load( bz2.BZ2File( Summaries_file, 'rb' ) )\n",
    "Citations = pickle.load( bz2.BZ2File( Citations_file, 'rb' ) )\n",
    "Abstracts = pickle.load( bz2.BZ2File( Abstracts_file, 'rb' ) )\n",
    "\n",
    "paper = namedtuple( 'paper', ['title', 'authors', 'year', 'doi'] )\n",
    "\n",
    "for (id, paper_info) in Summaries.items():\n",
    "    Summaries[id] = paper( *paper_info )"
   ]
  },
  {
   "cell_type": "code",
   "execution_count": 3,
   "metadata": {},
   "outputs": [],
   "source": [
    "def display_summary( id, show_abstract=False, show_id=True, extra_text='' ):\n",
    "    \"\"\"\n",
    "    Function for printing a paper's summary through IPython's Rich Display System.\n",
    "    Trims long author lists, and adds a link to the paper's DOI (when available).\n",
    "    \"\"\"\n",
    "    s = Summaries[id]\n",
    "    lines = []\n",
    "    title = s.title\n",
    "    if s.doi != '':\n",
    "        title = '<a href=http://dx.doi.org/{:s}>{:s}</a>'.format(s.doi, title)\n",
    "    title = '<strong>' + title + '</strong>'\n",
    "    lines.append(title)\n",
    "    authors = ', '.join( s.authors[:20] ) + ('' if len(s.authors) <= 20 else ', ...')\n",
    "    lines.append(str(s.year) + '. ' + authors)\n",
    "    if (show_abstract):\n",
    "        lines.append('<small><strong>Abstract:</strong> <em>{:s}</em></small>'.format(Abstracts[id]))\n",
    "    if (show_id):\n",
    "        lines.append('[ID: {:d}]'.format(id))\n",
    "    if (extra_text != ''):\n",
    "         lines.append(extra_text)\n",
    "    display( HTML('<br>'.join(lines)) )"
   ]
  },
  {
   "cell_type": "code",
   "execution_count": 4,
   "metadata": {},
   "outputs": [],
   "source": [
    "def tokenize(text):\n",
    "    return text.split(' ')\n",
    "\n",
    "def preprocess(tokens):\n",
    "    result = []\n",
    "    for token in tokens:\n",
    "        result.append(token.lower())\n",
    "    return result"
   ]
  },
  {
   "cell_type": "code",
   "execution_count": 5,
   "metadata": {},
   "outputs": [],
   "source": [
    "inverted_index = defaultdict(set)\n",
    "\n",
    "for (id, abstract) in Abstracts.items():\n",
    "    for term in preprocess(tokenize(abstract)):\n",
    "        inverted_index[term].add(id)\n",
    "\n",
    "tf_matrix = defaultdict(Counter)\n",
    "\n",
    "for (doc_id, abstract) in Abstracts.items():\n",
    "    tokens = preprocess(tokenize(abstract))\n",
    "    tf_matrix[doc_id] = Counter(tokens)\n",
    "\n",
    "def tf(t,d):\n",
    "    return float(tf_matrix[d][t])\n",
    "\n",
    "def df(t):\n",
    "    return float(len(inverted_index[t]))\n",
    "\n",
    "num_documents = float(len(Abstracts))\n",
    "\n",
    "def idf(t):\n",
    "    return log10(num_documents/df(t))\n",
    "\n",
    "def tfidf(t,d):\n",
    "    return tf(t,d) * idf(t)"
   ]
  },
  {
   "cell_type": "markdown",
   "metadata": {},
   "source": [
    "## Co-authorship network"
   ]
  },
  {
   "cell_type": "markdown",
   "metadata": {},
   "source": [
    "We start by building a mapping from authors to the set of identifiers of papers they authored.  We'll be using Python's [sets](http://docs.python.org/3/library/stdtypes.html#set-types-set-frozenset) again for that purpose."
   ]
  },
  {
   "cell_type": "code",
   "execution_count": 6,
   "metadata": {},
   "outputs": [],
   "source": [
    "papers_of_author = defaultdict(set)\n",
    "\n",
    "for (id, p) in Summaries.items():\n",
    "    for a in p.authors:\n",
    "        papers_of_author[a].add(id)"
   ]
  },
  {
   "cell_type": "markdown",
   "metadata": {},
   "source": [
    "Let's try it out:"
   ]
  },
  {
   "cell_type": "code",
   "execution_count": 7,
   "metadata": {},
   "outputs": [
    {
     "data": {
      "text/plain": [
       "{23033186, 28953867, 29389072}"
      ]
     },
     "execution_count": 7,
     "metadata": {},
     "output_type": "execute_result"
    }
   ],
   "source": [
    "papers_of_author['Silva DA']"
   ]
  },
  {
   "cell_type": "code",
   "execution_count": 8,
   "metadata": {},
   "outputs": [
    {
     "data": {
      "text/html": [
       "<strong><a href=http://dx.doi.org/10.1111/febs.14394>Structures and disulfide cross-linking of de novo designed therapeutic mini-proteins.</a></strong><br>2018. Silva DA, Stewart L, Lam KH, Jin R, Baker D<br>[ID: 29389072]"
      ],
      "text/plain": [
       "<IPython.core.display.HTML object>"
      ]
     },
     "metadata": {},
     "output_type": "display_data"
    },
    {
     "data": {
      "text/html": [
       "<strong>[Adverse events following vaccination against pandemic influenza A (H1N1) 2009 in children].</strong><br>2012. Andrade GN, Pimenta AM, Silva DA, Madeira AM<br>[ID: 23033186]"
      ],
      "text/plain": [
       "<IPython.core.display.HTML object>"
      ]
     },
     "metadata": {},
     "output_type": "display_data"
    },
    {
     "data": {
      "text/html": [
       "<strong><a href=http://dx.doi.org/10.1038/nature23912>Massively parallel de novo protein design for targeted therapeutics.</a></strong><br>2017. Chevalier A, Silva DA, Rocklin GJ, Hicks DR, Vergara R, Murapa P, Bernard SM, Zhang L, Lam KH, Yao G, Bahl CD, Miyashita SI, Goreshnik I, Fuller JT, Koday MT, Jenkins CM, Colvin T, Carter L, Bohn A, Bryan CM, ...<br>[ID: 28953867]"
      ],
      "text/plain": [
       "<IPython.core.display.HTML object>"
      ]
     },
     "metadata": {},
     "output_type": "display_data"
    }
   ],
   "source": [
    "for id in papers_of_author['Silva DA']:\n",
    "    display_summary(id)"
   ]
  },
  {
   "cell_type": "markdown",
   "metadata": {},
   "source": [
    "We can now build a co-authorship network, that is a graph linking authors to the set of co-authors they have published with:"
   ]
  },
  {
   "cell_type": "code",
   "execution_count": 9,
   "metadata": {},
   "outputs": [],
   "source": [
    "coauthors = defaultdict(set)\n",
    "\n",
    "for p in Summaries.values():\n",
    "    for a in p.authors:\n",
    "        coauthors[a].update(p.authors)\n",
    "\n",
    "# The code above results in each author being listed as having co-authored with himself/herself.\n",
    "# We remove these self-references here:\n",
    "for (a, ca) in coauthors.items():\n",
    "    ca.remove(a)"
   ]
  },
  {
   "cell_type": "markdown",
   "metadata": {},
   "source": [
    "And let's try it out again:"
   ]
  },
  {
   "cell_type": "code",
   "execution_count": 10,
   "metadata": {},
   "outputs": [
    {
     "name": "stdout",
     "output_type": "stream",
     "text": [
      "Fuller DH, Colvin T, Bohn A, Pimenta AM, Fuller JT, Murapa P, Dong M, Chevalier A, Huang X, Wilson IA, Bahl CD, Jin R, Miyashita SI, Vergara R, Bryan CM, Hicks DR, Goreshnik I, Koday MT, Stewart L, Fernández-Velasco DA, Madeira AM, Lam KH, Andrade GN, Jenkins CM, Zhang L, Bernard SM, Carter L, Rocklin GJ, Yao G, Baker D\n"
     ]
    }
   ],
   "source": [
    "print(', '.join( coauthors['Silva DA'] ))"
   ]
  },
  {
   "cell_type": "markdown",
   "metadata": {},
   "source": [
    "Unlike a citation or link network, the edges of this co-authorship network are not directed: There is no direction (no arrow) in the link between author 'Silva DA' and 'Fernández-Velasco DA', for example. With our chosen implementation, each of these links in fact appears twice in our data, as we also get 'Silva DA' as co-author when we look for 'Fernández-Velasco DA':"
   ]
  },
  {
   "cell_type": "code",
   "execution_count": 11,
   "metadata": {},
   "outputs": [
    {
     "name": "stdout",
     "output_type": "stream",
     "text": [
      "Fuller DH, Colvin T, Bohn A, Fuller JT, Silva DA, Murapa P, Dong M, Chevalier A, Huang X, Wilson IA, Bahl CD, Jin R, Miyashita SI, Vergara R, Bryan CM, Hicks DR, Goreshnik I, Koday MT, Stewart L, Lam KH, Jenkins CM, Zhang L, Bernard SM, Carter L, Rocklin GJ, Yao G, Baker D\n"
     ]
    }
   ],
   "source": [
    "print(', '.join( coauthors['Fernández-Velasco DA'] ))"
   ]
  },
  {
   "cell_type": "markdown",
   "metadata": {},
   "source": [
    "With that in mind, we can calculate some basic statistics about our graph:"
   ]
  },
  {
   "cell_type": "code",
   "execution_count": 12,
   "metadata": {},
   "outputs": [
    {
     "name": "stdout",
     "output_type": "stream",
     "text": [
      "Number of nodes (authors):  164921\n",
      "Number of links (co-authorship relations):  1251044\n"
     ]
    }
   ],
   "source": [
    "print('Number of nodes (authors): ', len(coauthors))\n",
    "\n",
    "# We divide by two here to account for the fact that each edge is represented twice (see above):\n",
    "coauthor_rel_count = int(sum( len(c) for c in coauthors.values() ) / 2)\n",
    "print('Number of links (co-authorship relations): ', coauthor_rel_count)"
   ]
  },
  {
   "cell_type": "markdown",
   "metadata": {},
   "source": [
    "With this data at hand, we can plot the [degree distribution](https://en.wikipedia.org/wiki/Degree_distribution) by showing the number of collaborators a scientist has published with:"
   ]
  },
  {
   "cell_type": "code",
   "execution_count": 13,
   "metadata": {},
   "outputs": [
    {
     "data": {
      "image/png": "[encoded data removed]",
      "text/plain": [
       "<matplotlib.figure.Figure at 0x7f7d6b8d96d8>"
      ]
     },
     "metadata": {},
     "output_type": "display_data"
    }
   ],
   "source": [
    "plt.hist( x=[ len(ca) for ca in coauthors.values() ], bins=range(60) )\n",
    "plt.xlabel('number of co-authors')\n",
    "plt.ylabel('number of researchers')\n",
    "plt.xlim(0,51);"
   ]
  },
  {
   "cell_type": "markdown",
   "metadata": {},
   "source": [
    "Now that we have explored this network, let's move to the citation network."
   ]
  },
  {
   "cell_type": "markdown",
   "metadata": {},
   "source": [
    "## Citations network"
   ]
  },
  {
   "cell_type": "markdown",
   "metadata": {},
   "source": [
    "Next, we can look at the citation network. In contrast to the co-authorship network, the citation network is a _directed_ network, where edges can be drawn as arrows. We'll start by expanding the our data about citations into two mappings: \n",
    "\n",
    "* `papers_citing[id]`: papers citing a given paper\n",
    "* `cited_by[id]`: papers cited by a given paper (in other words: its list of references)\n",
    "\n",
    "`papers_citing` will give us the list of a node's incoming links, whereas `cited_by` will give us the list of its outgoing links."
   ]
  },
  {
   "cell_type": "code",
   "execution_count": 14,
   "metadata": {},
   "outputs": [],
   "source": [
    "papers_citing = Citations  # no changes needed, this is what we are storing already in the Citations dataset\n",
    "\n",
    "cited_by = defaultdict(list)\n",
    "\n",
    "for ref, papers_citing_ref in papers_citing.items():\n",
    "    for id in papers_citing_ref:\n",
    "        cited_by[ id ].append( ref )"
   ]
  },
  {
   "cell_type": "markdown",
   "metadata": {},
   "source": [
    "As we are dealing with a subset of the data (the papers mentioning \"influenza\"), `papers_citing` can contain references to papers outside of our subset. On the other hand, the way we created `cited_by`, it will only contain backward references from within our dataset, meaning that it is incomplete with respect to the whole dataset. Nethertheless, we can use this citation network on our subset of influenza-related papers to implement link analysis techniques.\n",
    "\n",
    "Let us now look at an exemplary paper, let's say the one with identifier 28953867. We can now use the `cited_by` mapping to retrieve its (incomplete) list of references:"
   ]
  },
  {
   "cell_type": "code",
   "execution_count": 15,
   "metadata": {},
   "outputs": [
    {
     "name": "stdout",
     "output_type": "stream",
     "text": [
      "6 references found for paper 28953867\n"
     ]
    },
    {
     "data": {
      "text/plain": [
       "{10429835: 'Pharmacokinetics of zanamivir after intravenous, oral, inhaled or intranasal administration to healthy volunteers.',\n",
       " 21566186: 'Computational design of proteins targeting the conserved stem region of influenza hemagglutinin.',\n",
       " 21798894: 'A neutralizing antibody selected from plasma cells that binds to group 1 and group 2 influenza A hemagglutinins.',\n",
       " 22186145: 'Antiviral resistance during the 2009 influenza A H1N1 pandemic: public health, laboratory, and clinical perspectives.',\n",
       " 22634563: 'Optimization of affinity, specificity and function of designed influenza inhibitors using deep sequencing.',\n",
       " 26845438: 'A Computationally Designed Hemagglutinin Stem-Binding Protein Provides In Vivo Protection from Influenza Independent of a Host Immune Response.'}"
      ]
     },
     "execution_count": 15,
     "metadata": {},
     "output_type": "execute_result"
    }
   ],
   "source": [
    "paper_id = 28953867\n",
    "refs = { id : Summaries[id].title for id in cited_by[paper_id] }\n",
    "print(len(refs), 'references found for paper', paper_id)\n",
    "refs"
   ]
  },
  {
   "cell_type": "markdown",
   "metadata": {},
   "source": [
    "If we lookup the same paper in `papers_citing`, we now see that some of the cited papers are themselves in our dataset, but others are not (shown below as `'??'`):"
   ]
  },
  {
   "cell_type": "code",
   "execution_count": 16,
   "metadata": {},
   "outputs": [
    {
     "data": {
      "text/plain": [
       "{29214605: '??',\n",
       " 29243094: '??',\n",
       " 29389072: 'Structures and disulfide cross-linking of de novo designed therapeutic mini-proteins.',\n",
       " 29396418: 'Structural insights into the design of novel anti-influenza therapies.',\n",
       " 29695210: '??',\n",
       " 30158186: '??'}"
      ]
     },
     "execution_count": 16,
     "metadata": {},
     "output_type": "execute_result"
    }
   ],
   "source": [
    "{ id : Summaries.get(id,['??'])[0]  for id in papers_citing[paper_id] }"
   ]
  },
  {
   "cell_type": "markdown",
   "metadata": {},
   "source": [
    "Paper 29214605, for example, is not in our dataset and we do not have any direct information about it, but its repeated occurrence in other papers' citation lists does allow us to reconstruct some of its references. Below is the list of papers in our dataset cited by that paper:"
   ]
  },
  {
   "cell_type": "code",
   "execution_count": 17,
   "metadata": {},
   "outputs": [
    {
     "name": "stdout",
     "output_type": "stream",
     "text": [
      "4 references identified for the paper with id 29214605\n"
     ]
    },
    {
     "data": {
      "text/plain": [
       "{21566186: 'Computational design of proteins targeting the conserved stem region of influenza hemagglutinin.',\n",
       " 22634563: 'Optimization of affinity, specificity and function of designed influenza inhibitors using deep sequencing.',\n",
       " 28604661: 'Computational design of trimeric influenza-neutralizing proteins targeting the hemagglutinin receptor binding site.',\n",
       " 28953867: 'Massively parallel de novo protein design for targeted therapeutics.'}"
      ]
     },
     "execution_count": 17,
     "metadata": {},
     "output_type": "execute_result"
    }
   ],
   "source": [
    "paper_id2 = 29214605\n",
    "refs2 = { id : Summaries[id].title for id in cited_by[paper_id2] }\n",
    "print(len(refs2), 'references identified for the paper with id', paper_id2)\n",
    "refs2"
   ]
  },
  {
   "cell_type": "markdown",
   "metadata": {},
   "source": [
    "Now that we have a better understanding about the data we're dealing with, let us obtain again some basic statistics about our graph."
   ]
  },
  {
   "cell_type": "code",
   "execution_count": 18,
   "metadata": {},
   "outputs": [
    {
     "name": "stdout",
     "output_type": "stream",
     "text": [
      "Number of papers in our subset: 87693 (100.00 %)\n",
      "Number of papers cited at least once: 58136 (66.29 %)\n",
      "Number of isolated nodes:  26024 (29.68 %)\n"
     ]
    }
   ],
   "source": [
    "n = len(Ids)\n",
    "print('Number of papers in our subset: {:d} ({:.2f} %)'.format(n, 100.0) )\n",
    "\n",
    "with_citation = [ id for id in Ids if papers_citing[id] != [] ]\n",
    "with_citation_rel = 100. * len(with_citation) / n\n",
    "print('Number of papers cited at least once: {:d} ({:.2f} %)'.format(len(with_citation), with_citation_rel) )\n",
    "\n",
    "isolated = set( id for id in Ids if papers_citing[id] == [] and id not in cited_by )\n",
    "isolated_rel = 100. * len(isolated) / n\n",
    "print('Number of isolated nodes:  {:d} ({:.2f} %)'.format(len(isolated), isolated_rel) )"
   ]
  },
  {
   "cell_type": "code",
   "execution_count": 19,
   "metadata": {},
   "outputs": [
    {
     "name": "stdout",
     "output_type": "stream",
     "text": [
      "Overall number of nodes: 244445 (100.00 %)\n",
      "Number of non-isolated nodes: 218421 (89.35 %)\n",
      "Number of nodes outside our subset: 156752 (64.13 %)\n"
     ]
    }
   ],
   "source": [
    "id_set = set( Ids )\n",
    "citing_set = set( cited_by.keys() )\n",
    "\n",
    "outsiders = citing_set - id_set   # set difference\n",
    "nodes = citing_set | id_set   # set union\n",
    "non_isolated = nodes - isolated   # set difference\n",
    "\n",
    "print('Overall number of nodes: {:d} ({:.2f} %)'.format(len(nodes), 100.0) )\n",
    "\n",
    "non_isolated_rel = 100. * len(non_isolated) / len(nodes)\n",
    "print('Number of non-isolated nodes: {:d} ({:.2f} %)'.format(len(non_isolated), non_isolated_rel) )\n",
    "\n",
    "outsiders_rel = 100. * len(outsiders) / len(nodes)\n",
    "print('Number of nodes outside our subset: {:d} ({:.2f} %)'.format( len(outsiders), outsiders_rel ) )"
   ]
  },
  {
   "cell_type": "code",
   "execution_count": 20,
   "metadata": {},
   "outputs": [
    {
     "name": "stdout",
     "output_type": "stream",
     "text": [
      "Overall number of links (citations): 775359 (100.00 %)\n",
      "Citations outside the subset: 299757 (38.66 %)\n"
     ]
    }
   ],
   "source": [
    "all_citations = [ c for citing in papers_citing.values() for c in citing ]\n",
    "outsider_citations = [ c for citing in papers_citing.values() for c in citing if c in outsiders ]\n",
    "\n",
    "print('Overall number of links (citations): {:d} ({:.2f} %)'.format(len(all_citations), 100.0) )\n",
    "\n",
    "outsider_citations_rel = 100. * len(outsider_citations) / len(all_citations)\n",
    "print('Citations outside the subset: {:d} ({:.2f} %)'.format(len(outsider_citations), outsider_citations_rel) )"
   ]
  },
  {
   "cell_type": "markdown",
   "metadata": {},
   "source": [
    "Let us now find our which 10 papers are the most cited in our dataset."
   ]
  },
  {
   "cell_type": "code",
   "execution_count": 21,
   "metadata": {},
   "outputs": [
    {
     "data": {
      "text/html": [
       "<strong><a href=http://dx.doi.org/10.1056/NEJMoa020047>Peginterferon alfa-2a plus ribavirin for chronic hepatitis C virus infection.</a></strong><br>2002. Fried MW, Shiffman ML, Reddy KR, Smith C, Marinos G, Gonçales FL Jr, Häussinger D, Diago M, Carosi G, Dhumeaux D, Craxi A, Lin A, Hoffman J, Yu J<br>[ID: 12324553]<br>Citation count: 1201"
      ],
      "text/plain": [
       "<IPython.core.display.HTML object>"
      ]
     },
     "metadata": {},
     "output_type": "display_data"
    },
    {
     "data": {
      "text/html": [
       "<strong>Evolution and ecology of influenza A viruses.</strong><br>1992. Webster RG, Bean WJ, Gorman OT, Chambers TM, Kawaoka Y<br>[ID: 1579108]<br>Citation count: 1138"
      ],
      "text/plain": [
       "<IPython.core.display.HTML object>"
      ]
     },
     "metadata": {},
     "output_type": "display_data"
    },
    {
     "data": {
      "text/html": [
       "<strong><a href=http://dx.doi.org/10.1038/nature04734>Differential roles of MDA5 and RIG-I helicases in the recognition of RNA viruses.</a></strong><br>2006. Kato H, Takeuchi O, Sato S, Yoneyama M, Yamamoto M, Matsui K, Uematsu S, Jung A, Kawai T, Ishii KJ, Yamaguchi O, Otsu K, Tsujimura T, Koh CS, Reis e Sousa C, Matsuura Y, Fujita T, Akira S<br>[ID: 16625202]<br>Citation count: 1048"
      ],
      "text/plain": [
       "<IPython.core.display.HTML object>"
      ]
     },
     "metadata": {},
     "output_type": "display_data"
    },
    {
     "data": {
      "text/html": [
       "<strong><a href=http://dx.doi.org/10.1056/NEJMoa0903810>Emergence of a novel swine-origin influenza A (H1N1) virus in humans.</a></strong><br>2009. Novel Swine-Origin Influenza A (H1N1) Virus Investigation Team., Dawood FS, Jain S, Finelli L, Shaw MW, Lindstrom S, Garten RJ, Gubareva LV, Xu X, Bridges CB, Uyeki TM<br>[ID: 19423869]<br>Citation count: 954"
      ],
      "text/plain": [
       "<IPython.core.display.HTML object>"
      ]
     },
     "metadata": {},
     "output_type": "display_data"
    },
    {
     "data": {
      "text/html": [
       "<strong>Mortality associated with influenza and respiratory syncytial virus in the United States.</strong><br>2003. Thompson WW, Shay DK, Weintraub E, Brammer L, Cox N, Anderson LJ, Fukuda K<br>[ID: 12517228]<br>Citation count: 939"
      ],
      "text/plain": [
       "<IPython.core.display.HTML object>"
      ]
     },
     "metadata": {},
     "output_type": "display_data"
    },
    {
     "data": {
      "text/html": [
       "<strong>Phenotypic analysis of antigen-specific T lymphocytes.</strong><br>1996. Altman JD, Moss PA, Goulder PJ, Barouch DH, McHeyzer-Williams MG, Bell JI, McMichael AJ, Davis MM<br>[ID: 8810254]<br>Citation count: 816"
      ],
      "text/plain": [
       "<IPython.core.display.HTML object>"
      ]
     },
     "metadata": {},
     "output_type": "display_data"
    },
    {
     "data": {
      "text/html": [
       "<strong><a href=http://dx.doi.org/10.1126/science.1176225>Antigenic and genetic characteristics of swine-origin 2009 A(H1N1) influenza viruses circulating in humans.</a></strong><br>2009. Garten RJ, Davis CT, Russell CA, Shu B, Lindstrom S, Balish A, Sessions WM, Xu X, Skepner E, Deyde V, Okomo-Adhiambo M, Gubareva L, Barnes J, Smith CB, Emery SL, Hillman MJ, Rivailler P, Smagala J, de Graaf M, Burke DF, ...<br>[ID: 19465683]<br>Citation count: 802"
      ],
      "text/plain": [
       "<IPython.core.display.HTML object>"
      ]
     },
     "metadata": {},
     "output_type": "display_data"
    },
    {
     "data": {
      "text/html": [
       "<strong><a href=http://dx.doi.org/10.1146/annurev.biochem.69.1.531>Receptor binding and membrane fusion in virus entry: the influenza hemagglutinin.</a></strong><br>2000. Skehel JJ, Wiley DC<br>[ID: 10966468]<br>Citation count: 802"
      ],
      "text/plain": [
       "<IPython.core.display.HTML object>"
      ]
     },
     "metadata": {},
     "output_type": "display_data"
    },
    {
     "data": {
      "text/html": [
       "<strong>Prediction of protein antigenic determinants from amino acid sequences.</strong><br>1981. Hopp TP, Woods KR<br>[ID: 6167991]<br>Citation count: 799"
      ],
      "text/plain": [
       "<IPython.core.display.HTML object>"
      ]
     },
     "metadata": {},
     "output_type": "display_data"
    },
    {
     "data": {
      "text/html": [
       "<strong><a href=http://dx.doi.org/10.1126/science.1132998>RIG-I-mediated antiviral responses to single-stranded RNA bearing 5'-phosphates.</a></strong><br>2006. Pichlmair A, Schulz O, Tan CP, Näslund TI, Liljeström P, Weber F, Reis e Sousa C<br>[ID: 17038589]<br>Citation count: 720"
      ],
      "text/plain": [
       "<IPython.core.display.HTML object>"
      ]
     },
     "metadata": {},
     "output_type": "display_data"
    }
   ],
   "source": [
    "citation_count_per_paper = [ (id, len(citations)) for (id,citations) in papers_citing.items() ]\n",
    "sorted_by_citation_count = sorted(citation_count_per_paper, key=lambda i:i[1], reverse=True)\n",
    "\n",
    "for (id, c) in sorted_by_citation_count[:10]:\n",
    "    display_summary(id, extra_text = 'Citation count: ' + str(c))"
   ]
  },
  {
   "cell_type": "markdown",
   "metadata": {},
   "source": [
    "Before we can start calculating some interesting network metrics, we will first have a closer look at the Python package that we are going to use for that."
   ]
  },
  {
   "cell_type": "markdown",
   "metadata": {},
   "source": [
    "## Link Analysis for Search Engines"
   ]
  },
  {
   "cell_type": "markdown",
   "metadata": {},
   "source": [
    "In order to use the citation network, we need to be able to perform some complex graph algorithms on it. To make our lives easier, we will use [NetworkX](https://pypi.python.org/pypi/networkx), a Python package for dealing with complex networks:"
   ]
  },
  {
   "cell_type": "code",
   "execution_count": 22,
   "metadata": {},
   "outputs": [
    {
     "name": "stdout",
     "output_type": "stream",
     "text": [
      "/bin/sh: 1: pip: not found\r\n"
     ]
    }
   ],
   "source": [
    "! pip install --user networkx"
   ]
  },
  {
   "cell_type": "code",
   "execution_count": 23,
   "metadata": {},
   "outputs": [],
   "source": [
    "import networkx as nx\n",
    "\n",
    "G = nx.DiGraph(cited_by)"
   ]
  },
  {
   "cell_type": "markdown",
   "metadata": {},
   "source": [
    "We now have a NetworkX Directed Graph stored in `G`, where a node represents a paper, and an edge represents a citation. This means we can now apply the [algorithms](http://networkx.github.io/documentation/networkx-1.10/reference/algorithms.html) and [functions](http://networkx.github.io/documentation/networkx-1.10/reference/functions.html) of NetworkX to our graph:"
   ]
  },
  {
   "cell_type": "code",
   "execution_count": 24,
   "metadata": {},
   "outputs": [
    {
     "name": "stdout",
     "output_type": "stream",
     "text": [
      "Name: \n",
      "Type: DiGraph\n",
      "Number of nodes: 218421\n",
      "Number of edges: 775359\n",
      "Average in degree:   3.5498\n",
      "Average out degree:   3.5498\n",
      "Directed graph: True\n",
      "Density of graph: 1.6252345210716217e-05\n"
     ]
    }
   ],
   "source": [
    "print(nx.info(G))\n",
    "print('Directed graph:', nx.is_directed(G))\n",
    "print('Density of graph:', nx.density(G))"
   ]
  },
  {
   "cell_type": "markdown",
   "metadata": {},
   "source": [
    "As this graph was generated from citations only, we need to add all isolated nodes (nodes that are not cited and do not cite other papers) as well:"
   ]
  },
  {
   "cell_type": "code",
   "execution_count": 25,
   "metadata": {},
   "outputs": [],
   "source": [
    "G.add_nodes_from(isolated)"
   ]
  },
  {
   "cell_type": "markdown",
   "metadata": {},
   "source": [
    "And now we get slightly different values:"
   ]
  },
  {
   "cell_type": "code",
   "execution_count": 26,
   "metadata": {},
   "outputs": [
    {
     "name": "stdout",
     "output_type": "stream",
     "text": [
      "Name: \n",
      "Type: DiGraph\n",
      "Number of nodes: 244445\n",
      "Number of edges: 775359\n",
      "Average in degree:   3.1719\n",
      "Average out degree:   3.1719\n",
      "Directed graph: True\n",
      "Density of graph: 1.2976043482017326e-05\n"
     ]
    }
   ],
   "source": [
    "print(nx.info(G))\n",
    "print('Directed graph:', nx.is_directed(G))\n",
    "print('Density of graph:', nx.density(G))"
   ]
  },
  {
   "cell_type": "markdown",
   "metadata": {},
   "source": [
    "Now we are ready to use this package for our tasks."
   ]
  },
  {
   "cell_type": "markdown",
   "metadata": {},
   "source": [
    "----------"
   ]
  },
  {
   "cell_type": "markdown",
   "metadata": {},
   "source": [
    "# Tasks"
   ]
  },
  {
   "cell_type": "markdown",
   "metadata": {},
   "source": [
    "**Your name:** David Rocker"
   ]
  },
  {
   "cell_type": "markdown",
   "metadata": {},
   "source": [
    "### Task 1\n",
    "\n",
    "Plot the in-degree distribution (that is, the distribution of the number of incoming links; see [here](https://en.wikipedia.org/wiki/Degree_distribution) and [here](http://mathinsight.org/degree_distribution) for more detailed explanations) for the citation network. What can you tell about the shape of this distribution, and what does this tell us about the network?"
   ]
  },
  {
   "cell_type": "code",
   "execution_count": 33,
   "metadata": {},
   "outputs": [
    {
     "data": {
      "text/plain": [
       "Text(0,0.5,'Number of papers with this many citations')"
      ]
     },
     "execution_count": 33,
     "metadata": {},
     "output_type": "execute_result"
    },
    {
     "data": {
      "image/png": "[encoded data removed]",
      "text/plain": [
       "<matplotlib.figure.Figure at 0x7f7d1d99aa20>"
      ]
     },
     "metadata": {},
     "output_type": "display_data"
    }
   ],
   "source": [
    "# Add your code here\n",
    "import collections\n",
    "indegree = G.in_degree()\n",
    "indegreeList = [ degree for node,degree in indegree ]\n",
    "sortedList = collections.Counter(sorted(indegreeList, reverse=True))\n",
    "plt.plot(sortedList.keys(), sortedList.values(), '_')\n",
    "plt.xlabel(\"Number of papers citing paper x\")\n",
    "plt.ylabel(\"Number of papers with this many citations\")\n"
   ]
  },
  {
   "cell_type": "markdown",
   "metadata": {},
   "source": [
    "**Answer:** This distribution is about what I would expect. There are more nodes with fewer incoming links and it steadily decreases in number of nodes as the number of links rises. This tells us that the network is full of papers that are not very relevant, hence the high number of papers with 0 citations. "
   ]
  },
  {
   "cell_type": "markdown",
   "metadata": {},
   "source": [
    "### Task 2\n",
    "\n",
    "Using the [Link Analysis](https://networkx.github.io/documentation/networkx-1.10/reference/algorithms.link_analysis.html) algorithms provided by NetworkX, calculate the PageRank score for all nodes in the citation network, and store the result in a variable called `pageranks`. Print out the PageRank values for the two example papers given below.\n",
    "You can also use the `pagerank_scipy` implementation, which tends to be considerably faster than its regular `pagerank` counterpart, for which you have to install the [SciPy package](http://scipy.org/):"
   ]
  },
  {
   "cell_type": "code",
   "execution_count": 28,
   "metadata": {},
   "outputs": [
    {
     "name": "stdout",
     "output_type": "stream",
     "text": [
      "/bin/sh: 1: pip: not found\r\n"
     ]
    }
   ],
   "source": [
    "! pip install --user scipy"
   ]
  },
  {
   "cell_type": "markdown",
   "metadata": {},
   "source": [
    "To print and compare PageRank values, you might want to use commands like `print('{:.6f}'.format(var))` to use regular decimal notation with a fixed number of decimal places."
   ]
  },
  {
   "cell_type": "code",
   "execution_count": 29,
   "metadata": {},
   "outputs": [
    {
     "name": "stdout",
     "output_type": "stream",
     "text": [
      "0.000064\n",
      "0.000002\n"
     ]
    }
   ],
   "source": [
    "# Add your code here:\n",
    "pageranks = nx.pagerank_scipy(G)\n",
    "# print PageRank for paper 7299346\n",
    "print('{:.6f}'.format(pageranks[7299346]))\n",
    "# print PageRank for paper 27122587\n",
    "print('{:.6f}'.format(pageranks[27122587]))"
   ]
  },
  {
   "cell_type": "markdown",
   "metadata": {},
   "source": [
    "### Task 3\n",
    "\n",
    "Why do the two papers above have such different PageRank values? Write code below to investigate and show the cause of this, and then explain the cause of this difference based on the results generated by your code."
   ]
  },
  {
   "cell_type": "code",
   "execution_count": 30,
   "metadata": {},
   "outputs": [
    {
     "name": "stdout",
     "output_type": "stream",
     "text": [
      "[6162101, 6258809, 6249026, 6154380, 503226, 90425, 86955, 672956, 4131955]\n",
      "\n",
      "\n",
      "[]\n",
      "[]\n",
      "[]\n",
      "[]\n",
      "[]\n",
      "[]\n",
      "[]\n",
      "[]\n",
      "[]\n",
      "\n",
      "\n",
      "[26590325, 25553516, 25552727, 25008914, 24965472, 24056771, 23327522, 23236273, 23133386, 22895385, 22745253, 22345442, 22286307, 22032844, 20729804, 20534532, 20519456, 20219914, 20181699, 19796721, 19453397, 18768984, 18701586, 17692438, 17544181, 17458769, 17301299, 16154667, 15241415, 11779399, 10954572, 9551987, 9326604, 1374685, 1914615, 2974219, 3336068, 7407920]\n",
      "[26401044, 26220478, 26213563, 26068081, 26044496, 25957674, 25855737, 25807527, 25553516, 25428869, 25183443, 25121712, 25008914, 25007847, 24965472, 24842154, 24130481, 24093683, 24089552, 24022374, 24013000, 23978130, 23933115, 23928902, 23720727, 23686828, 23449800, 23327522, 23307936, 22712782, 22491456, 22469504, 22371588, 22114331, 21968297, 21396410, 20980523, 20950645, 20926635, 20739532, 20729804, 20713260, 20534532, 20179772, 19939917, 19745214, 19620324, 18796704, 18504518, 18370040, 18328578, 18325832, 17692438, 17683196, 17544181, 17442719, 16987984, 16678464, 16494716, 16087250, 15542634, 15482128, 15298174, 15183054, 15163487, 15088777, 12691538, 12517228, 10807575, 10720541, 10516084, 10430945, 10223301, 10074505, 9763129, 9427762, 8824869, 4065098, 7059061, 4340949]\n",
      "[25183443, 25055075, 25008914, 24965472, 24603687, 24198417, 24089552, 24022374, 23978130, 23965808, 23933115, 23720727, 23698304, 23686828, 23577629, 23449800, 23236273, 22723413, 22491775, 22491456, 22114331, 21968297, 21880840, 21483677, 21436031, 20980523, 20975689, 20926573, 20826692, 20729804, 20534532, 20305659, 20179772, 19939917, 19620324, 19516283, 19073731, 18796704, 18768976, 18571465, 17714820, 17544181, 17442719, 16494710, 15956587, 15183054, 12149435, 11779399, 11312364, 10954572, 10662626, 10516084, 10430945, 9878611, 9427762, 8476510, 7407920, 4340949]\n",
      "[25121712, 24965472, 24403585, 23978327, 23946196, 23903831, 23720727, 23690603, 22449422, 22410646, 21861544, 21250400, 20729804, 20458256, 20409210, 20034647, 18662737, 18611422, 17426143, 16968127, 16306596, 14694130, 10655394, 1484872, 2974219, 3336068, 5773321, 5309489, 6040602]\n",
      "[24130481, 24043788, 23978130, 23720727, 23449800, 23221636, 22770925, 22371588, 22075989, 21917963, 21543486, 20980523, 20975689, 20926635, 20729804, 20542248, 20181699, 19955561, 19939917, 19465683, 19297607, 19158245, 18768976, 18768874, 18504518, 18455827, 18094182, 17959657, 17714820, 17634232, 17596317, 17332012, 17269724, 17079289, 17050598, 16474138, 16084555, 16054188, 16051827, 15731270, 15542634, 12970442, 12915528, 12829842, 12620793, 12574509, 12172012, 11919291, 11811679, 11779399, 10954572, 10807575, 10801978, 10662626, 10600605, 10562491, 10516084, 10438823, 9427762, 9281500, 8189550, 2052599, 2335820, 2309452, 3257585, 3472232, 2426361, 6619801, 6190093, 6830443, 7149996, 5115669, 5309489]\n",
      "[23720727, 23690603, 23333274, 23327522, 23236273, 22895385, 22585751, 22470468, 22469504, 22174864, 22032844, 21968297, 20980523, 20926573, 20729804, 20543832, 20534471, 20519456, 20431524, 20307595, 20010599, 19939917, 19796721, 19726611, 19574347, 19465683, 19453397, 19073731, 18796704, 18768976, 18083548, 17933442, 17715226, 17692438, 17544181, 17488845, 17458769, 17442719, 17079289, 16943300, 16186237, 15956587, 15919908, 15542655, 15367555, 15241415, 14645582, 12502864, 12149435, 11779399, 11312364, 11118210, 10933707, 10725408, 9878611, 9427762, 7407920, 5309489]\n",
      "[]\n",
      "[]\n",
      "[23144613, 22745253, 22549831, 22537992, 22393008, 22345442, 22345439, 22190016, 21693560, 21376763, 21358279, 21081124, 20842206, 20542248, 20534471, 20140252, 19494001, 19420157, 19264657, 18796704, 18785841, 18005742, 17622633, 17073083, 16933365, 16806605, 16608852, 16476991, 16201016, 15522099, 15331747, 12970177, 12773387, 11726970, 11451485, 11312364, 11289803, 11231581, 11222100, 11119609, 11118210, 10644350, 10438836, 10393191, 9847368, 9755184, 9427762, 8627688, 15157497, 7503702, 8113739, 8356796, 8336121, 8445709, 1913813, 2053293, 1825776, 2143025, 3973976, 6328745, 6184879, 7407920, 291907, 291039]\n",
      "[22745253, 21918006, 21693560, 21307188, 20965983, 20850012, 20573832, 20519456, 20451491, 20219914, 20079871, 19840661, 19494001, 19203576, 19008398, 18815307, 18768984, 18701586, 18598723, 18533261, 18235503, 17622633, 17132145, 16945126, 16873274, 16699003, 16472860, 15831957, 15731254, 15163504, 11799156, 11773413, 11726970, 11356973, 11119609, 10879916, 9857991, 9499106, 9448697, 8895585, 7541537, 1501289, 1374685, 2053285, 1989386, 2209554, 2553741, 2915973, 2455818, 4065098, 7097251, 7257188, 6945577, 6169001, 7407920, 7433101]\n",
      "[]\n",
      "[21715659, 21477139, 21307188, 21295153, 20542248, 20126449, 19955561, 19875144, 19524996, 19494001, 19465683, 19194459, 19194458, 17622633, 17344288, 17332012, 17251572, 17006449, 16973862, 16873236, 16210530, 15522099, 11726970, 7884889, 2741339]\n",
      "[21081124, 19207730, 17622633, 17081640, 15919950, 15892972, 15613353, 15218173, 15033573, 12970177, 11289803, 11222100, 11119609, 11118210, 10954572, 10662624, 10644350, 10393906, 10196339, 9780049, 9427762, 9448697, 9281510, 9225034, 9140195, 9060654, 9164466, 9354270, 8970960, 8627748, 7853543, 8356796, 1527844, 1913813, 1990058, 1985199, 2433462, 6351727, 371528]\n",
      "[]\n",
      "[]\n",
      "[15956587, 11779399, 10516084, 10430945]\n",
      "[19643736, 19436701, 19403682, 19383794, 19195676, 19145246, 18685555, 18670648, 18618065, 18353940, 18235503, 18049471, 17442719, 17277152, 17163384, 17139286, 16840327, 16565719, 16556800, 16554799, 16282492, 15956587, 15518807, 15183054, 14990727, 14963236, 12480361, 12368467, 11226311, 11161442, 10846094, 10702632, 9878611, 8082884]\n",
      "[]\n",
      "[20028125, 19905033, 19590009, 19553312, 19525932, 19514132, 19008398, 18754675, 18701586, 18235504, 18235503, 18073201, 17475660, 17216051, 16873274, 16699003, 16437116, 16407184, 16249012, 15731254, 15613353, 15221235, 15033573, 14573870, 14561897, 12604801, 10753711, 10775599, 10430945, 9576955, 9448697, 9375016, 9326604, 8785289, 7571410, 7529332, 1501289, 1374685, 2053285, 2045796, 2219738, 2915973, 2455818, 3840537, 3882238, 6766713, 14081358, 13693269, 13693270, 13755924, 13575751, 13521957, 13345962, 18124993]\n",
      "[19828614, 19706712, 19672242, 19574348, 19574347, 19516283, 19064696, 18768976, 18250467, 18182088, 18005742, 17922571, 17827068, 17686867, 16873254, 16201016, 15589841, 15577936, 12163258, 11932409, 11726970, 10854218, 10516084, 10430945, 3281223]\n",
      "[]\n",
      "[18694338, 18228185, 17426277, 19453478, 17054068, 16586358, 16571878, 16310896, 12002171, 11166898, 9203655, 8843225, 8877126, 8648221, 7769297, 7814484, 8091854, 3017016, 6191738]\n",
      "[16474136, 16051827, 15919950, 15831957, 15613353, 15567494, 15557242, 15163719, 15033573, 12768027, 12604801, 12072510, 11726970, 11689061, 11356973, 11222100, 11090151, 10801978, 10573148, 10516084, 9857991, 9448697, 9164466, 9018057, 8895585, 8849780, 7541537, 8039508, 8317146, 1469351, 1602547, 1375129, 1531330, 1727600, 2052614, 2585601, 2479906, 2455818, 3840537, 6184879, 6945577, 6927841]\n",
      "[17989175, 17475660, 16873274, 16699003, 16474138, 16437116, 16249012, 16227287, 16139601, 15967815, 15731254, 15613353, 15452221, 15221235, 15033573, 14561897, 12852861, 12604801, 12490406, 11799156, 11773413, 10753711, 10954572, 10864667, 10775599, 10722698, 10559278, 10516084, 10430945, 9890962, 9875317, 9499106, 9448697, 9375016, 9312009, 9135140, 8794300, 8841994, 8551626, 7571410, 7535862, 7529332, 8411379, 1377366, 1375129, 1374685, 2053285, 1989386, 2915973, 2455818, 3840537, 3882238, 6945577]\n",
      "[16874296, 15525714, 15525713, 12145718, 11803070, 11015795, 9738606, 7666874, 13590412, 13475081, 18902305]\n",
      "[]\n",
      "[]\n",
      "[]\n",
      "[]\n",
      "[]\n",
      "[11226311, 10756011, 10754318, 11090154, 10933707, 10801978, 10725408, 10720541, 10662626, 10657821, 10580204, 10578119, 10516084, 10430945, 9878611, 9765393, 8876139, 8648766, 8009859, 1321855, 1727600, 2214032]\n",
      "[10864667, 10438836, 9312009, 9060654, 9135140, 9164466, 8918911, 8794300, 8709291, 8659126, 8609159, 8627657, 8551626, 7483828, 7483820, 7815489, 7983740, 7966605, 7957116, 7941316, 8083965, 8313876, 8392617, 1527844, 1727609, 2522097, 3783822, 7288926, 759560, 283416, 4844421]\n",
      "[]\n",
      "[9201226, 8841994, 8785289, 8534806, 7679490, 1397324, 1382343, 1375129, 1374685, 2053285]\n",
      "[]\n",
      "[]\n",
      "[]\n",
      "[2441080, 3711273, 2420313, 4078559, 3905983, 4056002, 4008988, 3973966, 6501928, 6726007, 6726006, 6726003, 7142749, 7045254, 7072155, 7257183, 7251144, 7240388, 7216417, 6997969, 473592, 399362, 597038, 4802647]\n",
      "[]\n"
     ]
    }
   ],
   "source": [
    "# Add your code here\n",
    "print(cited_by[7299346])\n",
    "print(\"\\n\")\n",
    "for n in cited_by[7299346]:\n",
    "    print(cited_by[n]);\n",
    "    \n",
    "print(\"\\n\")\n",
    "print(cited_by[27122587])\n",
    "for n in cited_by[27122587]:\n",
    "    print(cited_by[n]);\n"
   ]
  },
  {
   "cell_type": "markdown",
   "metadata": {
    "collapsed": true
   },
   "source": [
    "**Answer:** The reason that the first paper (7299346) has a higher PageRank score even though it has less papers citing it, is that most of the papers citing paper#27122587 also have low scores. Since PageRank ranks not only on the number of papers citing it but also on the quality of those papers, it brings the score down to where it is at. "
   ]
  },
  {
   "cell_type": "markdown",
   "metadata": {},
   "source": [
    "### Task 4\n",
    "\n",
    "Copy the scoring function `score_ntn` from Task 4 of assignment 3. Rename it to `score_ntn_pagerank` and change its code to incorporate a paper's PageRank score in it's final score, in addition to tf-idf. In other words, the new function should accept a `list` of query tokens and a document ID, and should return a single `float` value that is calculated based on both scores (PageRank and tf-idf). Note that a `tf-idf` function is already provided above. Explain your decision on how to combine the two scores."
   ]
  },
  {
   "cell_type": "code",
   "execution_count": 31,
   "metadata": {},
   "outputs": [],
   "source": [
    "# Add your code here\n",
    "def score_ntn_pagerank(query_words, doc_id):\n",
    "    retVal = 0\n",
    "    for term in query_words:\n",
    "        retVal += tfidf(term, doc_id)\n",
    "    retVal = retVal ** pageranks[doc_id]\n",
    "    return retVal"
   ]
  },
  {
   "cell_type": "markdown",
   "metadata": {
    "collapsed": true
   },
   "source": [
    "**Answer:** I am raising the bigger number, the tfidf score, to the power of the smaller one, pagerank, inorder to make the pagerank score more relevant. As you will see in task 5 I was unable to find a query that puts paper 7299346 as the top result after 3 hours of attempting to change the scoring formula. I'm sorry, can you please comment what formula would have worked, thank you."
   ]
  },
  {
   "cell_type": "markdown",
   "metadata": {},
   "source": [
    "### Task 5\n",
    "\n",
    "Copy the query function `query_ntn` from Task 4 of assignment 3. Rename it to `query_ntn_pagerank` and change the code to use our new scoring function `score_ntn_pagerank` from task 4 above. Demonstrate these functions with an example query that returns paper 7299346 as the top result."
   ]
  },
  {
   "cell_type": "code",
   "execution_count": 32,
   "metadata": {},
   "outputs": [
    {
     "data": {
      "text/html": [
       "<strong>Idiotypy of clonal responses to influenza virus hemagglutinin.</strong><br>1981. Liu YN, Bona CA, Schulman JL<br>[ID: 7299346]"
      ],
      "text/plain": [
       "<IPython.core.display.HTML object>"
      ]
     },
     "metadata": {},
     "output_type": "display_data"
    },
    {
     "name": "stdout",
     "output_type": "stream",
     "text": [
      "1.000152449792159\n"
     ]
    },
    {
     "data": {
      "text/html": [
       "<strong>Codon-substitution models for heterogeneous selection pressure at amino acid sites.</strong><br>2000. Yang Z, Nielsen R, Goldman N, Pedersen AM<br>[ID: 10790415]"
      ],
      "text/plain": [
       "<IPython.core.display.HTML object>"
      ]
     },
     "metadata": {},
     "output_type": "display_data"
    },
    {
     "name": "stdout",
     "output_type": "stream",
     "text": [
      "Score: \n",
      "1.0014828187944451\n"
     ]
    },
    {
     "data": {
      "text/html": [
       "<strong><a href=http://dx.doi.org/10.1038/nature04239>Large-scale sequencing of human influenza reveals the dynamic nature of viral genome evolution.</a></strong><br>2005. Ghedin E, Sengamalay NA, Shumway M, Zaborsky J, Feldblyum T, Subbu V, Spiro DJ, Sitz J, Koo H, Bolotov P, Dernovoy D, Tatusova T, Bao Y, St George K, Taylor J, Lipman DJ, Fraser CM, Taubenberger JK, Salzberg SL<br>[ID: 16208317]"
      ],
      "text/plain": [
       "<IPython.core.display.HTML object>"
      ]
     },
     "metadata": {},
     "output_type": "display_data"
    },
    {
     "name": "stdout",
     "output_type": "stream",
     "text": [
      "Score: \n",
      "1.0013764214333714\n"
     ]
    },
    {
     "data": {
      "text/html": [
       "<strong>Long term trends in the evolution of H(3) HA1 human influenza type A.</strong><br>1997. Fitch WM, Bush RM, Bender CA, Cox NJ<br>[ID: 9223253]"
      ],
      "text/plain": [
       "<IPython.core.display.HTML object>"
      ]
     },
     "metadata": {},
     "output_type": "display_data"
    },
    {
     "name": "stdout",
     "output_type": "stream",
     "text": [
      "Score: \n",
      "1.0013615469880726\n"
     ]
    },
    {
     "data": {
      "text/html": [
       "<strong><a href=http://dx.doi.org/10.1056/NEJMoa020047>Peginterferon alfa-2a plus ribavirin for chronic hepatitis C virus infection.</a></strong><br>2002. Fried MW, Shiffman ML, Reddy KR, Smith C, Marinos G, Gonçales FL Jr, Häussinger D, Diago M, Carosi G, Dhumeaux D, Craxi A, Lin A, Hoffman J, Yu J<br>[ID: 12324553]"
      ],
      "text/plain": [
       "<IPython.core.display.HTML object>"
      ]
     },
     "metadata": {},
     "output_type": "display_data"
    },
    {
     "name": "stdout",
     "output_type": "stream",
     "text": [
      "Score: \n",
      "1.0013045127001723\n"
     ]
    },
    {
     "data": {
      "text/html": [
       "<strong>The structure of an antigenic determinant in a protein.</strong><br>1984. Wilson IA, Niman HL, Houghten RA, Cherenson AR, Connolly ML, Lerner RA<br>[ID: 6204768]"
      ],
      "text/plain": [
       "<IPython.core.display.HTML object>"
      ]
     },
     "metadata": {},
     "output_type": "display_data"
    },
    {
     "name": "stdout",
     "output_type": "stream",
     "text": [
      "Score: \n",
      "1.0010183260747394\n"
     ]
    },
    {
     "data": {
      "text/html": [
       "<strong>Reduced temperature prevents transfer of a membrane glycoprotein to the cell surface but does not prevent terminal glycosylation.</strong><br>1983. Matlin KS, Simons K<br>[ID: 6883510]"
      ],
      "text/plain": [
       "<IPython.core.display.HTML object>"
      ]
     },
     "metadata": {},
     "output_type": "display_data"
    },
    {
     "name": "stdout",
     "output_type": "stream",
     "text": [
      "Score: \n",
      "1.000867555665328\n"
     ]
    },
    {
     "data": {
      "text/html": [
       "<strong>A model for the selective loss of major histocompatibility complex self-restricted T cell immune responses during the development of acquired immune deficiency syndrome (AIDS).</strong><br>1986. Shearer GM, Bernstein DC, Tung KS, Via CS, Redfield R, Salahuddin SZ, Gallo RC<br>[ID: 3489767]"
      ],
      "text/plain": [
       "<IPython.core.display.HTML object>"
      ]
     },
     "metadata": {},
     "output_type": "display_data"
    },
    {
     "name": "stdout",
     "output_type": "stream",
     "text": [
      "Score: \n",
      "1.0008534042101331\n"
     ]
    },
    {
     "data": {
      "text/html": [
       "<strong><a href=http://dx.doi.org/10.1177/0272989X9501500105>Validation of a decisional conflict scale.</a></strong><br>1995. O'Connor AM<br>[ID: 7898294]"
      ],
      "text/plain": [
       "<IPython.core.display.HTML object>"
      ]
     },
     "metadata": {},
     "output_type": "display_data"
    },
    {
     "name": "stdout",
     "output_type": "stream",
     "text": [
      "Score: \n",
      "1.000824163268623\n"
     ]
    },
    {
     "data": {
      "text/html": [
       "<strong>Complete structure of the hemagglutinin gene from the human influenza A/Victoria/3/75 (H3N2) strain as determined from cloned DNA.</strong><br>1980. Jou WM, Verhoeyen M, Devos R, Saman E, Fang R, Huylebroeck D, Fiers W, Threlfall G, Barber C, Carey N, Emtage S<br>[ID: 6153930]"
      ],
      "text/plain": [
       "<IPython.core.display.HTML object>"
      ]
     },
     "metadata": {},
     "output_type": "display_data"
    },
    {
     "name": "stdout",
     "output_type": "stream",
     "text": [
      "Score: \n",
      "1.0007618907415738\n"
     ]
    },
    {
     "data": {
      "text/html": [
       "<strong>Phenotypic analysis of antigen-specific T lymphocytes.</strong><br>1996. Altman JD, Moss PA, Goulder PJ, Barouch DH, McHeyzer-Williams MG, Bell JI, McMichael AJ, Davis MM<br>[ID: 8810254]"
      ],
      "text/plain": [
       "<IPython.core.display.HTML object>"
      ]
     },
     "metadata": {},
     "output_type": "display_data"
    },
    {
     "name": "stdout",
     "output_type": "stream",
     "text": [
      "Score: \n",
      "1.0007385575324634\n"
     ]
    }
   ],
   "source": [
    "# Add your code here\n",
    "def query_ntn_pagerank(query_string):\n",
    "    searchWords = preprocess(tokenize(query_string)) \n",
    "    results = set()\n",
    "    for word in searchWords:\n",
    "        currWordDocuments = inverted_index[word]\n",
    "        if len(results) == 0:\n",
    "            results = currWordDocuments\n",
    "        else:\n",
    "            results = results | currWordDocuments\n",
    "    sortedResults = list()\n",
    "    for result in results:\n",
    "         sortedResults.append((result, score_ntn_pagerank(searchWords, result)))\n",
    "    sortedResults.sort(key=lambda x: x[1])\n",
    "    return sortedResults\n",
    "\n",
    "display_summary(7299346)\n",
    "print(score_ntn_pagerank(preprocess(tokenize(\"idiotypy of clonal responses to influenze virus hemagglutinin\")), 7299346))\n",
    "\n",
    "results = query_ntn_pagerank(\"idiotypy of clonal responses to influenze virus hemagglutinin\")\n",
    "for i in range(min(10, len(results))):\n",
    "    display_summary(results[-i-1][0])\n",
    "    print(\"Score: \")\n",
    "    print(results[-i-1][1])"
   ]
  },
  {
   "cell_type": "markdown",
   "metadata": {},
   "source": [
    "# Submission"
   ]
  },
  {
   "cell_type": "markdown",
   "metadata": {},
   "source": [
    "Submit the answers to the assignment via Canvas as a modified version of this Notebook file (file with `.ipynb` extension) that includes your code and your answers.\n",
    "\n",
    "Before submitting, restart the kernel and re-run the complete code (**Kernel > Restart & Run All**), and then check whether your assignment code still works as expected.\n",
    "\n",
    "Don't forget to add your name, and remember that the assignments have to be done individually and group submissions are **not allowed**."
   ]
  }
 ],
 "metadata": {
  "kernelspec": {
   "display_name": "Python 3",
   "language": "python",
   "name": "python3"
  },
  "language_info": {
   "codemirror_mode": {
    "name": "ipython",
    "version": 3
   },
   "file_extension": ".py",
   "mimetype": "text/x-python",
   "name": "python",
   "nbconvert_exporter": "python",
   "pygments_lexer": "ipython3",
   "version": "3.6.6"
  }
 },
 "nbformat": 4,
 "nbformat_minor": 1
}
